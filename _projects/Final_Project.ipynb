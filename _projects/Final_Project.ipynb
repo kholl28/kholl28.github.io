---
layout: page
title: Period Prediction Tool using Python
img: assets/img/12.jpg
importance: 1
---

{
  "nbformat": 4,
  "nbformat_minor": 0,
  "metadata": {
    "colab": {
      "provenance": [],
      "collapsed_sections": [
        "gzmtCutO0IvV",
        "uVAy0Jz7i5Sf",
        "hHRZ4bTjlroy"
      ]
    },
    "kernelspec": {
      "name": "python3",
      "display_name": "Python 3"
    },
    "language_info": {
      "name": "python"
    }
  },
  "cells": [
    {
      "cell_type": "markdown",
      "source": [
        "# Menstrual Cycle Prediction Tool Using Age and BMI as Secondary Predictor Variables\n",
        "\n",
        "Author: Kai Holl"
      ],
      "metadata": {
        "id": "5eyRqQCsiGEM"
      }
    },
    {
      "cell_type": "markdown",
      "source": [
        "**Helpful Links**\n",
        "\n",
        "[Research Article](https://epublications.marquette.edu/cgi/viewcontent.cgi?article=1002&context=data_nfp)\n",
        "\n",
        "[Dataset](https://epublications.marquette.edu/data_nfp/7/)\n",
        "\n",
        "[Dataset (Kaggle)](https://www.kaggle.com/datasets/nikitabisht/menstrual-cycle-data/data)\n"
      ],
      "metadata": {
        "id": "NAUe0iw3aF6x"
      }
    },
    {
      "cell_type": "markdown",
      "source": [
        "**Still need to do:**\n",
        "\n",
        "- compute correlation of variables to the LengthofCycle column (age, BMI, etc.) (see Kaggle code)\n"
      ],
      "metadata": {
        "id": "E6v5-nkeE0jX"
      }
    },
    {
      "cell_type": "markdown",
      "source": [
        "# Importing required libraries"
      ],
      "metadata": {
        "id": "5GvwBu4Aq_nv"
      }
    },
    {
      "cell_type": "code",
      "source": [
        "import kagglehub\n",
        "import math\n",
        "import matplotlib.pyplot as plt\n",
        "import numpy as np\n",
        "import os\n",
        "import pandas as pd\n",
        "import pip\n",
        "import seaborn as sns\n",
        "import scipy\n",
        "import shutil"
      ],
      "metadata": {
        "id": "1XV29Vpeq-Fl",
        "colab": {
          "base_uri": "https://localhost:8080/"
        },
        "outputId": "e2bd3e2b-22e2-409c-9ea3-31362d607f15"
      },
      "execution_count": 1,
      "outputs": [
        {
          "output_type": "stream",
          "name": "stderr",
          "text": [
            "/usr/local/lib/python3.10/dist-packages/_distutils_hack/__init__.py:31: UserWarning: Setuptools is replacing distutils. Support for replacing an already imported distutils is deprecated. In the future, this condition will fail. Register concerns at https://github.com/pypa/setuptools/issues/new?template=distutils-deprecation.yml\n",
            "  warnings.warn(\n"
          ]
        }
      ]
    },
    {
      "cell_type": "code",
      "source": [
        "# import dataset\n",
        "df = pd.read_csv(\"FedCycleData071012.csv\")\n",
        "\n",
        "df.head()"
      ],
      "metadata": {
        "colab": {
          "base_uri": "https://localhost:8080/",
          "height": 255
        },
        "id": "YMKNTg3hqjv0",
        "outputId": "550b6aa0-a574-4d72-8357-e0e9567a45d6"
      },
      "execution_count": 2,
      "outputs": [
        {
          "output_type": "execute_result",
          "data": {
            "text/plain": [
              "  ClientID  CycleNumber  Group  CycleWithPeakorNot  ReproductiveCategory  \\\n",
              "0  nfp8122            1      0                   1                     0   \n",
              "1  nfp8122            2      0                   1                     0   \n",
              "2  nfp8122            3      0                   1                     0   \n",
              "3  nfp8122            4      0                   1                     0   \n",
              "4  nfp8122            5      0                   1                     0   \n",
              "\n",
              "   LengthofCycle MeanCycleLength EstimatedDayofOvulation LengthofLutealPhase  \\\n",
              "0             29           27.33                      17                  12   \n",
              "1             27                                      15                  12   \n",
              "2             29                                      15                  14   \n",
              "3             27                                      15                  12   \n",
              "4             28                                      16                  12   \n",
              "\n",
              "  FirstDayofHigh  ... Method Prevmethod Methoddate Whychart Nextpreg  \\\n",
              "0             12  ...      9                              2        7   \n",
              "1             13  ...                                                  \n",
              "2                 ...                                                  \n",
              "3             13  ...                                                  \n",
              "4             12  ...                                                  \n",
              "\n",
              "  NextpregM Spousesame SpousesameM Timeattemptpreg              BMI  \n",
              "0         7          1           1               0  21.254724111867  \n",
              "1                                                                    \n",
              "2                                                                    \n",
              "3                                                                    \n",
              "4                                                                    \n",
              "\n",
              "[5 rows x 80 columns]"
            ],
            "text/html": [
              "\n",
              "  <div id=\"df-e17ec31f-4445-42f4-a139-df5482fc5b4d\" class=\"colab-df-container\">\n",
              "    <div>\n",
              "<style scoped>\n",
              "    .dataframe tbody tr th:only-of-type {\n",
              "        vertical-align: middle;\n",
              "    }\n",
              "\n",
              "    .dataframe tbody tr th {\n",
              "        vertical-align: top;\n",
              "    }\n",
              "\n",
              "    .dataframe thead th {\n",
              "        text-align: right;\n",
              "    }\n",
              "</style>\n",
              "<table border=\"1\" class=\"dataframe\">\n",
              "  <thead>\n",
              "    <tr style=\"text-align: right;\">\n",
              "      <th></th>\n",
              "      <th>ClientID</th>\n",
              "      <th>CycleNumber</th>\n",
              "      <th>Group</th>\n",
              "      <th>CycleWithPeakorNot</th>\n",
              "      <th>ReproductiveCategory</th>\n",
              "      <th>LengthofCycle</th>\n",
              "      <th>MeanCycleLength</th>\n",
              "      <th>EstimatedDayofOvulation</th>\n",
              "      <th>LengthofLutealPhase</th>\n",
              "      <th>FirstDayofHigh</th>\n",
              "      <th>...</th>\n",
              "      <th>Method</th>\n",
              "      <th>Prevmethod</th>\n",
              "      <th>Methoddate</th>\n",
              "      <th>Whychart</th>\n",
              "      <th>Nextpreg</th>\n",
              "      <th>NextpregM</th>\n",
              "      <th>Spousesame</th>\n",
              "      <th>SpousesameM</th>\n",
              "      <th>Timeattemptpreg</th>\n",
              "      <th>BMI</th>\n",
              "    </tr>\n",
              "  </thead>\n",
              "  <tbody>\n",
              "    <tr>\n",
              "      <th>0</th>\n",
              "      <td>nfp8122</td>\n",
              "      <td>1</td>\n",
              "      <td>0</td>\n",
              "      <td>1</td>\n",
              "      <td>0</td>\n",
              "      <td>29</td>\n",
              "      <td>27.33</td>\n",
              "      <td>17</td>\n",
              "      <td>12</td>\n",
              "      <td>12</td>\n",
              "      <td>...</td>\n",
              "      <td>9</td>\n",
              "      <td></td>\n",
              "      <td></td>\n",
              "      <td>2</td>\n",
              "      <td>7</td>\n",
              "      <td>7</td>\n",
              "      <td>1</td>\n",
              "      <td>1</td>\n",
              "      <td>0</td>\n",
              "      <td>21.254724111867</td>\n",
              "    </tr>\n",
              "    <tr>\n",
              "      <th>1</th>\n",
              "      <td>nfp8122</td>\n",
              "      <td>2</td>\n",
              "      <td>0</td>\n",
              "      <td>1</td>\n",
              "      <td>0</td>\n",
              "      <td>27</td>\n",
              "      <td></td>\n",
              "      <td>15</td>\n",
              "      <td>12</td>\n",
              "      <td>13</td>\n",
              "      <td>...</td>\n",
              "      <td></td>\n",
              "      <td></td>\n",
              "      <td></td>\n",
              "      <td></td>\n",
              "      <td></td>\n",
              "      <td></td>\n",
              "      <td></td>\n",
              "      <td></td>\n",
              "      <td></td>\n",
              "      <td></td>\n",
              "    </tr>\n",
              "    <tr>\n",
              "      <th>2</th>\n",
              "      <td>nfp8122</td>\n",
              "      <td>3</td>\n",
              "      <td>0</td>\n",
              "      <td>1</td>\n",
              "      <td>0</td>\n",
              "      <td>29</td>\n",
              "      <td></td>\n",
              "      <td>15</td>\n",
              "      <td>14</td>\n",
              "      <td></td>\n",
              "      <td>...</td>\n",
              "      <td></td>\n",
              "      <td></td>\n",
              "      <td></td>\n",
              "      <td></td>\n",
              "      <td></td>\n",
              "      <td></td>\n",
              "      <td></td>\n",
              "      <td></td>\n",
              "      <td></td>\n",
              "      <td></td>\n",
              "    </tr>\n",
              "    <tr>\n",
              "      <th>3</th>\n",
              "      <td>nfp8122</td>\n",
              "      <td>4</td>\n",
              "      <td>0</td>\n",
              "      <td>1</td>\n",
              "      <td>0</td>\n",
              "      <td>27</td>\n",
              "      <td></td>\n",
              "      <td>15</td>\n",
              "      <td>12</td>\n",
              "      <td>13</td>\n",
              "      <td>...</td>\n",
              "      <td></td>\n",
              "      <td></td>\n",
              "      <td></td>\n",
              "      <td></td>\n",
              "      <td></td>\n",
              "      <td></td>\n",
              "      <td></td>\n",
              "      <td></td>\n",
              "      <td></td>\n",
              "      <td></td>\n",
              "    </tr>\n",
              "    <tr>\n",
              "      <th>4</th>\n",
              "      <td>nfp8122</td>\n",
              "      <td>5</td>\n",
              "      <td>0</td>\n",
              "      <td>1</td>\n",
              "      <td>0</td>\n",
              "      <td>28</td>\n",
              "      <td></td>\n",
              "      <td>16</td>\n",
              "      <td>12</td>\n",
              "      <td>12</td>\n",
              "      <td>...</td>\n",
              "      <td></td>\n",
              "      <td></td>\n",
              "      <td></td>\n",
              "      <td></td>\n",
              "      <td></td>\n",
              "      <td></td>\n",
              "      <td></td>\n",
              "      <td></td>\n",
              "      <td></td>\n",
              "      <td></td>\n",
              "    </tr>\n",
              "  </tbody>\n",
              "</table>\n",
              "<p>5 rows × 80 columns</p>\n",
              "</div>\n",
              "    <div class=\"colab-df-buttons\">\n",
              "\n",
              "  <div class=\"colab-df-container\">\n",
              "    <button class=\"colab-df-convert\" onclick=\"convertToInteractive('df-e17ec31f-4445-42f4-a139-df5482fc5b4d')\"\n",
              "            title=\"Convert this dataframe to an interactive table.\"\n",
              "            style=\"display:none;\">\n",
              "\n",
              "  <svg xmlns=\"http://www.w3.org/2000/svg\" height=\"24px\" viewBox=\"0 -960 960 960\">\n",
              "    <path d=\"M120-120v-720h720v720H120Zm60-500h600v-160H180v160Zm220 220h160v-160H400v160Zm0 220h160v-160H400v160ZM180-400h160v-160H180v160Zm440 0h160v-160H620v160ZM180-180h160v-160H180v160Zm440 0h160v-160H620v160Z\"/>\n",
              "  </svg>\n",
              "    </button>\n",
              "\n",
              "  <style>\n",
              "    .colab-df-container {\n",
              "      display:flex;\n",
              "      gap: 12px;\n",
              "    }\n",
              "\n",
              "    .colab-df-convert {\n",
              "      background-color: #E8F0FE;\n",
              "      border: none;\n",
              "      border-radius: 50%;\n",
              "      cursor: pointer;\n",
              "      display: none;\n",
              "      fill: #1967D2;\n",
              "      height: 32px;\n",
              "      padding: 0 0 0 0;\n",
              "      width: 32px;\n",
              "    }\n",
              "\n",
              "    .colab-df-convert:hover {\n",
              "      background-color: #E2EBFA;\n",
              "      box-shadow: 0px 1px 2px rgba(60, 64, 67, 0.3), 0px 1px 3px 1px rgba(60, 64, 67, 0.15);\n",
              "      fill: #174EA6;\n",
              "    }\n",
              "\n",
              "    .colab-df-buttons div {\n",
              "      margin-bottom: 4px;\n",
              "    }\n",
              "\n",
              "    [theme=dark] .colab-df-convert {\n",
              "      background-color: #3B4455;\n",
              "      fill: #D2E3FC;\n",
              "    }\n",
              "\n",
              "    [theme=dark] .colab-df-convert:hover {\n",
              "      background-color: #434B5C;\n",
              "      box-shadow: 0px 1px 3px 1px rgba(0, 0, 0, 0.15);\n",
              "      filter: drop-shadow(0px 1px 2px rgba(0, 0, 0, 0.3));\n",
              "      fill: #FFFFFF;\n",
              "    }\n",
              "  </style>\n",
              "\n",
              "    <script>\n",
              "      const buttonEl =\n",
              "        document.querySelector('#df-e17ec31f-4445-42f4-a139-df5482fc5b4d button.colab-df-convert');\n",
              "      buttonEl.style.display =\n",
              "        google.colab.kernel.accessAllowed ? 'block' : 'none';\n",
              "\n",
              "      async function convertToInteractive(key) {\n",
              "        const element = document.querySelector('#df-e17ec31f-4445-42f4-a139-df5482fc5b4d');\n",
              "        const dataTable =\n",
              "          await google.colab.kernel.invokeFunction('convertToInteractive',\n",
              "                                                    [key], {});\n",
              "        if (!dataTable) return;\n",
              "\n",
              "        const docLinkHtml = 'Like what you see? Visit the ' +\n",
              "          '<a target=\"_blank\" href=https://colab.research.google.com/notebooks/data_table.ipynb>data table notebook</a>'\n",
              "          + ' to learn more about interactive tables.';\n",
              "        element.innerHTML = '';\n",
              "        dataTable['output_type'] = 'display_data';\n",
              "        await google.colab.output.renderOutput(dataTable, element);\n",
              "        const docLink = document.createElement('div');\n",
              "        docLink.innerHTML = docLinkHtml;\n",
              "        element.appendChild(docLink);\n",
              "      }\n",
              "    </script>\n",
              "  </div>\n",
              "\n",
              "\n",
              "<div id=\"df-d98be0c2-c52d-469f-81d4-9c5c862153c3\">\n",
              "  <button class=\"colab-df-quickchart\" onclick=\"quickchart('df-d98be0c2-c52d-469f-81d4-9c5c862153c3')\"\n",
              "            title=\"Suggest charts\"\n",
              "            style=\"display:none;\">\n",
              "\n",
              "<svg xmlns=\"http://www.w3.org/2000/svg\" height=\"24px\"viewBox=\"0 0 24 24\"\n",
              "     width=\"24px\">\n",
              "    <g>\n",
              "        <path d=\"M19 3H5c-1.1 0-2 .9-2 2v14c0 1.1.9 2 2 2h14c1.1 0 2-.9 2-2V5c0-1.1-.9-2-2-2zM9 17H7v-7h2v7zm4 0h-2V7h2v10zm4 0h-2v-4h2v4z\"/>\n",
              "    </g>\n",
              "</svg>\n",
              "  </button>\n",
              "\n",
              "<style>\n",
              "  .colab-df-quickchart {\n",
              "      --bg-color: #E8F0FE;\n",
              "      --fill-color: #1967D2;\n",
              "      --hover-bg-color: #E2EBFA;\n",
              "      --hover-fill-color: #174EA6;\n",
              "      --disabled-fill-color: #AAA;\n",
              "      --disabled-bg-color: #DDD;\n",
              "  }\n",
              "\n",
              "  [theme=dark] .colab-df-quickchart {\n",
              "      --bg-color: #3B4455;\n",
              "      --fill-color: #D2E3FC;\n",
              "      --hover-bg-color: #434B5C;\n",
              "      --hover-fill-color: #FFFFFF;\n",
              "      --disabled-bg-color: #3B4455;\n",
              "      --disabled-fill-color: #666;\n",
              "  }\n",
              "\n",
              "  .colab-df-quickchart {\n",
              "    background-color: var(--bg-color);\n",
              "    border: none;\n",
              "    border-radius: 50%;\n",
              "    cursor: pointer;\n",
              "    display: none;\n",
              "    fill: var(--fill-color);\n",
              "    height: 32px;\n",
              "    padding: 0;\n",
              "    width: 32px;\n",
              "  }\n",
              "\n",
              "  .colab-df-quickchart:hover {\n",
              "    background-color: var(--hover-bg-color);\n",
              "    box-shadow: 0 1px 2px rgba(60, 64, 67, 0.3), 0 1px 3px 1px rgba(60, 64, 67, 0.15);\n",
              "    fill: var(--button-hover-fill-color);\n",
              "  }\n",
              "\n",
              "  .colab-df-quickchart-complete:disabled,\n",
              "  .colab-df-quickchart-complete:disabled:hover {\n",
              "    background-color: var(--disabled-bg-color);\n",
              "    fill: var(--disabled-fill-color);\n",
              "    box-shadow: none;\n",
              "  }\n",
              "\n",
              "  .colab-df-spinner {\n",
              "    border: 2px solid var(--fill-color);\n",
              "    border-color: transparent;\n",
              "    border-bottom-color: var(--fill-color);\n",
              "    animation:\n",
              "      spin 1s steps(1) infinite;\n",
              "  }\n",
              "\n",
              "  @keyframes spin {\n",
              "    0% {\n",
              "      border-color: transparent;\n",
              "      border-bottom-color: var(--fill-color);\n",
              "      border-left-color: var(--fill-color);\n",
              "    }\n",
              "    20% {\n",
              "      border-color: transparent;\n",
              "      border-left-color: var(--fill-color);\n",
              "      border-top-color: var(--fill-color);\n",
              "    }\n",
              "    30% {\n",
              "      border-color: transparent;\n",
              "      border-left-color: var(--fill-color);\n",
              "      border-top-color: var(--fill-color);\n",
              "      border-right-color: var(--fill-color);\n",
              "    }\n",
              "    40% {\n",
              "      border-color: transparent;\n",
              "      border-right-color: var(--fill-color);\n",
              "      border-top-color: var(--fill-color);\n",
              "    }\n",
              "    60% {\n",
              "      border-color: transparent;\n",
              "      border-right-color: var(--fill-color);\n",
              "    }\n",
              "    80% {\n",
              "      border-color: transparent;\n",
              "      border-right-color: var(--fill-color);\n",
              "      border-bottom-color: var(--fill-color);\n",
              "    }\n",
              "    90% {\n",
              "      border-color: transparent;\n",
              "      border-bottom-color: var(--fill-color);\n",
              "    }\n",
              "  }\n",
              "</style>\n",
              "\n",
              "  <script>\n",
              "    async function quickchart(key) {\n",
              "      const quickchartButtonEl =\n",
              "        document.querySelector('#' + key + ' button');\n",
              "      quickchartButtonEl.disabled = true;  // To prevent multiple clicks.\n",
              "      quickchartButtonEl.classList.add('colab-df-spinner');\n",
              "      try {\n",
              "        const charts = await google.colab.kernel.invokeFunction(\n",
              "            'suggestCharts', [key], {});\n",
              "      } catch (error) {\n",
              "        console.error('Error during call to suggestCharts:', error);\n",
              "      }\n",
              "      quickchartButtonEl.classList.remove('colab-df-spinner');\n",
              "      quickchartButtonEl.classList.add('colab-df-quickchart-complete');\n",
              "    }\n",
              "    (() => {\n",
              "      let quickchartButtonEl =\n",
              "        document.querySelector('#df-d98be0c2-c52d-469f-81d4-9c5c862153c3 button');\n",
              "      quickchartButtonEl.style.display =\n",
              "        google.colab.kernel.accessAllowed ? 'block' : 'none';\n",
              "    })();\n",
              "  </script>\n",
              "</div>\n",
              "\n",
              "    </div>\n",
              "  </div>\n"
            ],
            "application/vnd.google.colaboratory.intrinsic+json": {
              "type": "dataframe",
              "variable_name": "df"
            }
          },
          "metadata": {},
          "execution_count": 2
        }
      ]
    },
    {
      "cell_type": "markdown",
      "source": [
        "I also uploaded the final Final_Project.ipynb file into Session Storage in order to save it to the Final_Project .zip file that I create at the end of this file."
      ],
      "metadata": {
        "id": "HsleqHFcq7Bx"
      }
    },
    {
      "cell_type": "markdown",
      "source": [
        "# Dataset characteristics"
      ],
      "metadata": {
        "id": "GX3dD7nKsF9h"
      }
    },
    {
      "cell_type": "code",
      "source": [
        "df.shape"
      ],
      "metadata": {
        "id": "jBkNZXR0rLwH",
        "colab": {
          "base_uri": "https://localhost:8080/"
        },
        "outputId": "7b5fd7c2-7a4a-48d8-beb2-dd06b11cbf68"
      },
      "execution_count": 3,
      "outputs": [
        {
          "output_type": "execute_result",
          "data": {
            "text/plain": [
              "(1665, 80)"
            ]
          },
          "metadata": {},
          "execution_count": 3
        }
      ]
    },
    {
      "cell_type": "markdown",
      "source": [
        "The current uncleaned dataframe has 1665 rows and 80 columns."
      ],
      "metadata": {
        "id": "5fm1dyTYrOlh"
      }
    },
    {
      "cell_type": "code",
      "source": [
        "df.columns"
      ],
      "metadata": {
        "id": "fcC9G65wrlbi",
        "colab": {
          "base_uri": "https://localhost:8080/"
        },
        "outputId": "c4fbfd7b-45f3-4f98-961d-95327776c465"
      },
      "execution_count": 4,
      "outputs": [
        {
          "output_type": "execute_result",
          "data": {
            "text/plain": [
              "Index(['ClientID', 'CycleNumber', 'Group', 'CycleWithPeakorNot',\n",
              "       'ReproductiveCategory', 'LengthofCycle', 'MeanCycleLength',\n",
              "       'EstimatedDayofOvulation', 'LengthofLutealPhase', 'FirstDayofHigh',\n",
              "       'TotalNumberofHighDays', 'TotalHighPostPeak', 'TotalNumberofPeakDays',\n",
              "       'TotalDaysofFertility', 'TotalFertilityFormula', 'LengthofMenses',\n",
              "       'MeanMensesLength', 'MensesScoreDayOne', 'MensesScoreDayTwo',\n",
              "       'MensesScoreDayThree', 'MensesScoreDayFour', 'MensesScoreDayFive',\n",
              "       'MensesScoreDaySix', 'MensesScoreDaySeven', 'MensesScoreDayEight',\n",
              "       'MensesScoreDayNine', 'MensesScoreDayTen', 'MensesScoreDay11',\n",
              "       'MensesScoreDay12', 'MensesScoreDay13', 'MensesScoreDay14',\n",
              "       'MensesScoreDay15', 'TotalMensesScore', 'MeanBleedingIntensity',\n",
              "       'NumberofDaysofIntercourse', 'IntercourseInFertileWindow',\n",
              "       'UnusualBleeding', 'PhasesBleeding', 'IntercourseDuringUnusBleed',\n",
              "       'Age', 'AgeM', 'Maristatus', 'MaristatusM', 'Yearsmarried', 'Wedding',\n",
              "       'Religion', 'ReligionM', 'Ethnicity', 'EthnicityM', 'Schoolyears',\n",
              "       'SchoolyearsM', 'OccupationM', 'IncomeM', 'Height', 'Weight',\n",
              "       'Reprocate', 'Numberpreg', 'Livingkids', 'Miscarriages', 'Abortions',\n",
              "       'Medvits', 'Medvitexplain', 'Gynosurgeries', 'LivingkidsM', 'Boys',\n",
              "       'Girls', 'MedvitsM', 'MedvitexplainM', 'Urosurgeries', 'Breastfeeding',\n",
              "       'Method', 'Prevmethod', 'Methoddate', 'Whychart', 'Nextpreg',\n",
              "       'NextpregM', 'Spousesame', 'SpousesameM', 'Timeattemptpreg', 'BMI'],\n",
              "      dtype='object')"
            ]
          },
          "metadata": {},
          "execution_count": 4
        }
      ]
    },
    {
      "cell_type": "code",
      "source": [
        "type(df)"
      ],
      "metadata": {
        "id": "XE7qUWE0KRSn",
        "colab": {
          "base_uri": "https://localhost:8080/",
          "height": 204
        },
        "outputId": "876a7f3a-ebc0-4bd3-cd64-10cda86af925"
      },
      "execution_count": 5,
      "outputs": [
        {
          "output_type": "execute_result",
          "data": {
            "text/plain": [
              "pandas.core.frame.DataFrame"
            ],
            "text/html": [
              "<div style=\"max-width:800px; border: 1px solid var(--colab-border-color);\"><style>\n",
              "      pre.function-repr-contents {\n",
              "        overflow-x: auto;\n",
              "        padding: 8px 12px;\n",
              "        max-height: 500px;\n",
              "      }\n",
              "\n",
              "      pre.function-repr-contents.function-repr-contents-collapsed {\n",
              "        cursor: pointer;\n",
              "        max-height: 100px;\n",
              "      }\n",
              "    </style>\n",
              "    <pre style=\"white-space: initial; background:\n",
              "         var(--colab-secondary-surface-color); padding: 8px 12px;\n",
              "         border-bottom: 1px solid var(--colab-border-color);\"><b>pandas.core.frame.DataFrame</b><br/>def __init__(data=None, index: Axes | None=None, columns: Axes | None=None, dtype: Dtype | None=None, copy: bool | None=None) -&gt; None</pre><pre class=\"function-repr-contents function-repr-contents-collapsed\" style=\"\"><a class=\"filepath\" style=\"display:none\" href=\"#\">/usr/local/lib/python3.10/dist-packages/pandas/core/frame.py</a>Two-dimensional, size-mutable, potentially heterogeneous tabular data.\n",
              "\n",
              "Data structure also contains labeled axes (rows and columns).\n",
              "Arithmetic operations align on both row and column labels. Can be\n",
              "thought of as a dict-like container for Series objects. The primary\n",
              "pandas data structure.\n",
              "\n",
              "Parameters\n",
              "----------\n",
              "data : ndarray (structured or homogeneous), Iterable, dict, or DataFrame\n",
              "    Dict can contain Series, arrays, constants, dataclass or list-like objects. If\n",
              "    data is a dict, column order follows insertion-order. If a dict contains Series\n",
              "    which have an index defined, it is aligned by its index. This alignment also\n",
              "    occurs if data is a Series or a DataFrame itself. Alignment is done on\n",
              "    Series/DataFrame inputs.\n",
              "\n",
              "    If data is a list of dicts, column order follows insertion-order.\n",
              "\n",
              "index : Index or array-like\n",
              "    Index to use for resulting frame. Will default to RangeIndex if\n",
              "    no indexing information part of input data and no index provided.\n",
              "columns : Index or array-like\n",
              "    Column labels to use for resulting frame when data does not have them,\n",
              "    defaulting to RangeIndex(0, 1, 2, ..., n). If data contains column labels,\n",
              "    will perform column selection instead.\n",
              "dtype : dtype, default None\n",
              "    Data type to force. Only a single dtype is allowed. If None, infer.\n",
              "copy : bool or None, default None\n",
              "    Copy data from inputs.\n",
              "    For dict data, the default of None behaves like ``copy=True``.  For DataFrame\n",
              "    or 2d ndarray input, the default of None behaves like ``copy=False``.\n",
              "    If data is a dict containing one or more Series (possibly of different dtypes),\n",
              "    ``copy=False`` will ensure that these inputs are not copied.\n",
              "\n",
              "    .. versionchanged:: 1.3.0\n",
              "\n",
              "See Also\n",
              "--------\n",
              "DataFrame.from_records : Constructor from tuples, also record arrays.\n",
              "DataFrame.from_dict : From dicts of Series, arrays, or dicts.\n",
              "read_csv : Read a comma-separated values (csv) file into DataFrame.\n",
              "read_table : Read general delimited file into DataFrame.\n",
              "read_clipboard : Read text from clipboard into DataFrame.\n",
              "\n",
              "Notes\n",
              "-----\n",
              "Please reference the :ref:`User Guide &lt;basics.dataframe&gt;` for more information.\n",
              "\n",
              "Examples\n",
              "--------\n",
              "Constructing DataFrame from a dictionary.\n",
              "\n",
              "&gt;&gt;&gt; d = {&#x27;col1&#x27;: [1, 2], &#x27;col2&#x27;: [3, 4]}\n",
              "&gt;&gt;&gt; df = pd.DataFrame(data=d)\n",
              "&gt;&gt;&gt; df\n",
              "   col1  col2\n",
              "0     1     3\n",
              "1     2     4\n",
              "\n",
              "Notice that the inferred dtype is int64.\n",
              "\n",
              "&gt;&gt;&gt; df.dtypes\n",
              "col1    int64\n",
              "col2    int64\n",
              "dtype: object\n",
              "\n",
              "To enforce a single dtype:\n",
              "\n",
              "&gt;&gt;&gt; df = pd.DataFrame(data=d, dtype=np.int8)\n",
              "&gt;&gt;&gt; df.dtypes\n",
              "col1    int8\n",
              "col2    int8\n",
              "dtype: object\n",
              "\n",
              "Constructing DataFrame from a dictionary including Series:\n",
              "\n",
              "&gt;&gt;&gt; d = {&#x27;col1&#x27;: [0, 1, 2, 3], &#x27;col2&#x27;: pd.Series([2, 3], index=[2, 3])}\n",
              "&gt;&gt;&gt; pd.DataFrame(data=d, index=[0, 1, 2, 3])\n",
              "   col1  col2\n",
              "0     0   NaN\n",
              "1     1   NaN\n",
              "2     2   2.0\n",
              "3     3   3.0\n",
              "\n",
              "Constructing DataFrame from numpy ndarray:\n",
              "\n",
              "&gt;&gt;&gt; df2 = pd.DataFrame(np.array([[1, 2, 3], [4, 5, 6], [7, 8, 9]]),\n",
              "...                    columns=[&#x27;a&#x27;, &#x27;b&#x27;, &#x27;c&#x27;])\n",
              "&gt;&gt;&gt; df2\n",
              "   a  b  c\n",
              "0  1  2  3\n",
              "1  4  5  6\n",
              "2  7  8  9\n",
              "\n",
              "Constructing DataFrame from a numpy ndarray that has labeled columns:\n",
              "\n",
              "&gt;&gt;&gt; data = np.array([(1, 2, 3), (4, 5, 6), (7, 8, 9)],\n",
              "...                 dtype=[(&quot;a&quot;, &quot;i4&quot;), (&quot;b&quot;, &quot;i4&quot;), (&quot;c&quot;, &quot;i4&quot;)])\n",
              "&gt;&gt;&gt; df3 = pd.DataFrame(data, columns=[&#x27;c&#x27;, &#x27;a&#x27;])\n",
              "...\n",
              "&gt;&gt;&gt; df3\n",
              "   c  a\n",
              "0  3  1\n",
              "1  6  4\n",
              "2  9  7\n",
              "\n",
              "Constructing DataFrame from dataclass:\n",
              "\n",
              "&gt;&gt;&gt; from dataclasses import make_dataclass\n",
              "&gt;&gt;&gt; Point = make_dataclass(&quot;Point&quot;, [(&quot;x&quot;, int), (&quot;y&quot;, int)])\n",
              "&gt;&gt;&gt; pd.DataFrame([Point(0, 0), Point(0, 3), Point(2, 3)])\n",
              "   x  y\n",
              "0  0  0\n",
              "1  0  3\n",
              "2  2  3\n",
              "\n",
              "Constructing DataFrame from Series/DataFrame:\n",
              "\n",
              "&gt;&gt;&gt; ser = pd.Series([1, 2, 3], index=[&quot;a&quot;, &quot;b&quot;, &quot;c&quot;])\n",
              "&gt;&gt;&gt; df = pd.DataFrame(data=ser, index=[&quot;a&quot;, &quot;c&quot;])\n",
              "&gt;&gt;&gt; df\n",
              "   0\n",
              "a  1\n",
              "c  3\n",
              "\n",
              "&gt;&gt;&gt; df1 = pd.DataFrame([1, 2, 3], index=[&quot;a&quot;, &quot;b&quot;, &quot;c&quot;], columns=[&quot;x&quot;])\n",
              "&gt;&gt;&gt; df2 = pd.DataFrame(data=df1, index=[&quot;a&quot;, &quot;c&quot;])\n",
              "&gt;&gt;&gt; df2\n",
              "   x\n",
              "a  1\n",
              "c  3</pre>\n",
              "      <script>\n",
              "      if (google.colab.kernel.accessAllowed && google.colab.files && google.colab.files.view) {\n",
              "        for (const element of document.querySelectorAll('.filepath')) {\n",
              "          element.style.display = 'block'\n",
              "          element.onclick = (event) => {\n",
              "            event.preventDefault();\n",
              "            event.stopPropagation();\n",
              "            google.colab.files.view(element.textContent, 509);\n",
              "          };\n",
              "        }\n",
              "      }\n",
              "      for (const element of document.querySelectorAll('.function-repr-contents')) {\n",
              "        element.onclick = (event) => {\n",
              "          event.preventDefault();\n",
              "          event.stopPropagation();\n",
              "          element.classList.toggle('function-repr-contents-collapsed');\n",
              "        };\n",
              "      }\n",
              "      </script>\n",
              "      </div>"
            ]
          },
          "metadata": {},
          "execution_count": 5
        }
      ]
    },
    {
      "cell_type": "markdown",
      "source": [
        "# Cleaning the dataset"
      ],
      "metadata": {
        "id": "5XTZmL7Rruzh"
      }
    },
    {
      "cell_type": "markdown",
      "source": [
        "## Subsetting dataset columns"
      ],
      "metadata": {
        "id": "bbhwt2F1FHq5"
      }
    },
    {
      "cell_type": "markdown",
      "source": [
        "First, we are going to subset the dataset to only include the variables (columns) we are interested in.\n",
        "\n",
        "Information about these columns are listed below as well."
      ],
      "metadata": {
        "id": "mbullDhUr35h"
      }
    },
    {
      "cell_type": "code",
      "source": [
        "# specifying which columns of df we want to keep\n",
        "clean_df = df[[\"ClientID\", \"CycleNumber\", \"LengthofCycle\", \"MeanCycleLength\", \"EstimatedDayofOvulation\",\n",
        "             \"LengthofMenses\", \"MeanMensesLength\", \"Age\", \"Height\", \"Weight\", \"BMI\"]]"
      ],
      "metadata": {
        "id": "syrdTfVUDdRX"
      },
      "execution_count": 6,
      "outputs": []
    },
    {
      "cell_type": "markdown",
      "source": [
        "### Column information\n",
        "\n",
        "**ClientID:** Randomized ID for client anonymity\n",
        "\n",
        "The inclusion criteria for female partners of the couple participants were that they needed to be between the age of 18 and 42 years, have a stated menstrual cycle range of 21-42 days, have no history of hormonal contraceptives for the past 3 months and, if post breastfeeding, have experienced at least three cycles past weaning.\n",
        "\n",
        "**CycleNumber:** study lasted 12-months for a potential total of 13 cycles tracked for each participant (one cycle approx. every month)\n",
        "\n",
        "**LengthofCycle:** The menstrual cycle is the time from the first day of a woman's period to the day before her next period.\n",
        "\n",
        "**MeanCycleLength:** Average cycle length for each client, calculated from the length of each cycle tracked.\n",
        "\n",
        "The length of the menstrual cycle varies from woman to woman, but the average is to have periods around every 28 days.\n",
        "\n",
        "**EstimatedDayofOvulation:** The process when an ovary releases an egg. This usually happens once per menstrual cycle, around day 14 of a 28-day cycle.\n",
        "\n",
        "- A normal ovulation cycle lasts for about 24 hours each cycle.\n",
        "\n",
        "**LengthofMenses:** Length of menstruation (days where bleeding occurred).\n",
        "\n",
        "**MeanMensesLength:** Average length of menstruation, calculated from the length of each menstruation tracked.\n",
        "\n",
        "**Demographic Variables:**\n",
        "\n",
        "- Age\n",
        "- Height\n",
        "- Weight\n",
        "- BMI (calculated from height & weight)"
      ],
      "metadata": {
        "id": "iecNiVtksM4h"
      }
    },
    {
      "cell_type": "code",
      "source": [
        "clean_df[\"ClientID\"].nunique()"
      ],
      "metadata": {
        "colab": {
          "base_uri": "https://localhost:8080/"
        },
        "id": "UntSZlzLtTld",
        "outputId": "affb9ff3-0159-4926-8c4a-f5ca59cf40fc"
      },
      "execution_count": 7,
      "outputs": [
        {
          "output_type": "execute_result",
          "data": {
            "text/plain": [
              "159"
            ]
          },
          "metadata": {},
          "execution_count": 7
        }
      ]
    },
    {
      "cell_type": "markdown",
      "source": [
        "There are 159 unique Client IDs. Thus, the sample size for this DataFrame is 159 women between the ages of 18 and 42 years old."
      ],
      "metadata": {
        "id": "4WyxuRXitTy-"
      }
    },
    {
      "cell_type": "code",
      "source": [
        "clean_df.shape"
      ],
      "metadata": {
        "colab": {
          "base_uri": "https://localhost:8080/"
        },
        "id": "mLgtRqvIHQVT",
        "outputId": "5bb190ac-4776-4c58-8070-383b3387fc5c"
      },
      "execution_count": 8,
      "outputs": [
        {
          "output_type": "execute_result",
          "data": {
            "text/plain": [
              "(1665, 11)"
            ]
          },
          "metadata": {},
          "execution_count": 8
        }
      ]
    },
    {
      "cell_type": "markdown",
      "source": [
        "There are now 1,665 rows and 10 columns in our newly cleaned dataset."
      ],
      "metadata": {
        "id": "arJKFdDkHYLD"
      }
    },
    {
      "cell_type": "markdown",
      "source": [
        "## Changing class of variables"
      ],
      "metadata": {
        "id": "3OA7errFRGz9"
      }
    },
    {
      "cell_type": "markdown",
      "source": [
        "Let's change the variable classes for all of the columns other than \"ClientID\" to numeric so we can conduct descriptive statistics for them."
      ],
      "metadata": {
        "id": "IMTZ1wpgs0Fu"
      }
    },
    {
      "cell_type": "code",
      "source": [
        "clean_df.dtypes # see type() of all columns within clean_df"
      ],
      "metadata": {
        "colab": {
          "base_uri": "https://localhost:8080/",
          "height": 429
        },
        "id": "zk2d4C9RSbOA",
        "outputId": "bed91983-dd64-4668-ea13-1726a141d3d9"
      },
      "execution_count": 9,
      "outputs": [
        {
          "output_type": "execute_result",
          "data": {
            "text/plain": [
              "ClientID                   object\n",
              "CycleNumber                 int64\n",
              "LengthofCycle               int64\n",
              "MeanCycleLength            object\n",
              "EstimatedDayofOvulation    object\n",
              "LengthofMenses             object\n",
              "MeanMensesLength           object\n",
              "Age                        object\n",
              "Height                     object\n",
              "Weight                     object\n",
              "BMI                        object\n",
              "dtype: object"
            ],
            "text/html": [
              "<div>\n",
              "<style scoped>\n",
              "    .dataframe tbody tr th:only-of-type {\n",
              "        vertical-align: middle;\n",
              "    }\n",
              "\n",
              "    .dataframe tbody tr th {\n",
              "        vertical-align: top;\n",
              "    }\n",
              "\n",
              "    .dataframe thead th {\n",
              "        text-align: right;\n",
              "    }\n",
              "</style>\n",
              "<table border=\"1\" class=\"dataframe\">\n",
              "  <thead>\n",
              "    <tr style=\"text-align: right;\">\n",
              "      <th></th>\n",
              "      <th>0</th>\n",
              "    </tr>\n",
              "  </thead>\n",
              "  <tbody>\n",
              "    <tr>\n",
              "      <th>ClientID</th>\n",
              "      <td>object</td>\n",
              "    </tr>\n",
              "    <tr>\n",
              "      <th>CycleNumber</th>\n",
              "      <td>int64</td>\n",
              "    </tr>\n",
              "    <tr>\n",
              "      <th>LengthofCycle</th>\n",
              "      <td>int64</td>\n",
              "    </tr>\n",
              "    <tr>\n",
              "      <th>MeanCycleLength</th>\n",
              "      <td>object</td>\n",
              "    </tr>\n",
              "    <tr>\n",
              "      <th>EstimatedDayofOvulation</th>\n",
              "      <td>object</td>\n",
              "    </tr>\n",
              "    <tr>\n",
              "      <th>LengthofMenses</th>\n",
              "      <td>object</td>\n",
              "    </tr>\n",
              "    <tr>\n",
              "      <th>MeanMensesLength</th>\n",
              "      <td>object</td>\n",
              "    </tr>\n",
              "    <tr>\n",
              "      <th>Age</th>\n",
              "      <td>object</td>\n",
              "    </tr>\n",
              "    <tr>\n",
              "      <th>Height</th>\n",
              "      <td>object</td>\n",
              "    </tr>\n",
              "    <tr>\n",
              "      <th>Weight</th>\n",
              "      <td>object</td>\n",
              "    </tr>\n",
              "    <tr>\n",
              "      <th>BMI</th>\n",
              "      <td>object</td>\n",
              "    </tr>\n",
              "  </tbody>\n",
              "</table>\n",
              "</div><br><label><b>dtype:</b> object</label>"
            ]
          },
          "metadata": {},
          "execution_count": 9
        }
      ]
    },
    {
      "cell_type": "code",
      "source": [
        "# all columns besides ClientID need to be numeric class\n",
        "cols = [\"MeanCycleLength\", \"EstimatedDayofOvulation\", \"LengthofMenses\", \"MeanMensesLength\",\n",
        "        \"Age\", \"Height\", \"Weight\", \"BMI\"]\n",
        "clean_df[cols] = clean_df[cols].apply(pd.to_numeric, errors='coerce') # coerce cols to numeric\n",
        "\n",
        "clean_df.dtypes # checking work"
      ],
      "metadata": {
        "colab": {
          "base_uri": "https://localhost:8080/",
          "height": 553
        },
        "id": "8atKca6JRM43",
        "outputId": "12b585cd-e2c4-448d-b7df-c27e212b649d"
      },
      "execution_count": 10,
      "outputs": [
        {
          "output_type": "stream",
          "name": "stderr",
          "text": [
            "<ipython-input-10-717694fd213c>:4: SettingWithCopyWarning: \n",
            "A value is trying to be set on a copy of a slice from a DataFrame.\n",
            "Try using .loc[row_indexer,col_indexer] = value instead\n",
            "\n",
            "See the caveats in the documentation: https://pandas.pydata.org/pandas-docs/stable/user_guide/indexing.html#returning-a-view-versus-a-copy\n",
            "  clean_df[cols] = clean_df[cols].apply(pd.to_numeric, errors='coerce') # coerce cols to numeric\n"
          ]
        },
        {
          "output_type": "execute_result",
          "data": {
            "text/plain": [
              "ClientID                    object\n",
              "CycleNumber                  int64\n",
              "LengthofCycle                int64\n",
              "MeanCycleLength            float64\n",
              "EstimatedDayofOvulation    float64\n",
              "LengthofMenses             float64\n",
              "MeanMensesLength           float64\n",
              "Age                        float64\n",
              "Height                     float64\n",
              "Weight                     float64\n",
              "BMI                        float64\n",
              "dtype: object"
            ],
            "text/html": [
              "<div>\n",
              "<style scoped>\n",
              "    .dataframe tbody tr th:only-of-type {\n",
              "        vertical-align: middle;\n",
              "    }\n",
              "\n",
              "    .dataframe tbody tr th {\n",
              "        vertical-align: top;\n",
              "    }\n",
              "\n",
              "    .dataframe thead th {\n",
              "        text-align: right;\n",
              "    }\n",
              "</style>\n",
              "<table border=\"1\" class=\"dataframe\">\n",
              "  <thead>\n",
              "    <tr style=\"text-align: right;\">\n",
              "      <th></th>\n",
              "      <th>0</th>\n",
              "    </tr>\n",
              "  </thead>\n",
              "  <tbody>\n",
              "    <tr>\n",
              "      <th>ClientID</th>\n",
              "      <td>object</td>\n",
              "    </tr>\n",
              "    <tr>\n",
              "      <th>CycleNumber</th>\n",
              "      <td>int64</td>\n",
              "    </tr>\n",
              "    <tr>\n",
              "      <th>LengthofCycle</th>\n",
              "      <td>int64</td>\n",
              "    </tr>\n",
              "    <tr>\n",
              "      <th>MeanCycleLength</th>\n",
              "      <td>float64</td>\n",
              "    </tr>\n",
              "    <tr>\n",
              "      <th>EstimatedDayofOvulation</th>\n",
              "      <td>float64</td>\n",
              "    </tr>\n",
              "    <tr>\n",
              "      <th>LengthofMenses</th>\n",
              "      <td>float64</td>\n",
              "    </tr>\n",
              "    <tr>\n",
              "      <th>MeanMensesLength</th>\n",
              "      <td>float64</td>\n",
              "    </tr>\n",
              "    <tr>\n",
              "      <th>Age</th>\n",
              "      <td>float64</td>\n",
              "    </tr>\n",
              "    <tr>\n",
              "      <th>Height</th>\n",
              "      <td>float64</td>\n",
              "    </tr>\n",
              "    <tr>\n",
              "      <th>Weight</th>\n",
              "      <td>float64</td>\n",
              "    </tr>\n",
              "    <tr>\n",
              "      <th>BMI</th>\n",
              "      <td>float64</td>\n",
              "    </tr>\n",
              "  </tbody>\n",
              "</table>\n",
              "</div><br><label><b>dtype:</b> object</label>"
            ]
          },
          "metadata": {},
          "execution_count": 10
        }
      ]
    },
    {
      "cell_type": "markdown",
      "source": [
        "However, we don't want the \"Age\" column to be coded as float class.\n",
        "\n",
        "As you can see in the below input, the values of \"Age\" have decimal places at the end even though this is not necessary (since \"Age\" is almost always considered an integer variable).\n",
        "\n"
      ],
      "metadata": {
        "id": "J6txgTr5bHLg"
      }
    },
    {
      "cell_type": "code",
      "source": [
        "clean_df[\"Age\"].unique()"
      ],
      "metadata": {
        "colab": {
          "base_uri": "https://localhost:8080/"
        },
        "id": "uepk0lfSbSkj",
        "outputId": "32d0200f-ef52-4792-8da9-0338f198942e"
      },
      "execution_count": 11,
      "outputs": [
        {
          "output_type": "execute_result",
          "data": {
            "text/plain": [
              "array([36., nan, 39., 29., 26., 25., 23., 33., 30., 31., 24., 27., 35.,\n",
              "       37., 32., 38., 21., 34., 22., 28., 43., 41., 40., 42.])"
            ]
          },
          "metadata": {},
          "execution_count": 11
        }
      ]
    },
    {
      "cell_type": "markdown",
      "source": [
        "Let's use the ```.astype()``` function to convert \"Age\" to an \"Int64\" type."
      ],
      "metadata": {
        "id": "XbMi0297b1_5"
      }
    },
    {
      "cell_type": "code",
      "source": [
        "clean_df[\"Age\"] = clean_df[\"Age\"].astype('Int64')\n",
        "\n",
        "clean_df[\"Age\"].unique() # checking work"
      ],
      "metadata": {
        "colab": {
          "base_uri": "https://localhost:8080/"
        },
        "id": "UtEcayssbHtk",
        "outputId": "74612742-4e26-4352-a7db-219cb9f53792"
      },
      "execution_count": 12,
      "outputs": [
        {
          "output_type": "stream",
          "name": "stderr",
          "text": [
            "<ipython-input-12-ddfd25dd80ed>:1: SettingWithCopyWarning: \n",
            "A value is trying to be set on a copy of a slice from a DataFrame.\n",
            "Try using .loc[row_indexer,col_indexer] = value instead\n",
            "\n",
            "See the caveats in the documentation: https://pandas.pydata.org/pandas-docs/stable/user_guide/indexing.html#returning-a-view-versus-a-copy\n",
            "  clean_df[\"Age\"] = clean_df[\"Age\"].astype('Int64')\n"
          ]
        },
        {
          "output_type": "execute_result",
          "data": {
            "text/plain": [
              "<IntegerArray>\n",
              "[  36, <NA>,   39,   29,   26,   25,   23,   33,   30,   31,   24,   27,   35,\n",
              "   37,   32,   38,   21,   34,   22,   28,   43,   41,   40,   42]\n",
              "Length: 24, dtype: Int64"
            ]
          },
          "metadata": {},
          "execution_count": 12
        }
      ]
    },
    {
      "cell_type": "markdown",
      "source": [
        "## Changing empty values to nan"
      ],
      "metadata": {
        "id": "LKu2_Dr0r1-p"
      }
    },
    {
      "cell_type": "markdown",
      "source": [
        "First, let's see what unique values exist for all of the variables within our clean_df DataFrame."
      ],
      "metadata": {
        "id": "hS8gnoJxSy-_"
      }
    },
    {
      "cell_type": "code",
      "source": [
        "for cols in clean_df.columns:\n",
        "    print(f\"{cols} : \\n {clean_df[cols].unique()} \\n \\n\")"
      ],
      "metadata": {
        "id": "fyLPu_K9u_Vn",
        "colab": {
          "base_uri": "https://localhost:8080/"
        },
        "outputId": "e90fff43-5a54-4335-bf6c-82d63e949e71"
      },
      "execution_count": 13,
      "outputs": [
        {
          "output_type": "stream",
          "name": "stdout",
          "text": [
            "ClientID : \n",
            " ['nfp8122' 'nfp8114' 'nfp8109' 'nfp8107' 'nfp8106' 'nfp8024' 'nfp8020'\n",
            " 'nfp8026' 'nfp8030' 'nfp8031' 'nfp8032' 'nfp8034' 'nfp8036' 'nfp8040'\n",
            " 'nfp8041' 'nfp8042' 'nfp8043' 'nfp8045' 'nfp8046' 'nfp8047' 'nfp8049'\n",
            " 'nfp8050' 'nfp8051' 'nfp8057' 'nfp8058' 'nfp8060' 'nfp8062' 'nfp8063'\n",
            " 'nfp8064' 'nfp8066' 'nfp8068' 'nfp8069' 'nfp8072' 'nfp8073' 'nfp8074'\n",
            " 'nfp8076' 'nfp8079' 'nfp8080' 'nfp8083' 'nfp8085' 'nfp8087' 'nfp8091'\n",
            " 'nfp8094' 'nfp8099' 'nfp8100' 'nfp8101' 'nfp8102' 'nfp8110' 'nfp8113'\n",
            " 'nfp8116' 'nfp8123' 'nfp8124' 'nfp8129' 'nfp8131' 'nfp8133' 'nfp8137'\n",
            " 'nfp8140' 'nfp8143' 'nfp8144' 'nfp8149' 'nfp8150' 'nfp8152' 'nfp8154'\n",
            " 'nfp8155' 'nfp8159' 'nfp8161' 'nfp8164' 'nfp8165' 'nfp8168' 'nfp8172'\n",
            " 'nfp8173' 'nfp8174' 'nfp8176' 'nfp8177' 'nfp8178' 'nfp8179' 'nfp8184'\n",
            " 'nfp8186' 'nfp8187' 'nfp8188' 'nfp8189' 'nfp8190' 'nfp8192' 'nfp8193'\n",
            " 'nfp8195' 'nfp8196' 'nfp8197' 'nfp8200' 'nfp8206' 'nfp8207' 'nfp8209'\n",
            " 'nfp8210' 'nfp8211' 'nfp8212' 'nfp8218' 'nfp8221' 'nfp8223' 'nfp8226'\n",
            " 'nfp8228' 'nfp8229' 'nfp8230' 'nfp8233' 'nfp8234' 'nfp8235' 'nfp8236'\n",
            " 'nfp8237' 'nfp8238' 'nfp8240' 'nfp8242' 'nfp8244' 'nfp8246' 'nfp8247'\n",
            " 'nfp8248' 'nfp8249' 'nfp8252' 'nfp8253' 'nfp8254' 'nfp8257' 'nfp8260'\n",
            " 'nfp8263' 'nfp8264' 'nfp8266' 'nfp8268' 'nfp8269' 'nfp8270' 'nfp8271'\n",
            " 'nfp8272' 'nfp8276' 'nfp8278' 'nfp8279' 'nfp8281' 'nfp8282' 'nfp8284'\n",
            " 'nfp8286' 'nfp8288' 'nfp8289' 'nfp8290' 'nfp8292' 'nfp8293' 'nfp8294'\n",
            " 'nfp8296' 'nfp8298' 'nfp8299' 'nfp8302' 'nfp8303' 'nfp8305' 'nfp8306'\n",
            " 'nfp8308' 'nfp8309' 'nfp8310' 'nfp8311' 'nfp8312' 'nfp8313' 'nfp8317'\n",
            " 'nfp8322' 'nfp8323' 'nfp8324' 'nfp8328' 'nfp8334'] \n",
            " \n",
            "\n",
            "CycleNumber : \n",
            " [ 1  2  3  4  5  6  7  8  9 10 11 12 13 14 15 16 17 18 19 20 21 22 23 24\n",
            " 25 26 27 28 29 30 31 32 33 34 35 36 37 38 39 40 41 42 43 44 45] \n",
            " \n",
            "\n",
            "LengthofCycle : \n",
            " [29 27 28 26 24 30 25 32 31 34 23 18 33 35 41 38 36 39 37 40 21 48 22 43\n",
            " 45 54 42 20 44 49 19 51] \n",
            " \n",
            "\n",
            "MeanCycleLength : \n",
            " [27.33   nan 31.   26.33 26.88 25.33 28.75 25.88 27.67 26.75 27.17 32.83\n",
            " 33.5  32.6  29.   30.36 31.33 27.58 29.9  25.15 27.   32.   29.4  27.43\n",
            " 28.77 27.62 30.64 29.67 25.8  25.23 29.5  34.07 30.92 30.25 28.46 28.15\n",
            " 40.   33.92 27.46 26.69 26.38 26.42 27.08 30.75 31.75 28.23 33.38 30.15\n",
            " 26.25 33.46 26.77 38.81 31.4  27.36 25.7  31.55 37.17 30.83 31.17 27.15\n",
            " 27.4  35.95 31.26 27.78 30.93 25.4  26.71 29.82 27.5  26.85 30.94 33.83\n",
            " 26.5  25.5  26.27 28.17 27.29 27.75 30.5  30.   31.14 29.1  24.   26.78\n",
            " 39.   36.33 25.85 31.6  29.62 37.   29.38 32.25 34.5  31.45 33.47 27.92\n",
            " 27.9  26.   26.58 30.42 32.07 33.   26.94 28.54 29.63] \n",
            " \n",
            "\n",
            "EstimatedDayofOvulation : \n",
            " [17. 15. 16. 14. 18. 12. 19. nan 11. 13. 27. 22.  8. 20. 21. 23. 10. 26.\n",
            " 24. 29.  9. 25. 28.  6.] \n",
            " \n",
            "\n",
            "LengthofMenses : \n",
            " [ 5.  4.  6.  7. 10.  3.  8.  2.  9. 11. nan 15.] \n",
            " \n",
            "\n",
            "MeanMensesLength : \n",
            " [4.49  nan 4.5  6.67 4.75 4.33 4.67 5.31 6.   5.63 5.33 5.5  5.2  4.63\n",
            " 5.45 6.42 6.5  3.92 5.   5.14 6.23 5.54 7.   3.9  4.69 4.25 7.14 4.38\n",
            " 4.   3.67 3.23 4.46 5.69 4.54 2.85 6.75 8.58 5.62 5.67 4.77 6.38 4.45\n",
            " 5.8  5.21 6.45 3.83 4.83 5.25 4.22 6.07 2.4  6.21 5.08 5.12 6.25 5.92\n",
            " 3.94 4.17 6.88 5.75 3.5  6.86 5.17 5.89 5.84 5.6  7.46 8.25 5.16 6.53\n",
            " 4.7  4.92 7.08 5.73 5.64 4.47 4.85] \n",
            " \n",
            "\n",
            "Age : \n",
            " <IntegerArray>\n",
            "[  36, <NA>,   39,   29,   26,   25,   23,   33,   30,   31,   24,   27,   35,\n",
            "   37,   32,   38,   21,   34,   22,   28,   43,   41,   40,   42]\n",
            "Length: 24, dtype: Int64 \n",
            " \n",
            "\n",
            "Height : \n",
            " [63. nan 68. 66. 71. 65. 67. 72. 69. 70. 64. 62. 61. 60. 59.] \n",
            " \n",
            "\n",
            "Weight : \n",
            " [120.  nan 185. 180. 200. 150. 155. 137. 135. 136. 178. 106. 130. 187.\n",
            " 168. 170. 175. 220.  95. 209. 110. 115. 141. 201. 160. 190. 145. 300.\n",
            " 260. 194. 125. 179. 165. 189. 140. 122. 124. 157.   0. 268. 128. 214.\n",
            " 161. 127. 138. 116. 132. 104. 195. 123. 117. 240. 152. 112. 146. 114.\n",
            " 121.] \n",
            " \n",
            "\n",
            "BMI : \n",
            " [21.25472411         nan 28.12608131 29.04958678 27.89129141 24.95857988\n",
            " 25.79053254 21.45488973 22.46272189 21.94857668 22.62911243 24.13850309\n",
            " 18.7750063  19.19554715 29.95029586 29.28514146 24.10285714 30.11085916\n",
            " 27.40588104 37.75878906 16.82665659 38.96699421 19.96686391 34.7756213\n",
            " 29.17724609 20.11706556 20.59570312 18.00957897 25.84558824 25.7864204\n",
            " 31.47761194 24.32525952 34.74765869 26.51795005 49.91715976 21.14167966\n",
            " 22.31201172 38.39109431 25.82185491 20.02633701 23.17016602 35.47918835\n",
            " 25.8244898  22.86030177 28.88820018 26.62878788 37.10277778 28.33963215\n",
            " 34.56477627 24.79717813 21.60896951 26.62248521 18.85207612 26.25395001\n",
            " 18.79260414 22.52469388 43.25160698 19.46020761 29.85651974 36.72900391\n",
            " 24.36357908 26.78887574 20.49609734 35.42454019 20.52443772 20.37681159\n",
            " 21.45385742 19.36639118 21.9458897  24.12662722 22.14870825 20.54623331\n",
            " 18.55945822 20.67186456 19.64848159 27.97653061 25.74462891 22.88699853\n",
            " 20.4660355  20.80306122 27.45401864 18.8822314  22.59412305 21.78719008\n",
            " 33.46954969 25.8398307  20.17332415 21.28222656 19.73754883 19.93383743\n",
            " 21.03147763 25.29136095 20.93896484 23.49075518 30.66345271 23.56509516\n",
            " 20.48283039 20.94653061 23.02595112 24.68912591 25.10216227 30.26805556\n",
            " 26.62285587 22.10996327 25.10186936 22.19679931 21.92470483 22.26166667\n",
            " 25.68279164 34.32617188 21.63076923 24.43636886] \n",
            " \n",
            "\n"
          ]
        }
      ]
    },
    {
      "cell_type": "markdown",
      "source": [
        "The values appearing as whitespace \" \" in the above output are missing values, which are present in almost all columns of the dataset.\n",
        "\n",
        "So, let's replace them with nan to prevent confusion."
      ],
      "metadata": {
        "id": "C3KyfXcOv5D3"
      }
    },
    {
      "cell_type": "code",
      "source": [
        "# replace empty values in dataset with nan\n",
        "clean_df = clean_df.replace(' ', np.nan)\n",
        "\n",
        "# Save the updated DataFrame to the CSV file\n",
        "with open(\"clean_df.csv\", \"a\") as fp:  # appending to clean_df.csv\n",
        "    fp.write(clean_df.to_csv(index=False))"
      ],
      "metadata": {
        "id": "Iq_NN6TWwKHA"
      },
      "execution_count": 14,
      "outputs": []
    },
    {
      "cell_type": "markdown",
      "source": [
        "Now let's find the **number** of missing values in all the columns."
      ],
      "metadata": {
        "id": "bk0711D9wOAN"
      }
    },
    {
      "cell_type": "code",
      "source": [
        "clean_df.isnull().sum()"
      ],
      "metadata": {
        "id": "46GkiDhNwS4s",
        "colab": {
          "base_uri": "https://localhost:8080/",
          "height": 429
        },
        "outputId": "b3a98978-de63-48a2-bf31-82659fcd9f34"
      },
      "execution_count": 15,
      "outputs": [
        {
          "output_type": "execute_result",
          "data": {
            "text/plain": [
              "ClientID                      0\n",
              "CycleNumber                   0\n",
              "LengthofCycle                 0\n",
              "MeanCycleLength            1524\n",
              "EstimatedDayofOvulation     150\n",
              "LengthofMenses                4\n",
              "MeanMensesLength           1524\n",
              "Age                        1523\n",
              "Height                     1532\n",
              "Weight                     1531\n",
              "BMI                        1534\n",
              "dtype: int64"
            ],
            "text/html": [
              "<div>\n",
              "<style scoped>\n",
              "    .dataframe tbody tr th:only-of-type {\n",
              "        vertical-align: middle;\n",
              "    }\n",
              "\n",
              "    .dataframe tbody tr th {\n",
              "        vertical-align: top;\n",
              "    }\n",
              "\n",
              "    .dataframe thead th {\n",
              "        text-align: right;\n",
              "    }\n",
              "</style>\n",
              "<table border=\"1\" class=\"dataframe\">\n",
              "  <thead>\n",
              "    <tr style=\"text-align: right;\">\n",
              "      <th></th>\n",
              "      <th>0</th>\n",
              "    </tr>\n",
              "  </thead>\n",
              "  <tbody>\n",
              "    <tr>\n",
              "      <th>ClientID</th>\n",
              "      <td>0</td>\n",
              "    </tr>\n",
              "    <tr>\n",
              "      <th>CycleNumber</th>\n",
              "      <td>0</td>\n",
              "    </tr>\n",
              "    <tr>\n",
              "      <th>LengthofCycle</th>\n",
              "      <td>0</td>\n",
              "    </tr>\n",
              "    <tr>\n",
              "      <th>MeanCycleLength</th>\n",
              "      <td>1524</td>\n",
              "    </tr>\n",
              "    <tr>\n",
              "      <th>EstimatedDayofOvulation</th>\n",
              "      <td>150</td>\n",
              "    </tr>\n",
              "    <tr>\n",
              "      <th>LengthofMenses</th>\n",
              "      <td>4</td>\n",
              "    </tr>\n",
              "    <tr>\n",
              "      <th>MeanMensesLength</th>\n",
              "      <td>1524</td>\n",
              "    </tr>\n",
              "    <tr>\n",
              "      <th>Age</th>\n",
              "      <td>1523</td>\n",
              "    </tr>\n",
              "    <tr>\n",
              "      <th>Height</th>\n",
              "      <td>1532</td>\n",
              "    </tr>\n",
              "    <tr>\n",
              "      <th>Weight</th>\n",
              "      <td>1531</td>\n",
              "    </tr>\n",
              "    <tr>\n",
              "      <th>BMI</th>\n",
              "      <td>1534</td>\n",
              "    </tr>\n",
              "  </tbody>\n",
              "</table>\n",
              "</div><br><label><b>dtype:</b> int64</label>"
            ]
          },
          "metadata": {},
          "execution_count": 15
        }
      ]
    },
    {
      "cell_type": "code",
      "source": [
        "clean_df.shape # 1665"
      ],
      "metadata": {
        "colab": {
          "base_uri": "https://localhost:8080/"
        },
        "id": "6Rib9OjUbsTa",
        "outputId": "2bbf299d-5c04-4720-eb2a-941b9b6db036"
      },
      "execution_count": 16,
      "outputs": [
        {
          "output_type": "execute_result",
          "data": {
            "text/plain": [
              "(1665, 11)"
            ]
          },
          "metadata": {},
          "execution_count": 16
        }
      ]
    },
    {
      "cell_type": "markdown",
      "source": [
        "This output is helpful, but it is hard to tell how many of the 80 columns in our dataset have missing values compared to how many that do not. Thus, it would be even more helpful for us to write a function whose output will be a list of the columns with missing values and a list of the columns without."
      ],
      "metadata": {
        "id": "6A8svaDMwZG4"
      }
    },
    {
      "cell_type": "code",
      "source": [
        "# create an empty container for columns with missing values\n",
        "missing_cols = []\n",
        "# create an empty container for columns *without* missing values\n",
        "no_missing_cols = []\n",
        "\n",
        "# create a for loop\n",
        "for cols in clean_df.columns:\n",
        "    if clean_df[cols].isnull().sum() == 0:\n",
        "        no_missing_cols.append(cols) # if sum of missing values is 0, add column name to no_missing_cols\n",
        "    else: # if sum of missing values if not 0\n",
        "        missing_cols.append(cols) # if sum of missing values is not 0, add column name to missing_cols\n",
        "\n",
        "# print(missing_cols)\n",
        "# print(no_missing_cols)\n",
        "\n",
        "# names of columns\n",
        "print(\"Columns WITH missing values: \", missing_cols)\n",
        "print(\"Columns without any missing values: \", no_missing_cols)"
      ],
      "metadata": {
        "id": "CRiMzZ4-xI5r",
        "colab": {
          "base_uri": "https://localhost:8080/"
        },
        "outputId": "a16b2df9-2cdd-47e4-c2fd-6720cb4b26ce"
      },
      "execution_count": 17,
      "outputs": [
        {
          "output_type": "stream",
          "name": "stdout",
          "text": [
            "Columns WITH missing values:  ['MeanCycleLength', 'EstimatedDayofOvulation', 'LengthofMenses', 'MeanMensesLength', 'Age', 'Height', 'Weight', 'BMI']\n",
            "Columns without any missing values:  ['ClientID', 'CycleNumber', 'LengthofCycle']\n"
          ]
        }
      ]
    },
    {
      "cell_type": "markdown",
      "source": [
        "So, that's 5 columns with missing values and 3 columns without missing values.\n",
        "\n",
        "However, it makes sense that the \"MeanCycleLength\",  \"MeanMensesLength\", and demographic columns (\"Age\", \"Height\", \"Weight\", \"BMI) having missing values, since there is only one of these values for each Client in the dataset.\n",
        "x\n",
        "Thus, the missing values within \"EstimatedDayofOvulation\",  and \"LengthofMenses\" is what we are really concerned with."
      ],
      "metadata": {
        "id": "-HfVr9-WTcdV"
      }
    },
    {
      "cell_type": "code",
      "source": [
        "# find what percentage of each variable are missing values\n",
        "null = clean_df.isnull().sum().sort_values(ascending=False)\n",
        "null_per = ((clean_df.isnull().sum()) / (clean_df.shape[0])).sort_values(ascending=False)*100.\n",
        "\n",
        "print(null_per)"
      ],
      "metadata": {
        "id": "rYjj4J3jK4JO",
        "colab": {
          "base_uri": "https://localhost:8080/"
        },
        "outputId": "eaf8848c-2299-4ca6-b107-396f32bc02a3"
      },
      "execution_count": 18,
      "outputs": [
        {
          "output_type": "stream",
          "name": "stdout",
          "text": [
            "BMI                        92.132132\n",
            "Height                     92.012012\n",
            "Weight                     91.951952\n",
            "MeanCycleLength            91.531532\n",
            "MeanMensesLength           91.531532\n",
            "Age                        91.471471\n",
            "EstimatedDayofOvulation     9.009009\n",
            "LengthofMenses              0.240240\n",
            "ClientID                    0.000000\n",
            "CycleNumber                 0.000000\n",
            "LengthofCycle               0.000000\n",
            "dtype: float64\n"
          ]
        }
      ]
    },
    {
      "cell_type": "code",
      "source": [
        "clean_df.head()"
      ],
      "metadata": {
        "colab": {
          "base_uri": "https://localhost:8080/",
          "height": 226
        },
        "id": "aswOkYmXNJlc",
        "outputId": "d76d2d2b-340c-411a-bf3b-6e860954d2d2"
      },
      "execution_count": 19,
      "outputs": [
        {
          "output_type": "execute_result",
          "data": {
            "text/plain": [
              "  ClientID  CycleNumber  LengthofCycle  MeanCycleLength  \\\n",
              "0  nfp8122            1             29            27.33   \n",
              "1  nfp8122            2             27              NaN   \n",
              "2  nfp8122            3             29              NaN   \n",
              "3  nfp8122            4             27              NaN   \n",
              "4  nfp8122            5             28              NaN   \n",
              "\n",
              "   EstimatedDayofOvulation  LengthofMenses  MeanMensesLength   Age  Height  \\\n",
              "0                     17.0             5.0              4.49    36    63.0   \n",
              "1                     15.0             5.0               NaN  <NA>     NaN   \n",
              "2                     15.0             5.0               NaN  <NA>     NaN   \n",
              "3                     15.0             5.0               NaN  <NA>     NaN   \n",
              "4                     16.0             5.0               NaN  <NA>     NaN   \n",
              "\n",
              "   Weight        BMI  \n",
              "0   120.0  21.254724  \n",
              "1     NaN        NaN  \n",
              "2     NaN        NaN  \n",
              "3     NaN        NaN  \n",
              "4     NaN        NaN  "
            ],
            "text/html": [
              "\n",
              "  <div id=\"df-9460484c-92b1-41fe-8f41-76dff7e6f454\" class=\"colab-df-container\">\n",
              "    <div>\n",
              "<style scoped>\n",
              "    .dataframe tbody tr th:only-of-type {\n",
              "        vertical-align: middle;\n",
              "    }\n",
              "\n",
              "    .dataframe tbody tr th {\n",
              "        vertical-align: top;\n",
              "    }\n",
              "\n",
              "    .dataframe thead th {\n",
              "        text-align: right;\n",
              "    }\n",
              "</style>\n",
              "<table border=\"1\" class=\"dataframe\">\n",
              "  <thead>\n",
              "    <tr style=\"text-align: right;\">\n",
              "      <th></th>\n",
              "      <th>ClientID</th>\n",
              "      <th>CycleNumber</th>\n",
              "      <th>LengthofCycle</th>\n",
              "      <th>MeanCycleLength</th>\n",
              "      <th>EstimatedDayofOvulation</th>\n",
              "      <th>LengthofMenses</th>\n",
              "      <th>MeanMensesLength</th>\n",
              "      <th>Age</th>\n",
              "      <th>Height</th>\n",
              "      <th>Weight</th>\n",
              "      <th>BMI</th>\n",
              "    </tr>\n",
              "  </thead>\n",
              "  <tbody>\n",
              "    <tr>\n",
              "      <th>0</th>\n",
              "      <td>nfp8122</td>\n",
              "      <td>1</td>\n",
              "      <td>29</td>\n",
              "      <td>27.33</td>\n",
              "      <td>17.0</td>\n",
              "      <td>5.0</td>\n",
              "      <td>4.49</td>\n",
              "      <td>36</td>\n",
              "      <td>63.0</td>\n",
              "      <td>120.0</td>\n",
              "      <td>21.254724</td>\n",
              "    </tr>\n",
              "    <tr>\n",
              "      <th>1</th>\n",
              "      <td>nfp8122</td>\n",
              "      <td>2</td>\n",
              "      <td>27</td>\n",
              "      <td>NaN</td>\n",
              "      <td>15.0</td>\n",
              "      <td>5.0</td>\n",
              "      <td>NaN</td>\n",
              "      <td>&lt;NA&gt;</td>\n",
              "      <td>NaN</td>\n",
              "      <td>NaN</td>\n",
              "      <td>NaN</td>\n",
              "    </tr>\n",
              "    <tr>\n",
              "      <th>2</th>\n",
              "      <td>nfp8122</td>\n",
              "      <td>3</td>\n",
              "      <td>29</td>\n",
              "      <td>NaN</td>\n",
              "      <td>15.0</td>\n",
              "      <td>5.0</td>\n",
              "      <td>NaN</td>\n",
              "      <td>&lt;NA&gt;</td>\n",
              "      <td>NaN</td>\n",
              "      <td>NaN</td>\n",
              "      <td>NaN</td>\n",
              "    </tr>\n",
              "    <tr>\n",
              "      <th>3</th>\n",
              "      <td>nfp8122</td>\n",
              "      <td>4</td>\n",
              "      <td>27</td>\n",
              "      <td>NaN</td>\n",
              "      <td>15.0</td>\n",
              "      <td>5.0</td>\n",
              "      <td>NaN</td>\n",
              "      <td>&lt;NA&gt;</td>\n",
              "      <td>NaN</td>\n",
              "      <td>NaN</td>\n",
              "      <td>NaN</td>\n",
              "    </tr>\n",
              "    <tr>\n",
              "      <th>4</th>\n",
              "      <td>nfp8122</td>\n",
              "      <td>5</td>\n",
              "      <td>28</td>\n",
              "      <td>NaN</td>\n",
              "      <td>16.0</td>\n",
              "      <td>5.0</td>\n",
              "      <td>NaN</td>\n",
              "      <td>&lt;NA&gt;</td>\n",
              "      <td>NaN</td>\n",
              "      <td>NaN</td>\n",
              "      <td>NaN</td>\n",
              "    </tr>\n",
              "  </tbody>\n",
              "</table>\n",
              "</div>\n",
              "    <div class=\"colab-df-buttons\">\n",
              "\n",
              "  <div class=\"colab-df-container\">\n",
              "    <button class=\"colab-df-convert\" onclick=\"convertToInteractive('df-9460484c-92b1-41fe-8f41-76dff7e6f454')\"\n",
              "            title=\"Convert this dataframe to an interactive table.\"\n",
              "            style=\"display:none;\">\n",
              "\n",
              "  <svg xmlns=\"http://www.w3.org/2000/svg\" height=\"24px\" viewBox=\"0 -960 960 960\">\n",
              "    <path d=\"M120-120v-720h720v720H120Zm60-500h600v-160H180v160Zm220 220h160v-160H400v160Zm0 220h160v-160H400v160ZM180-400h160v-160H180v160Zm440 0h160v-160H620v160ZM180-180h160v-160H180v160Zm440 0h160v-160H620v160Z\"/>\n",
              "  </svg>\n",
              "    </button>\n",
              "\n",
              "  <style>\n",
              "    .colab-df-container {\n",
              "      display:flex;\n",
              "      gap: 12px;\n",
              "    }\n",
              "\n",
              "    .colab-df-convert {\n",
              "      background-color: #E8F0FE;\n",
              "      border: none;\n",
              "      border-radius: 50%;\n",
              "      cursor: pointer;\n",
              "      display: none;\n",
              "      fill: #1967D2;\n",
              "      height: 32px;\n",
              "      padding: 0 0 0 0;\n",
              "      width: 32px;\n",
              "    }\n",
              "\n",
              "    .colab-df-convert:hover {\n",
              "      background-color: #E2EBFA;\n",
              "      box-shadow: 0px 1px 2px rgba(60, 64, 67, 0.3), 0px 1px 3px 1px rgba(60, 64, 67, 0.15);\n",
              "      fill: #174EA6;\n",
              "    }\n",
              "\n",
              "    .colab-df-buttons div {\n",
              "      margin-bottom: 4px;\n",
              "    }\n",
              "\n",
              "    [theme=dark] .colab-df-convert {\n",
              "      background-color: #3B4455;\n",
              "      fill: #D2E3FC;\n",
              "    }\n",
              "\n",
              "    [theme=dark] .colab-df-convert:hover {\n",
              "      background-color: #434B5C;\n",
              "      box-shadow: 0px 1px 3px 1px rgba(0, 0, 0, 0.15);\n",
              "      filter: drop-shadow(0px 1px 2px rgba(0, 0, 0, 0.3));\n",
              "      fill: #FFFFFF;\n",
              "    }\n",
              "  </style>\n",
              "\n",
              "    <script>\n",
              "      const buttonEl =\n",
              "        document.querySelector('#df-9460484c-92b1-41fe-8f41-76dff7e6f454 button.colab-df-convert');\n",
              "      buttonEl.style.display =\n",
              "        google.colab.kernel.accessAllowed ? 'block' : 'none';\n",
              "\n",
              "      async function convertToInteractive(key) {\n",
              "        const element = document.querySelector('#df-9460484c-92b1-41fe-8f41-76dff7e6f454');\n",
              "        const dataTable =\n",
              "          await google.colab.kernel.invokeFunction('convertToInteractive',\n",
              "                                                    [key], {});\n",
              "        if (!dataTable) return;\n",
              "\n",
              "        const docLinkHtml = 'Like what you see? Visit the ' +\n",
              "          '<a target=\"_blank\" href=https://colab.research.google.com/notebooks/data_table.ipynb>data table notebook</a>'\n",
              "          + ' to learn more about interactive tables.';\n",
              "        element.innerHTML = '';\n",
              "        dataTable['output_type'] = 'display_data';\n",
              "        await google.colab.output.renderOutput(dataTable, element);\n",
              "        const docLink = document.createElement('div');\n",
              "        docLink.innerHTML = docLinkHtml;\n",
              "        element.appendChild(docLink);\n",
              "      }\n",
              "    </script>\n",
              "  </div>\n",
              "\n",
              "\n",
              "<div id=\"df-6b2048c3-9e6e-4417-8320-6bc2273a4392\">\n",
              "  <button class=\"colab-df-quickchart\" onclick=\"quickchart('df-6b2048c3-9e6e-4417-8320-6bc2273a4392')\"\n",
              "            title=\"Suggest charts\"\n",
              "            style=\"display:none;\">\n",
              "\n",
              "<svg xmlns=\"http://www.w3.org/2000/svg\" height=\"24px\"viewBox=\"0 0 24 24\"\n",
              "     width=\"24px\">\n",
              "    <g>\n",
              "        <path d=\"M19 3H5c-1.1 0-2 .9-2 2v14c0 1.1.9 2 2 2h14c1.1 0 2-.9 2-2V5c0-1.1-.9-2-2-2zM9 17H7v-7h2v7zm4 0h-2V7h2v10zm4 0h-2v-4h2v4z\"/>\n",
              "    </g>\n",
              "</svg>\n",
              "  </button>\n",
              "\n",
              "<style>\n",
              "  .colab-df-quickchart {\n",
              "      --bg-color: #E8F0FE;\n",
              "      --fill-color: #1967D2;\n",
              "      --hover-bg-color: #E2EBFA;\n",
              "      --hover-fill-color: #174EA6;\n",
              "      --disabled-fill-color: #AAA;\n",
              "      --disabled-bg-color: #DDD;\n",
              "  }\n",
              "\n",
              "  [theme=dark] .colab-df-quickchart {\n",
              "      --bg-color: #3B4455;\n",
              "      --fill-color: #D2E3FC;\n",
              "      --hover-bg-color: #434B5C;\n",
              "      --hover-fill-color: #FFFFFF;\n",
              "      --disabled-bg-color: #3B4455;\n",
              "      --disabled-fill-color: #666;\n",
              "  }\n",
              "\n",
              "  .colab-df-quickchart {\n",
              "    background-color: var(--bg-color);\n",
              "    border: none;\n",
              "    border-radius: 50%;\n",
              "    cursor: pointer;\n",
              "    display: none;\n",
              "    fill: var(--fill-color);\n",
              "    height: 32px;\n",
              "    padding: 0;\n",
              "    width: 32px;\n",
              "  }\n",
              "\n",
              "  .colab-df-quickchart:hover {\n",
              "    background-color: var(--hover-bg-color);\n",
              "    box-shadow: 0 1px 2px rgba(60, 64, 67, 0.3), 0 1px 3px 1px rgba(60, 64, 67, 0.15);\n",
              "    fill: var(--button-hover-fill-color);\n",
              "  }\n",
              "\n",
              "  .colab-df-quickchart-complete:disabled,\n",
              "  .colab-df-quickchart-complete:disabled:hover {\n",
              "    background-color: var(--disabled-bg-color);\n",
              "    fill: var(--disabled-fill-color);\n",
              "    box-shadow: none;\n",
              "  }\n",
              "\n",
              "  .colab-df-spinner {\n",
              "    border: 2px solid var(--fill-color);\n",
              "    border-color: transparent;\n",
              "    border-bottom-color: var(--fill-color);\n",
              "    animation:\n",
              "      spin 1s steps(1) infinite;\n",
              "  }\n",
              "\n",
              "  @keyframes spin {\n",
              "    0% {\n",
              "      border-color: transparent;\n",
              "      border-bottom-color: var(--fill-color);\n",
              "      border-left-color: var(--fill-color);\n",
              "    }\n",
              "    20% {\n",
              "      border-color: transparent;\n",
              "      border-left-color: var(--fill-color);\n",
              "      border-top-color: var(--fill-color);\n",
              "    }\n",
              "    30% {\n",
              "      border-color: transparent;\n",
              "      border-left-color: var(--fill-color);\n",
              "      border-top-color: var(--fill-color);\n",
              "      border-right-color: var(--fill-color);\n",
              "    }\n",
              "    40% {\n",
              "      border-color: transparent;\n",
              "      border-right-color: var(--fill-color);\n",
              "      border-top-color: var(--fill-color);\n",
              "    }\n",
              "    60% {\n",
              "      border-color: transparent;\n",
              "      border-right-color: var(--fill-color);\n",
              "    }\n",
              "    80% {\n",
              "      border-color: transparent;\n",
              "      border-right-color: var(--fill-color);\n",
              "      border-bottom-color: var(--fill-color);\n",
              "    }\n",
              "    90% {\n",
              "      border-color: transparent;\n",
              "      border-bottom-color: var(--fill-color);\n",
              "    }\n",
              "  }\n",
              "</style>\n",
              "\n",
              "  <script>\n",
              "    async function quickchart(key) {\n",
              "      const quickchartButtonEl =\n",
              "        document.querySelector('#' + key + ' button');\n",
              "      quickchartButtonEl.disabled = true;  // To prevent multiple clicks.\n",
              "      quickchartButtonEl.classList.add('colab-df-spinner');\n",
              "      try {\n",
              "        const charts = await google.colab.kernel.invokeFunction(\n",
              "            'suggestCharts', [key], {});\n",
              "      } catch (error) {\n",
              "        console.error('Error during call to suggestCharts:', error);\n",
              "      }\n",
              "      quickchartButtonEl.classList.remove('colab-df-spinner');\n",
              "      quickchartButtonEl.classList.add('colab-df-quickchart-complete');\n",
              "    }\n",
              "    (() => {\n",
              "      let quickchartButtonEl =\n",
              "        document.querySelector('#df-6b2048c3-9e6e-4417-8320-6bc2273a4392 button');\n",
              "      quickchartButtonEl.style.display =\n",
              "        google.colab.kernel.accessAllowed ? 'block' : 'none';\n",
              "    })();\n",
              "  </script>\n",
              "</div>\n",
              "\n",
              "    </div>\n",
              "  </div>\n"
            ],
            "application/vnd.google.colaboratory.intrinsic+json": {
              "type": "dataframe",
              "variable_name": "clean_df",
              "summary": "{\n  \"name\": \"clean_df\",\n  \"rows\": 1665,\n  \"fields\": [\n    {\n      \"column\": \"ClientID\",\n      \"properties\": {\n        \"dtype\": \"category\",\n        \"num_unique_values\": 159,\n        \"samples\": [\n          \"nfp8187\",\n          \"nfp8323\",\n          \"nfp8278\"\n        ],\n        \"semantic_type\": \"\",\n        \"description\": \"\"\n      }\n    },\n    {\n      \"column\": \"CycleNumber\",\n      \"properties\": {\n        \"dtype\": \"number\",\n        \"std\": 6,\n        \"min\": 1,\n        \"max\": 45,\n        \"num_unique_values\": 45,\n        \"samples\": [\n          40,\n          26,\n          27\n        ],\n        \"semantic_type\": \"\",\n        \"description\": \"\"\n      }\n    },\n    {\n      \"column\": \"LengthofCycle\",\n      \"properties\": {\n        \"dtype\": \"number\",\n        \"std\": 3,\n        \"min\": 18,\n        \"max\": 54,\n        \"num_unique_values\": 32,\n        \"samples\": [\n          49,\n          38,\n          45\n        ],\n        \"semantic_type\": \"\",\n        \"description\": \"\"\n      }\n    },\n    {\n      \"column\": \"MeanCycleLength\",\n      \"properties\": {\n        \"dtype\": \"number\",\n        \"std\": 3.048391433911746,\n        \"min\": 24.0,\n        \"max\": 40.0,\n        \"num_unique_values\": 104,\n        \"samples\": [\n          34.07,\n          26.71,\n          25.4\n        ],\n        \"semantic_type\": \"\",\n        \"description\": \"\"\n      }\n    },\n    {\n      \"column\": \"EstimatedDayofOvulation\",\n      \"properties\": {\n        \"dtype\": \"number\",\n        \"std\": 3.5484875034427485,\n        \"min\": 6.0,\n        \"max\": 29.0,\n        \"num_unique_values\": 23,\n        \"samples\": [\n          10.0,\n          27.0,\n          17.0\n        ],\n        \"semantic_type\": \"\",\n        \"description\": \"\"\n      }\n    },\n    {\n      \"column\": \"LengthofMenses\",\n      \"properties\": {\n        \"dtype\": \"number\",\n        \"std\": 1.2559594417732571,\n        \"min\": 2.0,\n        \"max\": 15.0,\n        \"num_unique_values\": 11,\n        \"samples\": [\n          3.0,\n          5.0,\n          11.0\n        ],\n        \"semantic_type\": \"\",\n        \"description\": \"\"\n      }\n    },\n    {\n      \"column\": \"MeanMensesLength\",\n      \"properties\": {\n        \"dtype\": \"number\",\n        \"std\": 1.0186519639740583,\n        \"min\": 2.4,\n        \"max\": 8.58,\n        \"num_unique_values\": 76,\n        \"samples\": [\n          4.33,\n          8.58,\n          5.5\n        ],\n        \"semantic_type\": \"\",\n        \"description\": \"\"\n      }\n    },\n    {\n      \"column\": \"Age\",\n      \"properties\": {\n        \"dtype\": \"Int64\",\n        \"num_unique_values\": 23,\n        \"samples\": [\n          21,\n          24,\n          36\n        ],\n        \"semantic_type\": \"\",\n        \"description\": \"\"\n      }\n    },\n    {\n      \"column\": \"Height\",\n      \"properties\": {\n        \"dtype\": \"number\",\n        \"std\": 2.7703759513511916,\n        \"min\": 59.0,\n        \"max\": 72.0,\n        \"num_unique_values\": 14,\n        \"samples\": [\n          64.0,\n          61.0,\n          63.0\n        ],\n        \"semantic_type\": \"\",\n        \"description\": \"\"\n      }\n    },\n    {\n      \"column\": \"Weight\",\n      \"properties\": {\n        \"dtype\": \"number\",\n        \"std\": 37.12579954133562,\n        \"min\": 0.0,\n        \"max\": 300.0,\n        \"num_unique_values\": 56,\n        \"samples\": [\n          120.0,\n          155.0,\n          140.0\n        ],\n        \"semantic_type\": \"\",\n        \"description\": \"\"\n      }\n    },\n    {\n      \"column\": \"BMI\",\n      \"properties\": {\n        \"dtype\": \"number\",\n        \"std\": 5.541611066432001,\n        \"min\": 16.8266565885614,\n        \"max\": 49.9171597633136,\n        \"num_unique_values\": 111,\n        \"samples\": [\n          20.8030612244898,\n          24.1385030864198,\n          24.9585798816568\n        ],\n        \"semantic_type\": \"\",\n        \"description\": \"\"\n      }\n    }\n  ]\n}"
            }
          },
          "metadata": {},
          "execution_count": 19
        }
      ]
    },
    {
      "cell_type": "markdown",
      "source": [
        "# Creating a Demographics DataFrame"
      ],
      "metadata": {
        "id": "taIP45sHbTu0"
      }
    },
    {
      "cell_type": "markdown",
      "source": [
        "## Demographic Variables"
      ],
      "metadata": {
        "id": "NmAfV49OaNyM"
      }
    },
    {
      "cell_type": "markdown",
      "source": [
        "Before we create a new demographics DataFrame, let's first see if we can reduce the number of missing values in the demographic columns.\n",
        "\n",
        "As you can see in the below output, despite the fact that BMI is calculated from Height and Weight, there is slightly more missing BMI values (1534) than in either the Height (1532) or Weight (1531) columns.\n",
        "\n",
        "So, let's write some code that will calculate the BMI for each Client to ensure that any missing BMI values will be filled."
      ],
      "metadata": {
        "id": "l2O2Xc01b7NK"
      }
    },
    {
      "cell_type": "code",
      "source": [
        "clean_df.isnull().sum()"
      ],
      "metadata": {
        "colab": {
          "base_uri": "https://localhost:8080/",
          "height": 429
        },
        "id": "o89bRIFKcAq6",
        "outputId": "6cdeddfd-893e-4432-989f-e19dca9eb1a1"
      },
      "execution_count": 20,
      "outputs": [
        {
          "output_type": "execute_result",
          "data": {
            "text/plain": [
              "ClientID                      0\n",
              "CycleNumber                   0\n",
              "LengthofCycle                 0\n",
              "MeanCycleLength            1524\n",
              "EstimatedDayofOvulation     150\n",
              "LengthofMenses                4\n",
              "MeanMensesLength           1524\n",
              "Age                        1523\n",
              "Height                     1532\n",
              "Weight                     1531\n",
              "BMI                        1534\n",
              "dtype: int64"
            ],
            "text/html": [
              "<div>\n",
              "<style scoped>\n",
              "    .dataframe tbody tr th:only-of-type {\n",
              "        vertical-align: middle;\n",
              "    }\n",
              "\n",
              "    .dataframe tbody tr th {\n",
              "        vertical-align: top;\n",
              "    }\n",
              "\n",
              "    .dataframe thead th {\n",
              "        text-align: right;\n",
              "    }\n",
              "</style>\n",
              "<table border=\"1\" class=\"dataframe\">\n",
              "  <thead>\n",
              "    <tr style=\"text-align: right;\">\n",
              "      <th></th>\n",
              "      <th>0</th>\n",
              "    </tr>\n",
              "  </thead>\n",
              "  <tbody>\n",
              "    <tr>\n",
              "      <th>ClientID</th>\n",
              "      <td>0</td>\n",
              "    </tr>\n",
              "    <tr>\n",
              "      <th>CycleNumber</th>\n",
              "      <td>0</td>\n",
              "    </tr>\n",
              "    <tr>\n",
              "      <th>LengthofCycle</th>\n",
              "      <td>0</td>\n",
              "    </tr>\n",
              "    <tr>\n",
              "      <th>MeanCycleLength</th>\n",
              "      <td>1524</td>\n",
              "    </tr>\n",
              "    <tr>\n",
              "      <th>EstimatedDayofOvulation</th>\n",
              "      <td>150</td>\n",
              "    </tr>\n",
              "    <tr>\n",
              "      <th>LengthofMenses</th>\n",
              "      <td>4</td>\n",
              "    </tr>\n",
              "    <tr>\n",
              "      <th>MeanMensesLength</th>\n",
              "      <td>1524</td>\n",
              "    </tr>\n",
              "    <tr>\n",
              "      <th>Age</th>\n",
              "      <td>1523</td>\n",
              "    </tr>\n",
              "    <tr>\n",
              "      <th>Height</th>\n",
              "      <td>1532</td>\n",
              "    </tr>\n",
              "    <tr>\n",
              "      <th>Weight</th>\n",
              "      <td>1531</td>\n",
              "    </tr>\n",
              "    <tr>\n",
              "      <th>BMI</th>\n",
              "      <td>1534</td>\n",
              "    </tr>\n",
              "  </tbody>\n",
              "</table>\n",
              "</div><br><label><b>dtype:</b> int64</label>"
            ]
          },
          "metadata": {},
          "execution_count": 20
        }
      ]
    },
    {
      "cell_type": "markdown",
      "source": [
        "Since the values of the \"Height\" and \"Weight\" columns are in the US customary units (pounds (lbs) and inches), we can calculate BMI for each row using the following formula:\n",
        "\n",
        "**US customary units: BMI = weight (pounds) / [height (in)]^2 x 703**\n",
        "\n",
        "Source: [CDC, What Is Body Mass Index (BMI)?](https://www.cdc.gov/growth-chart-training/hcp/using-bmi/body-mass-index.html)\n",
        "\n",
        "Written in code, that formula looks like this:"
      ],
      "metadata": {
        "id": "IdAFwyToy5gK"
      }
    },
    {
      "cell_type": "code",
      "source": [
        "clean_df[\"BMI\"] = round((clean_df[\"Weight\"] / (clean_df[\"Height\"] ** 2) * 703), 2)"
      ],
      "metadata": {
        "id": "LH1hRUBLck8x"
      },
      "execution_count": 21,
      "outputs": []
    },
    {
      "cell_type": "markdown",
      "source": [
        "After calculating BMI for each row, it now looks like the \"BMI\" column only has 1532 missing values instead of 1534!"
      ],
      "metadata": {
        "id": "Vt-0Nbnqdcx6"
      }
    },
    {
      "cell_type": "code",
      "source": [
        "clean_df.isnull().sum()"
      ],
      "metadata": {
        "colab": {
          "base_uri": "https://localhost:8080/",
          "height": 429
        },
        "id": "-pai84wFdcQH",
        "outputId": "a127df8b-b19d-443d-ebfc-97de83f870f8"
      },
      "execution_count": 22,
      "outputs": [
        {
          "output_type": "execute_result",
          "data": {
            "text/plain": [
              "ClientID                      0\n",
              "CycleNumber                   0\n",
              "LengthofCycle                 0\n",
              "MeanCycleLength            1524\n",
              "EstimatedDayofOvulation     150\n",
              "LengthofMenses                4\n",
              "MeanMensesLength           1524\n",
              "Age                        1523\n",
              "Height                     1532\n",
              "Weight                     1531\n",
              "BMI                        1532\n",
              "dtype: int64"
            ],
            "text/html": [
              "<div>\n",
              "<style scoped>\n",
              "    .dataframe tbody tr th:only-of-type {\n",
              "        vertical-align: middle;\n",
              "    }\n",
              "\n",
              "    .dataframe tbody tr th {\n",
              "        vertical-align: top;\n",
              "    }\n",
              "\n",
              "    .dataframe thead th {\n",
              "        text-align: right;\n",
              "    }\n",
              "</style>\n",
              "<table border=\"1\" class=\"dataframe\">\n",
              "  <thead>\n",
              "    <tr style=\"text-align: right;\">\n",
              "      <th></th>\n",
              "      <th>0</th>\n",
              "    </tr>\n",
              "  </thead>\n",
              "  <tbody>\n",
              "    <tr>\n",
              "      <th>ClientID</th>\n",
              "      <td>0</td>\n",
              "    </tr>\n",
              "    <tr>\n",
              "      <th>CycleNumber</th>\n",
              "      <td>0</td>\n",
              "    </tr>\n",
              "    <tr>\n",
              "      <th>LengthofCycle</th>\n",
              "      <td>0</td>\n",
              "    </tr>\n",
              "    <tr>\n",
              "      <th>MeanCycleLength</th>\n",
              "      <td>1524</td>\n",
              "    </tr>\n",
              "    <tr>\n",
              "      <th>EstimatedDayofOvulation</th>\n",
              "      <td>150</td>\n",
              "    </tr>\n",
              "    <tr>\n",
              "      <th>LengthofMenses</th>\n",
              "      <td>4</td>\n",
              "    </tr>\n",
              "    <tr>\n",
              "      <th>MeanMensesLength</th>\n",
              "      <td>1524</td>\n",
              "    </tr>\n",
              "    <tr>\n",
              "      <th>Age</th>\n",
              "      <td>1523</td>\n",
              "    </tr>\n",
              "    <tr>\n",
              "      <th>Height</th>\n",
              "      <td>1532</td>\n",
              "    </tr>\n",
              "    <tr>\n",
              "      <th>Weight</th>\n",
              "      <td>1531</td>\n",
              "    </tr>\n",
              "    <tr>\n",
              "      <th>BMI</th>\n",
              "      <td>1532</td>\n",
              "    </tr>\n",
              "  </tbody>\n",
              "</table>\n",
              "</div><br><label><b>dtype:</b> int64</label>"
            ]
          },
          "metadata": {},
          "execution_count": 22
        }
      ]
    },
    {
      "cell_type": "markdown",
      "source": [
        "Now that the \"BMI\" column is full, we can go ahead and remove the \"Height\" and \"Weight\" columns from the clean_df DataFrame, as they are no longer of any use to us."
      ],
      "metadata": {
        "id": "Id8zkcWsdoH3"
      }
    },
    {
      "cell_type": "code",
      "source": [
        "clean_df = clean_df.drop([\"Height\", \"Weight\"], axis = 1)\n",
        "# axis 0 = rows, axis 1 = columns\n",
        "\n",
        "# checking work\n",
        "clean_df.columns"
      ],
      "metadata": {
        "colab": {
          "base_uri": "https://localhost:8080/"
        },
        "id": "hpgSEzJId21N",
        "outputId": "e1efe4f1-073c-4be4-9028-999ac9183ec8"
      },
      "execution_count": 23,
      "outputs": [
        {
          "output_type": "execute_result",
          "data": {
            "text/plain": [
              "Index(['ClientID', 'CycleNumber', 'LengthofCycle', 'MeanCycleLength',\n",
              "       'EstimatedDayofOvulation', 'LengthofMenses', 'MeanMensesLength', 'Age',\n",
              "       'BMI'],\n",
              "      dtype='object')"
            ]
          },
          "metadata": {},
          "execution_count": 23
        }
      ]
    },
    {
      "cell_type": "markdown",
      "source": [
        "### Adding age and BMI variables\n",
        "\n",
        "Since we want to use the variables Age and BMI as secondary variables for menstrual cycle prediction, let's also create a new DataFrame where every row is a single ClientID with 2 columns, the age and BMI of each client.\n",
        "\n",
        "This will allow us to merge wide_df with this new DataFrame, resulting in a single DataFrame that contains the menstrual cycle lengths and demographic features of each client."
      ],
      "metadata": {
        "id": "UMWNYuTTXVWf"
      }
    },
    {
      "cell_type": "code",
      "source": [
        "# create new table that only contains ClientID and Age & BMI (Height/Weight) columns\n",
        "dems = clean_df[[\"ClientID\", \"Age\", \"BMI\"]]\n",
        "\n",
        "# convert to pandas DataFrame\n",
        "dems = dems.reset_index()\n",
        "\n",
        "# checking work\n",
        "# --------------\n",
        "# dems.head()\n",
        "# dems.shape # 1665, 4\n",
        "\n",
        "print(dems)"
      ],
      "metadata": {
        "colab": {
          "base_uri": "https://localhost:8080/"
        },
        "id": "KrRKf5yfYtdX",
        "outputId": "d44cd748-14a8-4401-ae43-0a0e0e44a0d8"
      },
      "execution_count": 24,
      "outputs": [
        {
          "output_type": "stream",
          "name": "stdout",
          "text": [
            "      index ClientID   Age    BMI\n",
            "0         0  nfp8122    36  21.25\n",
            "1         1  nfp8122  <NA>    NaN\n",
            "2         2  nfp8122  <NA>    NaN\n",
            "3         3  nfp8122  <NA>    NaN\n",
            "4         4  nfp8122  <NA>    NaN\n",
            "...     ...      ...   ...    ...\n",
            "1660   1660  nfp8334  <NA>    NaN\n",
            "1661   1661  nfp8334  <NA>    NaN\n",
            "1662   1662  nfp8334  <NA>    NaN\n",
            "1663   1663  nfp8334  <NA>    NaN\n",
            "1664   1664  nfp8334  <NA>    NaN\n",
            "\n",
            "[1665 rows x 4 columns]\n"
          ]
        }
      ]
    },
    {
      "cell_type": "markdown",
      "source": [
        "**QUESTION:** I'm not sure how to \"shrink\" the newly created \"dems\" dataframe so that there are no repeated ClientID (like in the \"wide_df\" dataframe) while also not accidentally removing any ClientIDs.\n",
        "\n",
        "Using the below .dropna function results in only 138 ClientIDs when there should be 159."
      ],
      "metadata": {
        "id": "GgSg-PuxX49F"
      }
    },
    {
      "cell_type": "code",
      "source": [
        "# dems.dropna(subset = [\"Age\", \"Height\", \"Weight\", \"BMI\"], how = \"all\", inplace = True)"
      ],
      "metadata": {
        "id": "fBxSdXFLXj88"
      },
      "execution_count": 25,
      "outputs": []
    },
    {
      "cell_type": "code",
      "source": [
        "# dems[\"ClientID\"].nunique() # 159"
      ],
      "metadata": {
        "id": "LgpwAJTwYRW5"
      },
      "execution_count": 26,
      "outputs": []
    },
    {
      "cell_type": "markdown",
      "source": [
        "# Descriptive statistics"
      ],
      "metadata": {
        "id": "yi0UFH8CKJef"
      }
    },
    {
      "cell_type": "markdown",
      "source": [
        "## Menstrual Cycle Length"
      ],
      "metadata": {
        "id": "pQdcISy_H6g0"
      }
    },
    {
      "cell_type": "code",
      "source": [
        "print(\"The average menstrual cycle length of the entire sample is\", round(clean_df[\"LengthofCycle\"].mean(), 2), \"days.\")\n",
        "print(\"The mean menstruation length of the entire sample is\", round(clean_df[\"LengthofMenses\"].mean(), 2), \"days.\")\n",
        "print(\"The average estimated day of ovulation for the entire sample is on the\", round(clean_df[\"EstimatedDayofOvulation\"].mean(), 2), \"day of the cycle.\")"
      ],
      "metadata": {
        "id": "BzEC7joMKmeo",
        "colab": {
          "base_uri": "https://localhost:8080/"
        },
        "outputId": "3d93d3ea-0187-4168-ca55-6aa9ff79b54c"
      },
      "execution_count": 27,
      "outputs": [
        {
          "output_type": "stream",
          "name": "stdout",
          "text": [
            "The average menstrual cycle length of the entire sample is 29.3 days.\n",
            "The mean menstruation length of the entire sample is 5.24 days.\n",
            "The average estimated day of ovulation for the entire sample is on the 15.96 day of the cycle.\n"
          ]
        }
      ]
    },
    {
      "cell_type": "markdown",
      "source": [
        "The average menstrual cycle length of the sample if 29.3 days. This is consistent with previous observations on the typical menstrual cycle length in other populations, which averages out at around 28 days. However, the current sample's average is slightly higher, at about 1.3 days longer.\n",
        "\n",
        "MORE"
      ],
      "metadata": {
        "id": "vXrkW3v_f7wO"
      }
    },
    {
      "cell_type": "markdown",
      "source": [
        "### BMI"
      ],
      "metadata": {
        "id": "WRyokPudeTa-"
      }
    },
    {
      "cell_type": "code",
      "source": [
        "clean_df[\"BMI\"].unique()"
      ],
      "metadata": {
        "colab": {
          "base_uri": "https://localhost:8080/"
        },
        "id": "1e4dFZGSJKGv",
        "outputId": "b6b9c2c5-8c27-4664-8909-76f17385fbca"
      },
      "execution_count": 28,
      "outputs": [
        {
          "output_type": "execute_result",
          "data": {
            "text/plain": [
              "array([21.25,   nan, 28.13, 29.05, 27.89, 24.96, 25.79, 21.45, 22.46,\n",
              "       21.95, 22.63, 24.14, 18.78, 19.2 , 29.95, 29.29, 24.1 , 30.11,\n",
              "       27.41, 37.76, 16.83, 38.97, 19.97, 34.78, 29.18, 20.12, 20.6 ,\n",
              "       18.01, 25.85, 31.48, 24.33, 34.75, 26.52, 49.92, 21.14, 22.31,\n",
              "       38.39, 25.82, 20.03, 23.17, 35.48, 22.86, 28.89, 26.63, 37.1 ,\n",
              "       28.34, 34.56, 24.8 , 21.61, 26.62, 18.85, 26.25, 18.79, 22.52,\n",
              "       43.25, 19.46, 29.86, 36.73, 24.36, 26.79, 20.5 , 35.42, 20.52,\n",
              "       20.38, 19.37, 24.13, 22.15, 20.55, 18.56, 20.67, 19.65, 27.98,\n",
              "       25.74, 22.89, 20.47, 20.8 , 27.45, 18.88, 22.59, 21.79, 33.47,\n",
              "       25.84, 20.17, 21.28, 19.74, 19.93, 21.03, 25.29, 20.94, 23.49,\n",
              "       30.66, 23.57, 20.48, 20.95, 23.03, 24.69, 25.1 , 30.27, 22.11,\n",
              "       22.2 , 21.92, 22.26, 25.68, 34.33, 21.63, 24.44, 24.21, 19.48])"
            ]
          },
          "metadata": {},
          "execution_count": 28
        }
      ]
    },
    {
      "cell_type": "code",
      "source": [
        "print(\"The lowest BMI score in the dataset is\", clean_df['BMI'].min())\n",
        "print(\"The highest BMI score in the dataset is\", clean_df['BMI'].max())"
      ],
      "metadata": {
        "colab": {
          "base_uri": "https://localhost:8080/"
        },
        "id": "U5oTyK8cJbwo",
        "outputId": "8e176ae7-9b0e-49d3-a55d-6b8a4e4e6f8b"
      },
      "execution_count": 29,
      "outputs": [
        {
          "output_type": "stream",
          "name": "stdout",
          "text": [
            "The lowest BMI score in the dataset is 16.83\n",
            "The highest BMI score in the dataset is 49.92\n"
          ]
        }
      ]
    },
    {
      "cell_type": "code",
      "source": [
        "clean_df[\"BMI\"].nunique()"
      ],
      "metadata": {
        "colab": {
          "base_uri": "https://localhost:8080/"
        },
        "id": "nDgX6NyeJEYU",
        "outputId": "409dddbf-ac35-4109-dbbb-0e1713516b82"
      },
      "execution_count": 30,
      "outputs": [
        {
          "output_type": "execute_result",
          "data": {
            "text/plain": [
              "107"
            ]
          },
          "metadata": {},
          "execution_count": 30
        }
      ]
    },
    {
      "cell_type": "markdown",
      "source": [
        "There are 107 unique BMI scores in the clean_df DataFrame, with scores ranging from 16.83 at the lowest to 49.92 at the highest."
      ],
      "metadata": {
        "id": "q1RKuhx_fEYY"
      }
    },
    {
      "cell_type": "markdown",
      "source": [
        "**BMI Categories**\n",
        "\n",
        "Based on categorization by the Centers for Disease Control and Prevention (CDC), BMI scores for adults 20 years and older fall into the following categories:\n",
        "\n",
        "**BMI Category ------- BMI Range**\n",
        "- Underweight: less than 18.5\n",
        "- Healthy Weight: 18.5 to less than 25\n",
        "- Overweight: 25 to less than 30\n",
        "- Obesity: 30 or greater\n",
        "\n",
        "\n",
        "Source: [CDC, Adult BMI Categories](https://www.cdc.gov/bmi/adult-calculator/bmi-categories.html)\n",
        "\n",
        "\n"
      ],
      "metadata": {
        "id": "PN0dZ8PeaWcK"
      }
    },
    {
      "cell_type": "markdown",
      "source": [
        "Given these categories, let's create a new column called \"BMI_Cat\" that contains the BMI category for each Client, written as a string value.\n",
        "\n",
        "First, let's look at what sort of BMI scores our DataFrame contains:"
      ],
      "metadata": {
        "id": "Czk7sA6901Hq"
      }
    },
    {
      "cell_type": "code",
      "source": [
        "clean_df[\"BMI\"].unique() # 107"
      ],
      "metadata": {
        "colab": {
          "base_uri": "https://localhost:8080/"
        },
        "id": "qkf1OkRK0IDk",
        "outputId": "4bd580f0-521d-4c08-8924-e1d34cb795a0"
      },
      "execution_count": 31,
      "outputs": [
        {
          "output_type": "execute_result",
          "data": {
            "text/plain": [
              "array([21.25,   nan, 28.13, 29.05, 27.89, 24.96, 25.79, 21.45, 22.46,\n",
              "       21.95, 22.63, 24.14, 18.78, 19.2 , 29.95, 29.29, 24.1 , 30.11,\n",
              "       27.41, 37.76, 16.83, 38.97, 19.97, 34.78, 29.18, 20.12, 20.6 ,\n",
              "       18.01, 25.85, 31.48, 24.33, 34.75, 26.52, 49.92, 21.14, 22.31,\n",
              "       38.39, 25.82, 20.03, 23.17, 35.48, 22.86, 28.89, 26.63, 37.1 ,\n",
              "       28.34, 34.56, 24.8 , 21.61, 26.62, 18.85, 26.25, 18.79, 22.52,\n",
              "       43.25, 19.46, 29.86, 36.73, 24.36, 26.79, 20.5 , 35.42, 20.52,\n",
              "       20.38, 19.37, 24.13, 22.15, 20.55, 18.56, 20.67, 19.65, 27.98,\n",
              "       25.74, 22.89, 20.47, 20.8 , 27.45, 18.88, 22.59, 21.79, 33.47,\n",
              "       25.84, 20.17, 21.28, 19.74, 19.93, 21.03, 25.29, 20.94, 23.49,\n",
              "       30.66, 23.57, 20.48, 20.95, 23.03, 24.69, 25.1 , 30.27, 22.11,\n",
              "       22.2 , 21.92, 22.26, 25.68, 34.33, 21.63, 24.44, 24.21, 19.48])"
            ]
          },
          "metadata": {},
          "execution_count": 31
        }
      ]
    },
    {
      "cell_type": "markdown",
      "source": [
        "Now, let's create a function to categorize the BMI scores into categories, and apply it to the clean_df dataset."
      ],
      "metadata": {
        "id": "BcoSg0_H1N-9"
      }
    },
    {
      "cell_type": "code",
      "source": [
        "def bmi_category(BMI):\n",
        "    if BMI < 18.5:\n",
        "        return \"Underweight\"\n",
        "    elif 18.5 <= BMI < 25:\n",
        "        return \"Healthy Weight\"\n",
        "    elif 25 <= BMI < 30:\n",
        "        return \"Overweight\"\n",
        "    elif BMI >= 30:\n",
        "        return \"Obese\"\n",
        "    else:\n",
        "        pass\n",
        "\n",
        "# apply newly created bmi_category function to \"BMI\" column\n",
        "clean_df[\"BMI_Cat\"] = clean_df[\"BMI\"].apply(bmi_category) # create new column BMI_Cat using function\n",
        "\n",
        "clean_df.dropna(subset = [\"BMI_Cat\", \"BMI\"], how = \"all\", inplace = False) # see BMI_Cat column in below output"
      ],
      "metadata": {
        "colab": {
          "base_uri": "https://localhost:8080/",
          "height": 548
        },
        "id": "moyX9sSM1MoO",
        "outputId": "ccd4b588-033c-4026-adaf-b21a735fb3ac"
      },
      "execution_count": 32,
      "outputs": [
        {
          "output_type": "execute_result",
          "data": {
            "text/plain": [
              "     ClientID  CycleNumber  LengthofCycle  MeanCycleLength  \\\n",
              "0     nfp8122            1             29            27.33   \n",
              "45    nfp8114            1             28            31.00   \n",
              "47    nfp8109            1             29            26.33   \n",
              "58    nfp8106            1             25            25.33   \n",
              "61    nfp8024            1             28            28.75   \n",
              "...       ...          ...            ...              ...   \n",
              "1343  nfp8286            1             37            33.00   \n",
              "1345  nfp8288            1             28            29.00   \n",
              "1348  nfp8289            1             28            26.94   \n",
              "1393  nfp8292            1             30              NaN   \n",
              "1406  nfp8293            1             29              NaN   \n",
              "\n",
              "      EstimatedDayofOvulation  LengthofMenses  MeanMensesLength  Age    BMI  \\\n",
              "0                        17.0             5.0              4.49   36  21.25   \n",
              "45                       14.0             4.0              4.50   39  28.13   \n",
              "47                       19.0             7.0              6.67   29  29.05   \n",
              "58                       11.0             5.0              4.33   25  27.89   \n",
              "61                       15.0             5.0              4.67   23  24.96   \n",
              "...                       ...             ...               ...  ...    ...   \n",
              "1343                     20.0             6.0              5.50   33  24.44   \n",
              "1345                     12.0             4.0              4.33   30  27.98   \n",
              "1348                     13.0             4.0              4.47   40  22.46   \n",
              "1393                     15.0             6.0               NaN   34  24.21   \n",
              "1406                     16.0             6.0               NaN   23  19.48   \n",
              "\n",
              "             BMI_Cat  \n",
              "0     Healthy Weight  \n",
              "45        Overweight  \n",
              "47        Overweight  \n",
              "58        Overweight  \n",
              "61    Healthy Weight  \n",
              "...              ...  \n",
              "1343  Healthy Weight  \n",
              "1345      Overweight  \n",
              "1348  Healthy Weight  \n",
              "1393  Healthy Weight  \n",
              "1406  Healthy Weight  \n",
              "\n",
              "[133 rows x 10 columns]"
            ],
            "text/html": [
              "\n",
              "  <div id=\"df-c8edf198-cc1a-41c3-bf9c-0488deb392a6\" class=\"colab-df-container\">\n",
              "    <div>\n",
              "<style scoped>\n",
              "    .dataframe tbody tr th:only-of-type {\n",
              "        vertical-align: middle;\n",
              "    }\n",
              "\n",
              "    .dataframe tbody tr th {\n",
              "        vertical-align: top;\n",
              "    }\n",
              "\n",
              "    .dataframe thead th {\n",
              "        text-align: right;\n",
              "    }\n",
              "</style>\n",
              "<table border=\"1\" class=\"dataframe\">\n",
              "  <thead>\n",
              "    <tr style=\"text-align: right;\">\n",
              "      <th></th>\n",
              "      <th>ClientID</th>\n",
              "      <th>CycleNumber</th>\n",
              "      <th>LengthofCycle</th>\n",
              "      <th>MeanCycleLength</th>\n",
              "      <th>EstimatedDayofOvulation</th>\n",
              "      <th>LengthofMenses</th>\n",
              "      <th>MeanMensesLength</th>\n",
              "      <th>Age</th>\n",
              "      <th>BMI</th>\n",
              "      <th>BMI_Cat</th>\n",
              "    </tr>\n",
              "  </thead>\n",
              "  <tbody>\n",
              "    <tr>\n",
              "      <th>0</th>\n",
              "      <td>nfp8122</td>\n",
              "      <td>1</td>\n",
              "      <td>29</td>\n",
              "      <td>27.33</td>\n",
              "      <td>17.0</td>\n",
              "      <td>5.0</td>\n",
              "      <td>4.49</td>\n",
              "      <td>36</td>\n",
              "      <td>21.25</td>\n",
              "      <td>Healthy Weight</td>\n",
              "    </tr>\n",
              "    <tr>\n",
              "      <th>45</th>\n",
              "      <td>nfp8114</td>\n",
              "      <td>1</td>\n",
              "      <td>28</td>\n",
              "      <td>31.00</td>\n",
              "      <td>14.0</td>\n",
              "      <td>4.0</td>\n",
              "      <td>4.50</td>\n",
              "      <td>39</td>\n",
              "      <td>28.13</td>\n",
              "      <td>Overweight</td>\n",
              "    </tr>\n",
              "    <tr>\n",
              "      <th>47</th>\n",
              "      <td>nfp8109</td>\n",
              "      <td>1</td>\n",
              "      <td>29</td>\n",
              "      <td>26.33</td>\n",
              "      <td>19.0</td>\n",
              "      <td>7.0</td>\n",
              "      <td>6.67</td>\n",
              "      <td>29</td>\n",
              "      <td>29.05</td>\n",
              "      <td>Overweight</td>\n",
              "    </tr>\n",
              "    <tr>\n",
              "      <th>58</th>\n",
              "      <td>nfp8106</td>\n",
              "      <td>1</td>\n",
              "      <td>25</td>\n",
              "      <td>25.33</td>\n",
              "      <td>11.0</td>\n",
              "      <td>5.0</td>\n",
              "      <td>4.33</td>\n",
              "      <td>25</td>\n",
              "      <td>27.89</td>\n",
              "      <td>Overweight</td>\n",
              "    </tr>\n",
              "    <tr>\n",
              "      <th>61</th>\n",
              "      <td>nfp8024</td>\n",
              "      <td>1</td>\n",
              "      <td>28</td>\n",
              "      <td>28.75</td>\n",
              "      <td>15.0</td>\n",
              "      <td>5.0</td>\n",
              "      <td>4.67</td>\n",
              "      <td>23</td>\n",
              "      <td>24.96</td>\n",
              "      <td>Healthy Weight</td>\n",
              "    </tr>\n",
              "    <tr>\n",
              "      <th>...</th>\n",
              "      <td>...</td>\n",
              "      <td>...</td>\n",
              "      <td>...</td>\n",
              "      <td>...</td>\n",
              "      <td>...</td>\n",
              "      <td>...</td>\n",
              "      <td>...</td>\n",
              "      <td>...</td>\n",
              "      <td>...</td>\n",
              "      <td>...</td>\n",
              "    </tr>\n",
              "    <tr>\n",
              "      <th>1343</th>\n",
              "      <td>nfp8286</td>\n",
              "      <td>1</td>\n",
              "      <td>37</td>\n",
              "      <td>33.00</td>\n",
              "      <td>20.0</td>\n",
              "      <td>6.0</td>\n",
              "      <td>5.50</td>\n",
              "      <td>33</td>\n",
              "      <td>24.44</td>\n",
              "      <td>Healthy Weight</td>\n",
              "    </tr>\n",
              "    <tr>\n",
              "      <th>1345</th>\n",
              "      <td>nfp8288</td>\n",
              "      <td>1</td>\n",
              "      <td>28</td>\n",
              "      <td>29.00</td>\n",
              "      <td>12.0</td>\n",
              "      <td>4.0</td>\n",
              "      <td>4.33</td>\n",
              "      <td>30</td>\n",
              "      <td>27.98</td>\n",
              "      <td>Overweight</td>\n",
              "    </tr>\n",
              "    <tr>\n",
              "      <th>1348</th>\n",
              "      <td>nfp8289</td>\n",
              "      <td>1</td>\n",
              "      <td>28</td>\n",
              "      <td>26.94</td>\n",
              "      <td>13.0</td>\n",
              "      <td>4.0</td>\n",
              "      <td>4.47</td>\n",
              "      <td>40</td>\n",
              "      <td>22.46</td>\n",
              "      <td>Healthy Weight</td>\n",
              "    </tr>\n",
              "    <tr>\n",
              "      <th>1393</th>\n",
              "      <td>nfp8292</td>\n",
              "      <td>1</td>\n",
              "      <td>30</td>\n",
              "      <td>NaN</td>\n",
              "      <td>15.0</td>\n",
              "      <td>6.0</td>\n",
              "      <td>NaN</td>\n",
              "      <td>34</td>\n",
              "      <td>24.21</td>\n",
              "      <td>Healthy Weight</td>\n",
              "    </tr>\n",
              "    <tr>\n",
              "      <th>1406</th>\n",
              "      <td>nfp8293</td>\n",
              "      <td>1</td>\n",
              "      <td>29</td>\n",
              "      <td>NaN</td>\n",
              "      <td>16.0</td>\n",
              "      <td>6.0</td>\n",
              "      <td>NaN</td>\n",
              "      <td>23</td>\n",
              "      <td>19.48</td>\n",
              "      <td>Healthy Weight</td>\n",
              "    </tr>\n",
              "  </tbody>\n",
              "</table>\n",
              "<p>133 rows × 10 columns</p>\n",
              "</div>\n",
              "    <div class=\"colab-df-buttons\">\n",
              "\n",
              "  <div class=\"colab-df-container\">\n",
              "    <button class=\"colab-df-convert\" onclick=\"convertToInteractive('df-c8edf198-cc1a-41c3-bf9c-0488deb392a6')\"\n",
              "            title=\"Convert this dataframe to an interactive table.\"\n",
              "            style=\"display:none;\">\n",
              "\n",
              "  <svg xmlns=\"http://www.w3.org/2000/svg\" height=\"24px\" viewBox=\"0 -960 960 960\">\n",
              "    <path d=\"M120-120v-720h720v720H120Zm60-500h600v-160H180v160Zm220 220h160v-160H400v160Zm0 220h160v-160H400v160ZM180-400h160v-160H180v160Zm440 0h160v-160H620v160ZM180-180h160v-160H180v160Zm440 0h160v-160H620v160Z\"/>\n",
              "  </svg>\n",
              "    </button>\n",
              "\n",
              "  <style>\n",
              "    .colab-df-container {\n",
              "      display:flex;\n",
              "      gap: 12px;\n",
              "    }\n",
              "\n",
              "    .colab-df-convert {\n",
              "      background-color: #E8F0FE;\n",
              "      border: none;\n",
              "      border-radius: 50%;\n",
              "      cursor: pointer;\n",
              "      display: none;\n",
              "      fill: #1967D2;\n",
              "      height: 32px;\n",
              "      padding: 0 0 0 0;\n",
              "      width: 32px;\n",
              "    }\n",
              "\n",
              "    .colab-df-convert:hover {\n",
              "      background-color: #E2EBFA;\n",
              "      box-shadow: 0px 1px 2px rgba(60, 64, 67, 0.3), 0px 1px 3px 1px rgba(60, 64, 67, 0.15);\n",
              "      fill: #174EA6;\n",
              "    }\n",
              "\n",
              "    .colab-df-buttons div {\n",
              "      margin-bottom: 4px;\n",
              "    }\n",
              "\n",
              "    [theme=dark] .colab-df-convert {\n",
              "      background-color: #3B4455;\n",
              "      fill: #D2E3FC;\n",
              "    }\n",
              "\n",
              "    [theme=dark] .colab-df-convert:hover {\n",
              "      background-color: #434B5C;\n",
              "      box-shadow: 0px 1px 3px 1px rgba(0, 0, 0, 0.15);\n",
              "      filter: drop-shadow(0px 1px 2px rgba(0, 0, 0, 0.3));\n",
              "      fill: #FFFFFF;\n",
              "    }\n",
              "  </style>\n",
              "\n",
              "    <script>\n",
              "      const buttonEl =\n",
              "        document.querySelector('#df-c8edf198-cc1a-41c3-bf9c-0488deb392a6 button.colab-df-convert');\n",
              "      buttonEl.style.display =\n",
              "        google.colab.kernel.accessAllowed ? 'block' : 'none';\n",
              "\n",
              "      async function convertToInteractive(key) {\n",
              "        const element = document.querySelector('#df-c8edf198-cc1a-41c3-bf9c-0488deb392a6');\n",
              "        const dataTable =\n",
              "          await google.colab.kernel.invokeFunction('convertToInteractive',\n",
              "                                                    [key], {});\n",
              "        if (!dataTable) return;\n",
              "\n",
              "        const docLinkHtml = 'Like what you see? Visit the ' +\n",
              "          '<a target=\"_blank\" href=https://colab.research.google.com/notebooks/data_table.ipynb>data table notebook</a>'\n",
              "          + ' to learn more about interactive tables.';\n",
              "        element.innerHTML = '';\n",
              "        dataTable['output_type'] = 'display_data';\n",
              "        await google.colab.output.renderOutput(dataTable, element);\n",
              "        const docLink = document.createElement('div');\n",
              "        docLink.innerHTML = docLinkHtml;\n",
              "        element.appendChild(docLink);\n",
              "      }\n",
              "    </script>\n",
              "  </div>\n",
              "\n",
              "\n",
              "<div id=\"df-4fb1ecd1-50ad-48db-8a70-7331779e66ad\">\n",
              "  <button class=\"colab-df-quickchart\" onclick=\"quickchart('df-4fb1ecd1-50ad-48db-8a70-7331779e66ad')\"\n",
              "            title=\"Suggest charts\"\n",
              "            style=\"display:none;\">\n",
              "\n",
              "<svg xmlns=\"http://www.w3.org/2000/svg\" height=\"24px\"viewBox=\"0 0 24 24\"\n",
              "     width=\"24px\">\n",
              "    <g>\n",
              "        <path d=\"M19 3H5c-1.1 0-2 .9-2 2v14c0 1.1.9 2 2 2h14c1.1 0 2-.9 2-2V5c0-1.1-.9-2-2-2zM9 17H7v-7h2v7zm4 0h-2V7h2v10zm4 0h-2v-4h2v4z\"/>\n",
              "    </g>\n",
              "</svg>\n",
              "  </button>\n",
              "\n",
              "<style>\n",
              "  .colab-df-quickchart {\n",
              "      --bg-color: #E8F0FE;\n",
              "      --fill-color: #1967D2;\n",
              "      --hover-bg-color: #E2EBFA;\n",
              "      --hover-fill-color: #174EA6;\n",
              "      --disabled-fill-color: #AAA;\n",
              "      --disabled-bg-color: #DDD;\n",
              "  }\n",
              "\n",
              "  [theme=dark] .colab-df-quickchart {\n",
              "      --bg-color: #3B4455;\n",
              "      --fill-color: #D2E3FC;\n",
              "      --hover-bg-color: #434B5C;\n",
              "      --hover-fill-color: #FFFFFF;\n",
              "      --disabled-bg-color: #3B4455;\n",
              "      --disabled-fill-color: #666;\n",
              "  }\n",
              "\n",
              "  .colab-df-quickchart {\n",
              "    background-color: var(--bg-color);\n",
              "    border: none;\n",
              "    border-radius: 50%;\n",
              "    cursor: pointer;\n",
              "    display: none;\n",
              "    fill: var(--fill-color);\n",
              "    height: 32px;\n",
              "    padding: 0;\n",
              "    width: 32px;\n",
              "  }\n",
              "\n",
              "  .colab-df-quickchart:hover {\n",
              "    background-color: var(--hover-bg-color);\n",
              "    box-shadow: 0 1px 2px rgba(60, 64, 67, 0.3), 0 1px 3px 1px rgba(60, 64, 67, 0.15);\n",
              "    fill: var(--button-hover-fill-color);\n",
              "  }\n",
              "\n",
              "  .colab-df-quickchart-complete:disabled,\n",
              "  .colab-df-quickchart-complete:disabled:hover {\n",
              "    background-color: var(--disabled-bg-color);\n",
              "    fill: var(--disabled-fill-color);\n",
              "    box-shadow: none;\n",
              "  }\n",
              "\n",
              "  .colab-df-spinner {\n",
              "    border: 2px solid var(--fill-color);\n",
              "    border-color: transparent;\n",
              "    border-bottom-color: var(--fill-color);\n",
              "    animation:\n",
              "      spin 1s steps(1) infinite;\n",
              "  }\n",
              "\n",
              "  @keyframes spin {\n",
              "    0% {\n",
              "      border-color: transparent;\n",
              "      border-bottom-color: var(--fill-color);\n",
              "      border-left-color: var(--fill-color);\n",
              "    }\n",
              "    20% {\n",
              "      border-color: transparent;\n",
              "      border-left-color: var(--fill-color);\n",
              "      border-top-color: var(--fill-color);\n",
              "    }\n",
              "    30% {\n",
              "      border-color: transparent;\n",
              "      border-left-color: var(--fill-color);\n",
              "      border-top-color: var(--fill-color);\n",
              "      border-right-color: var(--fill-color);\n",
              "    }\n",
              "    40% {\n",
              "      border-color: transparent;\n",
              "      border-right-color: var(--fill-color);\n",
              "      border-top-color: var(--fill-color);\n",
              "    }\n",
              "    60% {\n",
              "      border-color: transparent;\n",
              "      border-right-color: var(--fill-color);\n",
              "    }\n",
              "    80% {\n",
              "      border-color: transparent;\n",
              "      border-right-color: var(--fill-color);\n",
              "      border-bottom-color: var(--fill-color);\n",
              "    }\n",
              "    90% {\n",
              "      border-color: transparent;\n",
              "      border-bottom-color: var(--fill-color);\n",
              "    }\n",
              "  }\n",
              "</style>\n",
              "\n",
              "  <script>\n",
              "    async function quickchart(key) {\n",
              "      const quickchartButtonEl =\n",
              "        document.querySelector('#' + key + ' button');\n",
              "      quickchartButtonEl.disabled = true;  // To prevent multiple clicks.\n",
              "      quickchartButtonEl.classList.add('colab-df-spinner');\n",
              "      try {\n",
              "        const charts = await google.colab.kernel.invokeFunction(\n",
              "            'suggestCharts', [key], {});\n",
              "      } catch (error) {\n",
              "        console.error('Error during call to suggestCharts:', error);\n",
              "      }\n",
              "      quickchartButtonEl.classList.remove('colab-df-spinner');\n",
              "      quickchartButtonEl.classList.add('colab-df-quickchart-complete');\n",
              "    }\n",
              "    (() => {\n",
              "      let quickchartButtonEl =\n",
              "        document.querySelector('#df-4fb1ecd1-50ad-48db-8a70-7331779e66ad button');\n",
              "      quickchartButtonEl.style.display =\n",
              "        google.colab.kernel.accessAllowed ? 'block' : 'none';\n",
              "    })();\n",
              "  </script>\n",
              "</div>\n",
              "\n",
              "    </div>\n",
              "  </div>\n"
            ],
            "application/vnd.google.colaboratory.intrinsic+json": {
              "type": "dataframe",
              "summary": "{\n  \"name\": \"clean_df\",\n  \"rows\": 133,\n  \"fields\": [\n    {\n      \"column\": \"ClientID\",\n      \"properties\": {\n        \"dtype\": \"string\",\n        \"num_unique_values\": 130,\n        \"samples\": [\n          \"nfp8144\",\n          \"nfp8091\",\n          \"nfp8049\"\n        ],\n        \"semantic_type\": \"\",\n        \"description\": \"\"\n      }\n    },\n    {\n      \"column\": \"CycleNumber\",\n      \"properties\": {\n        \"dtype\": \"number\",\n        \"std\": 0,\n        \"min\": 1,\n        \"max\": 1,\n        \"num_unique_values\": 1,\n        \"samples\": [\n          1\n        ],\n        \"semantic_type\": \"\",\n        \"description\": \"\"\n      }\n    },\n    {\n      \"column\": \"LengthofCycle\",\n      \"properties\": {\n        \"dtype\": \"number\",\n        \"std\": 3,\n        \"min\": 24,\n        \"max\": 48,\n        \"num_unique_values\": 18,\n        \"samples\": [\n          29\n        ],\n        \"semantic_type\": \"\",\n        \"description\": \"\"\n      }\n    },\n    {\n      \"column\": \"MeanCycleLength\",\n      \"properties\": {\n        \"dtype\": \"number\",\n        \"std\": 3.1016233324682787,\n        \"min\": 24.0,\n        \"max\": 40.0,\n        \"num_unique_values\": 97,\n        \"samples\": [\n          29.82\n        ],\n        \"semantic_type\": \"\",\n        \"description\": \"\"\n      }\n    },\n    {\n      \"column\": \"EstimatedDayofOvulation\",\n      \"properties\": {\n        \"dtype\": \"number\",\n        \"std\": 4.126967742192569,\n        \"min\": 11.0,\n        \"max\": 29.0,\n        \"num_unique_values\": 18,\n        \"samples\": [\n          17.0\n        ],\n        \"semantic_type\": \"\",\n        \"description\": \"\"\n      }\n    },\n    {\n      \"column\": \"LengthofMenses\",\n      \"properties\": {\n        \"dtype\": \"number\",\n        \"std\": 1.4851739382288724,\n        \"min\": 2.0,\n        \"max\": 15.0,\n        \"num_unique_values\": 9,\n        \"samples\": [\n          9.0\n        ],\n        \"semantic_type\": \"\",\n        \"description\": \"\"\n      }\n    },\n    {\n      \"column\": \"MeanMensesLength\",\n      \"properties\": {\n        \"dtype\": \"number\",\n        \"std\": 1.0353450220648994,\n        \"min\": 2.4,\n        \"max\": 8.58,\n        \"num_unique_values\": 72,\n        \"samples\": [\n          4.67\n        ],\n        \"semantic_type\": \"\",\n        \"description\": \"\"\n      }\n    },\n    {\n      \"column\": \"Age\",\n      \"properties\": {\n        \"dtype\": \"Int64\",\n        \"num_unique_values\": 22,\n        \"samples\": [\n          36\n        ],\n        \"semantic_type\": \"\",\n        \"description\": \"\"\n      }\n    },\n    {\n      \"column\": \"BMI\",\n      \"properties\": {\n        \"dtype\": \"number\",\n        \"std\": 5.522625897054337,\n        \"min\": 16.83,\n        \"max\": 49.92,\n        \"num_unique_values\": 107,\n        \"samples\": [\n          18.88\n        ],\n        \"semantic_type\": \"\",\n        \"description\": \"\"\n      }\n    },\n    {\n      \"column\": \"BMI_Cat\",\n      \"properties\": {\n        \"dtype\": \"category\",\n        \"num_unique_values\": 4,\n        \"samples\": [\n          \"Overweight\"\n        ],\n        \"semantic_type\": \"\",\n        \"description\": \"\"\n      }\n    }\n  ]\n}"
            }
          },
          "metadata": {},
          "execution_count": 32
        }
      ]
    },
    {
      "cell_type": "code",
      "source": [
        "# checking work\n",
        "# -------------\n",
        "\n",
        "clean_df[\"BMI_Cat\"].unique() # 107\n",
        "# clean_df[\"BMI_Cat\"].isnull().sum() # 1532"
      ],
      "metadata": {
        "colab": {
          "base_uri": "https://localhost:8080/"
        },
        "id": "4HTr4RtC5Pxn",
        "outputId": "4d67a0cc-caa9-4a09-9199-e88f51252788"
      },
      "execution_count": 33,
      "outputs": [
        {
          "output_type": "execute_result",
          "data": {
            "text/plain": [
              "array(['Healthy Weight', None, 'Overweight', 'Obese', 'Underweight'],\n",
              "      dtype=object)"
            ]
          },
          "metadata": {},
          "execution_count": 33
        }
      ]
    },
    {
      "cell_type": "markdown",
      "source": [
        "There appears to be a correlation between BMI and one's menstrual cycle length.\n",
        "\n",
        "A 2022 meta-analysis of the effects of obesity on the menstrual cycle found that women with higher BMIs tend to have longer menstrual cycles. For instance, women with obesity (BMI ≥ 30) have an average cycle length of 29.4 days, compared to 28.9 days for women with a healthy BMI (18.5-24.9).\n",
        "\n",
        "Source: [Itriyeva, K. (2022). The effects of obesity on the menstrual cycle.](https://pmc.ncbi.nlm.nih.gov/articles/PMC9449629/#:~:text=Specifically%2C%20women%20with%20obesity%20(BMI,(greater%20than%2035%20days)\n",
        "\n",
        "\n",
        "Let's find the average menstrual cycle length grouped by BMI Category to see if the current dataset reflects these findings."
      ],
      "metadata": {
        "id": "0970WRfv57ah"
      }
    },
    {
      "cell_type": "code",
      "source": [
        "# find average menstrual cycle length grouped by BMI category\n",
        "# -----------------------------------------------------------\n",
        "menst_BMI = clean_df.groupby('BMI_Cat')[\"LengthofCycle\"].mean()\n",
        "\n",
        "print(menst_BMI)"
      ],
      "metadata": {
        "colab": {
          "base_uri": "https://localhost:8080/"
        },
        "id": "LSHIdC52aAXd",
        "outputId": "f42e1895-bae5-44ea-b290-cbf4b3c5ce35"
      },
      "execution_count": 34,
      "outputs": [
        {
          "output_type": "stream",
          "name": "stdout",
          "text": [
            "BMI_Cat\n",
            "Healthy Weight    30.202703\n",
            "Obese             28.833333\n",
            "Overweight        30.000000\n",
            "Underweight       29.500000\n",
            "Name: LengthofCycle, dtype: float64\n"
          ]
        }
      ]
    },
    {
      "cell_type": "markdown",
      "source": [
        "Based on these results, it actually looks like women with higher BMIs may have shorter menstrual cycles."
      ],
      "metadata": {
        "id": "rG1kCdROI_fU"
      }
    },
    {
      "cell_type": "markdown",
      "source": [
        "## Demographic Variables"
      ],
      "metadata": {
        "id": "81qDs_LrZEW8"
      }
    },
    {
      "cell_type": "markdown",
      "source": [
        "### Age"
      ],
      "metadata": {
        "id": "tD0pbwK2Zfuj"
      }
    },
    {
      "cell_type": "markdown",
      "source": [
        "First, let's see the distribution of ages in our dataset."
      ],
      "metadata": {
        "id": "8PhcJuMlNxBJ"
      }
    },
    {
      "cell_type": "code",
      "source": [
        "clean_df[\"Age\"].count() # 143 values"
      ],
      "metadata": {
        "colab": {
          "base_uri": "https://localhost:8080/"
        },
        "id": "pEvaHFHnPoyl",
        "outputId": "a8553a25-bcd8-4e78-f077-9fbdb498e628"
      },
      "execution_count": 35,
      "outputs": [
        {
          "output_type": "execute_result",
          "data": {
            "text/plain": [
              "142"
            ]
          },
          "metadata": {},
          "execution_count": 35
        }
      ]
    },
    {
      "cell_type": "markdown",
      "source": [
        "There are 142 data points in the \"Age\" column of clean_df."
      ],
      "metadata": {
        "id": "P5xdcT8UVDhO"
      }
    },
    {
      "cell_type": "code",
      "source": [
        "clean_df[\"Age\"].unique()"
      ],
      "metadata": {
        "colab": {
          "base_uri": "https://localhost:8080/"
        },
        "id": "H32jN1OkUsxi",
        "outputId": "7220fd54-3a7c-4ba0-8574-283efaf46ca9"
      },
      "execution_count": 36,
      "outputs": [
        {
          "output_type": "execute_result",
          "data": {
            "text/plain": [
              "<IntegerArray>\n",
              "[  36, <NA>,   39,   29,   26,   25,   23,   33,   30,   31,   24,   27,   35,\n",
              "   37,   32,   38,   21,   34,   22,   28,   43,   41,   40,   42]\n",
              "Length: 24, dtype: Int64"
            ]
          },
          "metadata": {},
          "execution_count": 36
        }
      ]
    },
    {
      "cell_type": "code",
      "source": [
        "clean_df[\"Age\"].min() # 21.0\n",
        "clean_df[\"Age\"].max() # 43.0"
      ],
      "metadata": {
        "colab": {
          "base_uri": "https://localhost:8080/"
        },
        "id": "G8QstR8JU_6w",
        "outputId": "02017571-28e4-4161-af72-ce70f12f321f"
      },
      "execution_count": 37,
      "outputs": [
        {
          "output_type": "execute_result",
          "data": {
            "text/plain": [
              "43"
            ]
          },
          "metadata": {},
          "execution_count": 37
        }
      ]
    },
    {
      "cell_type": "markdown",
      "source": [
        "The ages of women in the dataset vary from 21 years old at the youngest to 43 years old at the oldest.\n"
      ],
      "metadata": {
        "id": "o2z_QEUHUzFM"
      }
    },
    {
      "cell_type": "markdown",
      "source": [
        "Menstrual cycle length has to been found to differ notably with age throughout the reproductive lifespan.\n",
        "\n",
        "Evidence shows that people under 20 years old had menstrual cycles 30.3 days long on average, 1.6 days longer than the 28.7-day average for those 35 to 39 years old.\n",
        "\n",
        "Additionally, people 40-44 and 45-49 years old had shorter cycles, averaging 28.2 and 28.4 days, respectively.\n",
        "\n",
        "Those over 50 years old had longer cycles, averaging 30.8 days.\n",
        "\n",
        "Source: [Harvard T.H. Chan School of Public Health, Menstrual cycles today](https://www.hsph.harvard.edu/applewomenshealthstudy/updates/menstrualcyclestoday/#:~:text=People%20under%2020%20years%20old,longer%20cycles%2C%20averaging%2030.8%20days.)"
      ],
      "metadata": {
        "id": "uOq4GaAGR49V"
      }
    },
    {
      "cell_type": "markdown",
      "source": [
        "**Age Categories**\n",
        "\n",
        "Now, let's find the average menstrual cycle length grouped by age.\n",
        "\n",
        "Since age is a numeric variable, let's first create a new column that contains age \"categories\" like we did for BMI.\n",
        "\n",
        "Let's use the age ranges that are mentioned in the research noted above as the grouping method."
      ],
      "metadata": {
        "id": "t1R9Fd3Cdr-J"
      }
    },
    {
      "cell_type": "code",
      "source": [
        "def age_category(Age):\n",
        "    if Age < 20:\n",
        "        return \"Under 20\"\n",
        "    elif 20 <= Age <= 34:\n",
        "        return \"20-34\"\n",
        "    elif 35 <= Age <= 39:\n",
        "        return \"35-39\"\n",
        "    elif 40 <= Age <= 44:\n",
        "        return \"40-44\"\n",
        "    elif 45 <= Age <= 49:\n",
        "        return \"45-49\"\n",
        "    elif Age >= 50:\n",
        "        return \"50+\"\n",
        "    else:\n",
        "        pass\n",
        "\n",
        "# applies newly created age_category function to \"Age\" column\n",
        "clean_df[\"Age_Cat\"] = clean_df[\"Age\"].apply(age_category) # creates new \"Age_Cat\" column using function\n",
        "\n",
        "clean_df.dropna(subset = [\"Age_Cat\", \"Age\"], how = \"all\", inplace = False) # see Age_Cat column in below output"
      ],
      "metadata": {
        "colab": {
          "base_uri": "https://localhost:8080/",
          "height": 513
        },
        "id": "lbIMadpXaoQa",
        "outputId": "9dca85cd-bb1b-46fc-fd92-2ae12fe0f7b4"
      },
      "execution_count": 38,
      "outputs": [
        {
          "output_type": "execute_result",
          "data": {
            "text/plain": [
              "     ClientID  CycleNumber  LengthofCycle  MeanCycleLength  \\\n",
              "0     nfp8122            1             29            27.33   \n",
              "45    nfp8114            1             28            31.00   \n",
              "47    nfp8109            1             29            26.33   \n",
              "50    nfp8107            1             28            26.88   \n",
              "58    nfp8106            1             25            25.33   \n",
              "...       ...          ...            ...              ...   \n",
              "1345  nfp8288            1             28            29.00   \n",
              "1348  nfp8289            1             28            26.94   \n",
              "1380  nfp8290            1             26            28.54   \n",
              "1393  nfp8292            1             30              NaN   \n",
              "1406  nfp8293            1             29              NaN   \n",
              "\n",
              "      EstimatedDayofOvulation  LengthofMenses  MeanMensesLength  Age    BMI  \\\n",
              "0                        17.0             5.0              4.49   36  21.25   \n",
              "45                       14.0             4.0              4.50   39  28.13   \n",
              "47                       19.0             7.0              6.67   29  29.05   \n",
              "50                       18.0             4.0              4.75   26    NaN   \n",
              "58                       11.0             5.0              4.33   25  27.89   \n",
              "...                       ...             ...               ...  ...    ...   \n",
              "1345                     12.0             4.0              4.33   30  27.98   \n",
              "1348                     13.0             4.0              4.47   40  22.46   \n",
              "1380                     15.0             4.0              4.85   33    NaN   \n",
              "1393                     15.0             6.0               NaN   34  24.21   \n",
              "1406                     16.0             6.0               NaN   23  19.48   \n",
              "\n",
              "             BMI_Cat Age_Cat  \n",
              "0     Healthy Weight   35-39  \n",
              "45        Overweight   35-39  \n",
              "47        Overweight   20-34  \n",
              "50              None   20-34  \n",
              "58        Overweight   20-34  \n",
              "...              ...     ...  \n",
              "1345      Overweight   20-34  \n",
              "1348  Healthy Weight   40-44  \n",
              "1380            None   20-34  \n",
              "1393  Healthy Weight   20-34  \n",
              "1406  Healthy Weight   20-34  \n",
              "\n",
              "[142 rows x 11 columns]"
            ],
            "text/html": [
              "\n",
              "  <div id=\"df-dbf2e96a-bbc1-41c9-b222-342c5de5435c\" class=\"colab-df-container\">\n",
              "    <div>\n",
              "<style scoped>\n",
              "    .dataframe tbody tr th:only-of-type {\n",
              "        vertical-align: middle;\n",
              "    }\n",
              "\n",
              "    .dataframe tbody tr th {\n",
              "        vertical-align: top;\n",
              "    }\n",
              "\n",
              "    .dataframe thead th {\n",
              "        text-align: right;\n",
              "    }\n",
              "</style>\n",
              "<table border=\"1\" class=\"dataframe\">\n",
              "  <thead>\n",
              "    <tr style=\"text-align: right;\">\n",
              "      <th></th>\n",
              "      <th>ClientID</th>\n",
              "      <th>CycleNumber</th>\n",
              "      <th>LengthofCycle</th>\n",
              "      <th>MeanCycleLength</th>\n",
              "      <th>EstimatedDayofOvulation</th>\n",
              "      <th>LengthofMenses</th>\n",
              "      <th>MeanMensesLength</th>\n",
              "      <th>Age</th>\n",
              "      <th>BMI</th>\n",
              "      <th>BMI_Cat</th>\n",
              "      <th>Age_Cat</th>\n",
              "    </tr>\n",
              "  </thead>\n",
              "  <tbody>\n",
              "    <tr>\n",
              "      <th>0</th>\n",
              "      <td>nfp8122</td>\n",
              "      <td>1</td>\n",
              "      <td>29</td>\n",
              "      <td>27.33</td>\n",
              "      <td>17.0</td>\n",
              "      <td>5.0</td>\n",
              "      <td>4.49</td>\n",
              "      <td>36</td>\n",
              "      <td>21.25</td>\n",
              "      <td>Healthy Weight</td>\n",
              "      <td>35-39</td>\n",
              "    </tr>\n",
              "    <tr>\n",
              "      <th>45</th>\n",
              "      <td>nfp8114</td>\n",
              "      <td>1</td>\n",
              "      <td>28</td>\n",
              "      <td>31.00</td>\n",
              "      <td>14.0</td>\n",
              "      <td>4.0</td>\n",
              "      <td>4.50</td>\n",
              "      <td>39</td>\n",
              "      <td>28.13</td>\n",
              "      <td>Overweight</td>\n",
              "      <td>35-39</td>\n",
              "    </tr>\n",
              "    <tr>\n",
              "      <th>47</th>\n",
              "      <td>nfp8109</td>\n",
              "      <td>1</td>\n",
              "      <td>29</td>\n",
              "      <td>26.33</td>\n",
              "      <td>19.0</td>\n",
              "      <td>7.0</td>\n",
              "      <td>6.67</td>\n",
              "      <td>29</td>\n",
              "      <td>29.05</td>\n",
              "      <td>Overweight</td>\n",
              "      <td>20-34</td>\n",
              "    </tr>\n",
              "    <tr>\n",
              "      <th>50</th>\n",
              "      <td>nfp8107</td>\n",
              "      <td>1</td>\n",
              "      <td>28</td>\n",
              "      <td>26.88</td>\n",
              "      <td>18.0</td>\n",
              "      <td>4.0</td>\n",
              "      <td>4.75</td>\n",
              "      <td>26</td>\n",
              "      <td>NaN</td>\n",
              "      <td>None</td>\n",
              "      <td>20-34</td>\n",
              "    </tr>\n",
              "    <tr>\n",
              "      <th>58</th>\n",
              "      <td>nfp8106</td>\n",
              "      <td>1</td>\n",
              "      <td>25</td>\n",
              "      <td>25.33</td>\n",
              "      <td>11.0</td>\n",
              "      <td>5.0</td>\n",
              "      <td>4.33</td>\n",
              "      <td>25</td>\n",
              "      <td>27.89</td>\n",
              "      <td>Overweight</td>\n",
              "      <td>20-34</td>\n",
              "    </tr>\n",
              "    <tr>\n",
              "      <th>...</th>\n",
              "      <td>...</td>\n",
              "      <td>...</td>\n",
              "      <td>...</td>\n",
              "      <td>...</td>\n",
              "      <td>...</td>\n",
              "      <td>...</td>\n",
              "      <td>...</td>\n",
              "      <td>...</td>\n",
              "      <td>...</td>\n",
              "      <td>...</td>\n",
              "      <td>...</td>\n",
              "    </tr>\n",
              "    <tr>\n",
              "      <th>1345</th>\n",
              "      <td>nfp8288</td>\n",
              "      <td>1</td>\n",
              "      <td>28</td>\n",
              "      <td>29.00</td>\n",
              "      <td>12.0</td>\n",
              "      <td>4.0</td>\n",
              "      <td>4.33</td>\n",
              "      <td>30</td>\n",
              "      <td>27.98</td>\n",
              "      <td>Overweight</td>\n",
              "      <td>20-34</td>\n",
              "    </tr>\n",
              "    <tr>\n",
              "      <th>1348</th>\n",
              "      <td>nfp8289</td>\n",
              "      <td>1</td>\n",
              "      <td>28</td>\n",
              "      <td>26.94</td>\n",
              "      <td>13.0</td>\n",
              "      <td>4.0</td>\n",
              "      <td>4.47</td>\n",
              "      <td>40</td>\n",
              "      <td>22.46</td>\n",
              "      <td>Healthy Weight</td>\n",
              "      <td>40-44</td>\n",
              "    </tr>\n",
              "    <tr>\n",
              "      <th>1380</th>\n",
              "      <td>nfp8290</td>\n",
              "      <td>1</td>\n",
              "      <td>26</td>\n",
              "      <td>28.54</td>\n",
              "      <td>15.0</td>\n",
              "      <td>4.0</td>\n",
              "      <td>4.85</td>\n",
              "      <td>33</td>\n",
              "      <td>NaN</td>\n",
              "      <td>None</td>\n",
              "      <td>20-34</td>\n",
              "    </tr>\n",
              "    <tr>\n",
              "      <th>1393</th>\n",
              "      <td>nfp8292</td>\n",
              "      <td>1</td>\n",
              "      <td>30</td>\n",
              "      <td>NaN</td>\n",
              "      <td>15.0</td>\n",
              "      <td>6.0</td>\n",
              "      <td>NaN</td>\n",
              "      <td>34</td>\n",
              "      <td>24.21</td>\n",
              "      <td>Healthy Weight</td>\n",
              "      <td>20-34</td>\n",
              "    </tr>\n",
              "    <tr>\n",
              "      <th>1406</th>\n",
              "      <td>nfp8293</td>\n",
              "      <td>1</td>\n",
              "      <td>29</td>\n",
              "      <td>NaN</td>\n",
              "      <td>16.0</td>\n",
              "      <td>6.0</td>\n",
              "      <td>NaN</td>\n",
              "      <td>23</td>\n",
              "      <td>19.48</td>\n",
              "      <td>Healthy Weight</td>\n",
              "      <td>20-34</td>\n",
              "    </tr>\n",
              "  </tbody>\n",
              "</table>\n",
              "<p>142 rows × 11 columns</p>\n",
              "</div>\n",
              "    <div class=\"colab-df-buttons\">\n",
              "\n",
              "  <div class=\"colab-df-container\">\n",
              "    <button class=\"colab-df-convert\" onclick=\"convertToInteractive('df-dbf2e96a-bbc1-41c9-b222-342c5de5435c')\"\n",
              "            title=\"Convert this dataframe to an interactive table.\"\n",
              "            style=\"display:none;\">\n",
              "\n",
              "  <svg xmlns=\"http://www.w3.org/2000/svg\" height=\"24px\" viewBox=\"0 -960 960 960\">\n",
              "    <path d=\"M120-120v-720h720v720H120Zm60-500h600v-160H180v160Zm220 220h160v-160H400v160Zm0 220h160v-160H400v160ZM180-400h160v-160H180v160Zm440 0h160v-160H620v160ZM180-180h160v-160H180v160Zm440 0h160v-160H620v160Z\"/>\n",
              "  </svg>\n",
              "    </button>\n",
              "\n",
              "  <style>\n",
              "    .colab-df-container {\n",
              "      display:flex;\n",
              "      gap: 12px;\n",
              "    }\n",
              "\n",
              "    .colab-df-convert {\n",
              "      background-color: #E8F0FE;\n",
              "      border: none;\n",
              "      border-radius: 50%;\n",
              "      cursor: pointer;\n",
              "      display: none;\n",
              "      fill: #1967D2;\n",
              "      height: 32px;\n",
              "      padding: 0 0 0 0;\n",
              "      width: 32px;\n",
              "    }\n",
              "\n",
              "    .colab-df-convert:hover {\n",
              "      background-color: #E2EBFA;\n",
              "      box-shadow: 0px 1px 2px rgba(60, 64, 67, 0.3), 0px 1px 3px 1px rgba(60, 64, 67, 0.15);\n",
              "      fill: #174EA6;\n",
              "    }\n",
              "\n",
              "    .colab-df-buttons div {\n",
              "      margin-bottom: 4px;\n",
              "    }\n",
              "\n",
              "    [theme=dark] .colab-df-convert {\n",
              "      background-color: #3B4455;\n",
              "      fill: #D2E3FC;\n",
              "    }\n",
              "\n",
              "    [theme=dark] .colab-df-convert:hover {\n",
              "      background-color: #434B5C;\n",
              "      box-shadow: 0px 1px 3px 1px rgba(0, 0, 0, 0.15);\n",
              "      filter: drop-shadow(0px 1px 2px rgba(0, 0, 0, 0.3));\n",
              "      fill: #FFFFFF;\n",
              "    }\n",
              "  </style>\n",
              "\n",
              "    <script>\n",
              "      const buttonEl =\n",
              "        document.querySelector('#df-dbf2e96a-bbc1-41c9-b222-342c5de5435c button.colab-df-convert');\n",
              "      buttonEl.style.display =\n",
              "        google.colab.kernel.accessAllowed ? 'block' : 'none';\n",
              "\n",
              "      async function convertToInteractive(key) {\n",
              "        const element = document.querySelector('#df-dbf2e96a-bbc1-41c9-b222-342c5de5435c');\n",
              "        const dataTable =\n",
              "          await google.colab.kernel.invokeFunction('convertToInteractive',\n",
              "                                                    [key], {});\n",
              "        if (!dataTable) return;\n",
              "\n",
              "        const docLinkHtml = 'Like what you see? Visit the ' +\n",
              "          '<a target=\"_blank\" href=https://colab.research.google.com/notebooks/data_table.ipynb>data table notebook</a>'\n",
              "          + ' to learn more about interactive tables.';\n",
              "        element.innerHTML = '';\n",
              "        dataTable['output_type'] = 'display_data';\n",
              "        await google.colab.output.renderOutput(dataTable, element);\n",
              "        const docLink = document.createElement('div');\n",
              "        docLink.innerHTML = docLinkHtml;\n",
              "        element.appendChild(docLink);\n",
              "      }\n",
              "    </script>\n",
              "  </div>\n",
              "\n",
              "\n",
              "<div id=\"df-8e6d4826-30c3-4d13-bd82-8d8c70371fc9\">\n",
              "  <button class=\"colab-df-quickchart\" onclick=\"quickchart('df-8e6d4826-30c3-4d13-bd82-8d8c70371fc9')\"\n",
              "            title=\"Suggest charts\"\n",
              "            style=\"display:none;\">\n",
              "\n",
              "<svg xmlns=\"http://www.w3.org/2000/svg\" height=\"24px\"viewBox=\"0 0 24 24\"\n",
              "     width=\"24px\">\n",
              "    <g>\n",
              "        <path d=\"M19 3H5c-1.1 0-2 .9-2 2v14c0 1.1.9 2 2 2h14c1.1 0 2-.9 2-2V5c0-1.1-.9-2-2-2zM9 17H7v-7h2v7zm4 0h-2V7h2v10zm4 0h-2v-4h2v4z\"/>\n",
              "    </g>\n",
              "</svg>\n",
              "  </button>\n",
              "\n",
              "<style>\n",
              "  .colab-df-quickchart {\n",
              "      --bg-color: #E8F0FE;\n",
              "      --fill-color: #1967D2;\n",
              "      --hover-bg-color: #E2EBFA;\n",
              "      --hover-fill-color: #174EA6;\n",
              "      --disabled-fill-color: #AAA;\n",
              "      --disabled-bg-color: #DDD;\n",
              "  }\n",
              "\n",
              "  [theme=dark] .colab-df-quickchart {\n",
              "      --bg-color: #3B4455;\n",
              "      --fill-color: #D2E3FC;\n",
              "      --hover-bg-color: #434B5C;\n",
              "      --hover-fill-color: #FFFFFF;\n",
              "      --disabled-bg-color: #3B4455;\n",
              "      --disabled-fill-color: #666;\n",
              "  }\n",
              "\n",
              "  .colab-df-quickchart {\n",
              "    background-color: var(--bg-color);\n",
              "    border: none;\n",
              "    border-radius: 50%;\n",
              "    cursor: pointer;\n",
              "    display: none;\n",
              "    fill: var(--fill-color);\n",
              "    height: 32px;\n",
              "    padding: 0;\n",
              "    width: 32px;\n",
              "  }\n",
              "\n",
              "  .colab-df-quickchart:hover {\n",
              "    background-color: var(--hover-bg-color);\n",
              "    box-shadow: 0 1px 2px rgba(60, 64, 67, 0.3), 0 1px 3px 1px rgba(60, 64, 67, 0.15);\n",
              "    fill: var(--button-hover-fill-color);\n",
              "  }\n",
              "\n",
              "  .colab-df-quickchart-complete:disabled,\n",
              "  .colab-df-quickchart-complete:disabled:hover {\n",
              "    background-color: var(--disabled-bg-color);\n",
              "    fill: var(--disabled-fill-color);\n",
              "    box-shadow: none;\n",
              "  }\n",
              "\n",
              "  .colab-df-spinner {\n",
              "    border: 2px solid var(--fill-color);\n",
              "    border-color: transparent;\n",
              "    border-bottom-color: var(--fill-color);\n",
              "    animation:\n",
              "      spin 1s steps(1) infinite;\n",
              "  }\n",
              "\n",
              "  @keyframes spin {\n",
              "    0% {\n",
              "      border-color: transparent;\n",
              "      border-bottom-color: var(--fill-color);\n",
              "      border-left-color: var(--fill-color);\n",
              "    }\n",
              "    20% {\n",
              "      border-color: transparent;\n",
              "      border-left-color: var(--fill-color);\n",
              "      border-top-color: var(--fill-color);\n",
              "    }\n",
              "    30% {\n",
              "      border-color: transparent;\n",
              "      border-left-color: var(--fill-color);\n",
              "      border-top-color: var(--fill-color);\n",
              "      border-right-color: var(--fill-color);\n",
              "    }\n",
              "    40% {\n",
              "      border-color: transparent;\n",
              "      border-right-color: var(--fill-color);\n",
              "      border-top-color: var(--fill-color);\n",
              "    }\n",
              "    60% {\n",
              "      border-color: transparent;\n",
              "      border-right-color: var(--fill-color);\n",
              "    }\n",
              "    80% {\n",
              "      border-color: transparent;\n",
              "      border-right-color: var(--fill-color);\n",
              "      border-bottom-color: var(--fill-color);\n",
              "    }\n",
              "    90% {\n",
              "      border-color: transparent;\n",
              "      border-bottom-color: var(--fill-color);\n",
              "    }\n",
              "  }\n",
              "</style>\n",
              "\n",
              "  <script>\n",
              "    async function quickchart(key) {\n",
              "      const quickchartButtonEl =\n",
              "        document.querySelector('#' + key + ' button');\n",
              "      quickchartButtonEl.disabled = true;  // To prevent multiple clicks.\n",
              "      quickchartButtonEl.classList.add('colab-df-spinner');\n",
              "      try {\n",
              "        const charts = await google.colab.kernel.invokeFunction(\n",
              "            'suggestCharts', [key], {});\n",
              "      } catch (error) {\n",
              "        console.error('Error during call to suggestCharts:', error);\n",
              "      }\n",
              "      quickchartButtonEl.classList.remove('colab-df-spinner');\n",
              "      quickchartButtonEl.classList.add('colab-df-quickchart-complete');\n",
              "    }\n",
              "    (() => {\n",
              "      let quickchartButtonEl =\n",
              "        document.querySelector('#df-8e6d4826-30c3-4d13-bd82-8d8c70371fc9 button');\n",
              "      quickchartButtonEl.style.display =\n",
              "        google.colab.kernel.accessAllowed ? 'block' : 'none';\n",
              "    })();\n",
              "  </script>\n",
              "</div>\n",
              "\n",
              "    </div>\n",
              "  </div>\n"
            ],
            "application/vnd.google.colaboratory.intrinsic+json": {
              "type": "dataframe",
              "summary": "{\n  \"name\": \"clean_df\",\n  \"rows\": 142,\n  \"fields\": [\n    {\n      \"column\": \"ClientID\",\n      \"properties\": {\n        \"dtype\": \"string\",\n        \"num_unique_values\": 138,\n        \"samples\": [\n          \"nfp8207\",\n          \"nfp8238\",\n          \"nfp8036\"\n        ],\n        \"semantic_type\": \"\",\n        \"description\": \"\"\n      }\n    },\n    {\n      \"column\": \"CycleNumber\",\n      \"properties\": {\n        \"dtype\": \"number\",\n        \"std\": 0,\n        \"min\": 1,\n        \"max\": 1,\n        \"num_unique_values\": 1,\n        \"samples\": [\n          1\n        ],\n        \"semantic_type\": \"\",\n        \"description\": \"\"\n      }\n    },\n    {\n      \"column\": \"LengthofCycle\",\n      \"properties\": {\n        \"dtype\": \"number\",\n        \"std\": 3,\n        \"min\": 24,\n        \"max\": 48,\n        \"num_unique_values\": 18,\n        \"samples\": [\n          29\n        ],\n        \"semantic_type\": \"\",\n        \"description\": \"\"\n      }\n    },\n    {\n      \"column\": \"MeanCycleLength\",\n      \"properties\": {\n        \"dtype\": \"number\",\n        \"std\": 3.080273707031497,\n        \"min\": 24.0,\n        \"max\": 40.0,\n        \"num_unique_values\": 102,\n        \"samples\": [\n          34.07\n        ],\n        \"semantic_type\": \"\",\n        \"description\": \"\"\n      }\n    },\n    {\n      \"column\": \"EstimatedDayofOvulation\",\n      \"properties\": {\n        \"dtype\": \"number\",\n        \"std\": 4.037929178086721,\n        \"min\": 11.0,\n        \"max\": 29.0,\n        \"num_unique_values\": 18,\n        \"samples\": [\n          17.0\n        ],\n        \"semantic_type\": \"\",\n        \"description\": \"\"\n      }\n    },\n    {\n      \"column\": \"LengthofMenses\",\n      \"properties\": {\n        \"dtype\": \"number\",\n        \"std\": 1.4814134991449917,\n        \"min\": 2.0,\n        \"max\": 15.0,\n        \"num_unique_values\": 9,\n        \"samples\": [\n          9.0\n        ],\n        \"semantic_type\": \"\",\n        \"description\": \"\"\n      }\n    },\n    {\n      \"column\": \"MeanMensesLength\",\n      \"properties\": {\n        \"dtype\": \"number\",\n        \"std\": 1.012175964188911,\n        \"min\": 2.4,\n        \"max\": 8.58,\n        \"num_unique_values\": 76,\n        \"samples\": [\n          4.33\n        ],\n        \"semantic_type\": \"\",\n        \"description\": \"\"\n      }\n    },\n    {\n      \"column\": \"Age\",\n      \"properties\": {\n        \"dtype\": \"Int64\",\n        \"num_unique_values\": 23,\n        \"samples\": [\n          21\n        ],\n        \"semantic_type\": \"\",\n        \"description\": \"\"\n      }\n    },\n    {\n      \"column\": \"BMI\",\n      \"properties\": {\n        \"dtype\": \"number\",\n        \"std\": 5.522625897054337,\n        \"min\": 16.83,\n        \"max\": 49.92,\n        \"num_unique_values\": 107,\n        \"samples\": [\n          18.88\n        ],\n        \"semantic_type\": \"\",\n        \"description\": \"\"\n      }\n    },\n    {\n      \"column\": \"BMI_Cat\",\n      \"properties\": {\n        \"dtype\": \"category\",\n        \"num_unique_values\": 4,\n        \"samples\": [\n          \"Overweight\"\n        ],\n        \"semantic_type\": \"\",\n        \"description\": \"\"\n      }\n    },\n    {\n      \"column\": \"Age_Cat\",\n      \"properties\": {\n        \"dtype\": \"category\",\n        \"num_unique_values\": 3,\n        \"samples\": [\n          \"35-39\"\n        ],\n        \"semantic_type\": \"\",\n        \"description\": \"\"\n      }\n    }\n  ]\n}"
            }
          },
          "metadata": {},
          "execution_count": 38
        }
      ]
    },
    {
      "cell_type": "markdown",
      "source": [
        "Now we can use these age categories to find the average menstrual cycle length for each age group!"
      ],
      "metadata": {
        "id": "cDweFUYvhKBF"
      }
    },
    {
      "cell_type": "code",
      "source": [
        "# find average menstrual cycle length grouped by Age category\n",
        "# -----------------------------------------------------------\n",
        "menst_age = clean_df.groupby(\"Age_Cat\")[\"LengthofCycle\"].mean()\n",
        "\n",
        "print(menst_age)"
      ],
      "metadata": {
        "colab": {
          "base_uri": "https://localhost:8080/"
        },
        "id": "4DrXNYb7aRQY",
        "outputId": "74d64be0-88e8-43ae-eea3-bf9f9c5e8846"
      },
      "execution_count": 39,
      "outputs": [
        {
          "output_type": "stream",
          "name": "stdout",
          "text": [
            "Age_Cat\n",
            "20-34    30.343137\n",
            "35-39    28.866667\n",
            "40-44    28.800000\n",
            "Name: LengthofCycle, dtype: float64\n"
          ]
        }
      ]
    },
    {
      "cell_type": "markdown",
      "source": [
        "The above output appears to coincide with previous research which found that menstrual cycle length tends to decrease as a person ages. However, there appears to a larger difference in length between women 20-34 years old and women 35-39 years old (-1.48 days) than the difference in cycle length betwen women 35-39 years old and women who are 40-44 years old (0.07 days).  "
      ],
      "metadata": {
        "id": "hqnUZfwthU4D"
      }
    },
    {
      "cell_type": "markdown",
      "source": [
        "# Data Visualization"
      ],
      "metadata": {
        "id": "3z0xRrYQZLKG"
      }
    },
    {
      "cell_type": "markdown",
      "source": [
        "## Menstrual Cycle Length"
      ],
      "metadata": {
        "id": "c8QM3uMJYr0w"
      }
    },
    {
      "cell_type": "markdown",
      "source": [
        "To determine the bin size for a histogram, the simplest rule states that the number of bins should be the square root of the number of data points in the set.\n",
        "\n",
        "Since there are 1665 \"LengthofCycle\" values in our clean_df DataFrame, the below histogram will have 41 bins (rounded up)."
      ],
      "metadata": {
        "id": "bmpgb9RVWayq"
      }
    },
    {
      "cell_type": "code",
      "source": [
        "clean_df[\"LengthofCycle\"].count() # 1665 values"
      ],
      "metadata": {
        "colab": {
          "base_uri": "https://localhost:8080/"
        },
        "id": "dT278sdyWbxm",
        "outputId": "bd05290b-8d37-409e-f20e-b11f45e149bb"
      },
      "execution_count": 40,
      "outputs": [
        {
          "output_type": "execute_result",
          "data": {
            "text/plain": [
              "1665"
            ]
          },
          "metadata": {},
          "execution_count": 40
        }
      ]
    },
    {
      "cell_type": "code",
      "source": [
        "math.sqrt(1665) # 40.80"
      ],
      "metadata": {
        "colab": {
          "base_uri": "https://localhost:8080/"
        },
        "id": "t3xZzmbdWs3G",
        "outputId": "d171bbc2-f20e-4b56-95cf-01304ad8afdd"
      },
      "execution_count": 41,
      "outputs": [
        {
          "output_type": "execute_result",
          "data": {
            "text/plain": [
              "40.80441152620633"
            ]
          },
          "metadata": {},
          "execution_count": 41
        }
      ]
    },
    {
      "cell_type": "code",
      "source": [
        "sns.histplot(clean_df[\"LengthofCycle\"], bins = 41, binrange = (0, 48), kde = True)\n",
        "plt.xlabel(\"Menstrual cycle length\") # change x-axis label\n",
        "plt.ylabel(\"Frequency\") # change y-axis label\n",
        "plt.title(\"Menstrual Cycle Length Distribution\") # change title\n",
        "plt.show()"
      ],
      "metadata": {
        "colab": {
          "base_uri": "https://localhost:8080/",
          "height": 472
        },
        "id": "cXSo7xSMZdZD",
        "outputId": "b92f643e-58b9-4dbc-a82c-f229a6e8233e"
      },
      "execution_count": 42,
      "outputs": [
        {
          "output_type": "display_data",
          "data": {
            "text/plain": [
              "<Figure size 640x480 with 1 Axes>"
            ],
            "image/png": "[encoded data removed]"
          },
          "metadata": {}
        }
      ]
    },
    {
      "cell_type": "markdown",
      "source": [
        "From the above plot, it appears as though \"LengthofCycle\" has a right-skewed distribution, meaning that the majority of the data is located on the left side of the graph, and the mean is greater than the median.\n",
        "\n",
        "In other words, most of the women in the sample have menstrual cycles that are\n",
        "\n",
        "\n",
        "ight-skewed distributions indicate that the majority of the data is located on the left side of the graph, and the mean, or average, is greater than the median"
      ],
      "metadata": {
        "id": "6NXyXnFRW1aE"
      }
    },
    {
      "cell_type": "markdown",
      "source": [
        "## Demographic Variables"
      ],
      "metadata": {
        "id": "0bdE0fUCZ8n0"
      }
    },
    {
      "cell_type": "markdown",
      "source": [
        "### BMI\n",
        "\n",
        "Based on the results we found above, it appears as though women with higher BMIs have shorter menstrual cycles. This contradicts with past research, which found that women with higher BMIs tend to have longer cycle lengths.\n",
        "\n",
        "Let's create a boxplot to visualize this relationship as well."
      ],
      "metadata": {
        "id": "K-dazAD5ZQdD"
      }
    },
    {
      "cell_type": "code",
      "source": [
        "# cause on the x-axis, outcome on the y-axis\n",
        "sns.catplot(data = clean_df, x = \"BMI_Cat\", y = \"LengthofCycle\", kind = \"box\") # create box plot\n",
        "# plt.xticks(rotation = 45) # rotate x-axis labels\n",
        "plt.xlabel(\"BMI Category\") # change x-axis label\n",
        "plt.ylabel(\"Length of Menstrual Cycle (days)\") # change y-axis label\n",
        "plt.title(\"Length of Menstrual Cycle by BMI Category\") # change title\n",
        "plt.show()"
      ],
      "metadata": {
        "colab": {
          "base_uri": "https://localhost:8080/",
          "height": 529
        },
        "id": "u1ZYVlbgJfo2",
        "outputId": "7832236d-c642-4ccf-eb25-2eaa1f226651"
      },
      "execution_count": 43,
      "outputs": [
        {
          "output_type": "display_data",
          "data": {
            "text/plain": [
              "<Figure size 511.111x500 with 1 Axes>"
            ],
            "image/png": "[encoded data removed]"
          },
          "metadata": {}
        }
      ]
    },
    {
      "cell_type": "markdown",
      "source": [
        "The following can be interpreted from the above boxplot:\n",
        "\n",
        "- Obese women have a shorter median menstrual cycle than healthy weight, overweight, and underweight women.\n",
        "- All four BMI categories have pretty similar median cycle lengths (around 30 days).\n",
        "- Obese women have the shortest minimum menstrual cycle length.\n",
        "- Healthy weight women have the longest maximum menstrual cycle length.\n",
        "- The menstrual cycle length of healthy weight women and obese women are positively skewed (skewed right).\n",
        "    - This signifies that the bulk of the observations are at the low end (shorter menstrual cycles), with a few observations that are much larger (longer menstrual cycles) than the rest.\n",
        "    - Their means are higher than their medians."
      ],
      "metadata": {
        "id": "0CoYjU5ja2ie"
      }
    },
    {
      "cell_type": "markdown",
      "source": [
        "**QUESTION**: How to fix this skew? What does it mean for our data?"
      ],
      "metadata": {
        "id": "tqbE7lFXMg9X"
      }
    },
    {
      "cell_type": "markdown",
      "source": [
        "### Age"
      ],
      "metadata": {
        "id": "nBSqMTWna7mg"
      }
    },
    {
      "cell_type": "code",
      "source": [
        "clean_df[\"Age\"].unique()\n",
        "clean_df[\"Age\"].min() # 21.0\n",
        "clean_df[\"Age\"].max() # 43.0"
      ],
      "metadata": {
        "colab": {
          "base_uri": "https://localhost:8080/"
        },
        "id": "nJBTTgtvYk4H",
        "outputId": "3f08a7a0-36b2-455d-c07f-c4dadbe416af"
      },
      "execution_count": 44,
      "outputs": [
        {
          "output_type": "execute_result",
          "data": {
            "text/plain": [
              "43"
            ]
          },
          "metadata": {},
          "execution_count": 44
        }
      ]
    },
    {
      "cell_type": "markdown",
      "source": [
        "First, let's find the square root of 142 (the number of data points in the \"Age\" column to determine how many bins our histogram should have."
      ],
      "metadata": {
        "id": "9Sch1Ig7Z9Jw"
      }
    },
    {
      "cell_type": "code",
      "source": [
        "math.sqrt(142) # 11.92"
      ],
      "metadata": {
        "colab": {
          "base_uri": "https://localhost:8080/"
        },
        "id": "txUcHRBOQSfh",
        "outputId": "7ce797bc-43c3-486d-f897-44f5707df442"
      },
      "execution_count": 45,
      "outputs": [
        {
          "output_type": "execute_result",
          "data": {
            "text/plain": [
              "11.916375287812984"
            ]
          },
          "metadata": {},
          "execution_count": 45
        }
      ]
    },
    {
      "cell_type": "code",
      "source": [
        "# histograms with seaborn\n",
        "sns.histplot(clean_df[\"Age\"], bins = 12)\n",
        "plt.xlabel(\"Age (in years)\") # change x-axis label\n",
        "plt.ylabel(\"Frequency\") # change y-axis label\n",
        "plt.title(\"Age Distribution of Dataset\") # change title\n",
        "plt.show()"
      ],
      "metadata": {
        "colab": {
          "base_uri": "https://localhost:8080/",
          "height": 472
        },
        "id": "D3JWE9sZONkT",
        "outputId": "5988aca6-d8e2-45bd-f085-1b4189cc048b"
      },
      "execution_count": 46,
      "outputs": [
        {
          "output_type": "display_data",
          "data": {
            "text/plain": [
              "<Figure size 640x480 with 1 Axes>"
            ],
            "image/png": "[encoded data removed]"
          },
          "metadata": {}
        }
      ]
    },
    {
      "cell_type": "markdown",
      "source": [
        "Now, let's see if a scatterplot indicates a relationship between Age and Menstrual Cycle length in our dataset."
      ],
      "metadata": {
        "id": "TeGeFsBaQ461"
      }
    },
    {
      "cell_type": "code",
      "source": [
        "sns.scatterplot(data = clean_df, x = \"Age\", y = \"LengthofCycle\")\n",
        "sns.regplot(data = clean_df, x = \"Age\", y = \"LengthofCycle\", color = \".3\", line_kws=dict(color=\"r\"))\n",
        "plt.xlabel(\"Age (in years)\") # change x-axis label\n",
        "plt.ylabel(\"Length of Menstrual Cycle (days)\") # change y-axis label\n",
        "plt.title(\"Length of Menstrual Cycle by Age\") # change title\n",
        "plt.show()"
      ],
      "metadata": {
        "colab": {
          "base_uri": "https://localhost:8080/",
          "height": 472
        },
        "id": "Sqosyv3NQ4du",
        "outputId": "caa8c740-2bc3-45f4-f397-9c611d24a04f"
      },
      "execution_count": 47,
      "outputs": [
        {
          "output_type": "display_data",
          "data": {
            "text/plain": [
              "<Figure size 640x480 with 1 Axes>"
            ],
            "image/png": "[encoded data removed]"
          },
          "metadata": {}
        }
      ]
    },
    {
      "cell_type": "markdown",
      "source": [
        "The above plot displays a very slight negative linear relationship (negative slope), indicating that as age increases, the length of one's menstrual cycle decreases.\n",
        "\n",
        "This is represented in past research, which states that the length of menstrual cycles tends to decrease as people age, until they reach ages over 50 years old, wherein average cycle length increases.\n",
        "\n",
        "Given that the current sample's maximum age is only 43, this increase in length later in life is not represented in this dataset."
      ],
      "metadata": {
        "id": "oTNk4XotS-YR"
      }
    },
    {
      "cell_type": "markdown",
      "source": [
        "# Statistical analysis"
      ],
      "metadata": {
        "id": "KSVhWPDU6Cv4"
      }
    },
    {
      "cell_type": "markdown",
      "source": [
        "## Analysis of relationship between demographic variables and cycle length"
      ],
      "metadata": {
        "id": "bokblbfY422N"
      }
    },
    {
      "cell_type": "code",
      "source": [
        "# # Importing library\n",
        "# from scipy.stats import f_oneway\n",
        "\n",
        "# # Conduct the one-way ANOVA\n",
        "# f_oneway(performance1, performance2, performance3, performance4)"
      ],
      "metadata": {
        "id": "9IkTulT349aG"
      },
      "execution_count": 48,
      "outputs": []
    },
    {
      "cell_type": "markdown",
      "source": [
        "### Correlation matrix"
      ],
      "metadata": {
        "id": "uGw42U6c6HhF"
      }
    },
    {
      "cell_type": "markdown",
      "source": [
        "With seaborn's heatmap function, we can create a correlation matrix to see how the demographic variable BMI and Age relate to our main outcome variable CycleLength."
      ],
      "metadata": {
        "id": "GomNrKh26Uu4"
      }
    },
    {
      "cell_type": "code",
      "source": [
        "# create correlation table between variables\n",
        "corr = clean_df[['LengthofCycle', 'BMI', 'Age']].corr()\n",
        "\n",
        "# plot the correlation matrix as a heatmap\n",
        "plt.figure(figsize=(8, 6))\n",
        "sns.heatmap(corr, annot=True, cmap='coolwarm', fmt=\".2f\")\n",
        "plt.title('Correlation Matrix')\n",
        "plt.show()"
      ],
      "metadata": {
        "colab": {
          "base_uri": "https://localhost:8080/",
          "height": 545
        },
        "id": "500iz20kBxfI",
        "outputId": "0fb718f9-44ee-41a8-e63f-ade60537c5db"
      },
      "execution_count": 49,
      "outputs": [
        {
          "output_type": "display_data",
          "data": {
            "text/plain": [
              "<Figure size 800x600 with 2 Axes>"
            ],
            "image/png": "[encoded data removed]"
          },
          "metadata": {}
        }
      ]
    },
    {
      "cell_type": "markdown",
      "source": [
        "Despite the fact that descriptive statistical analysis suggested a difference among the menstrual cycle lengths of women of different ages and BMI scores, the above correlation matrix indicates that there are no significant relationships between these demographic variables and our key outcome variable.  "
      ],
      "metadata": {
        "id": "5Tw07bZCIZpk"
      }
    },
    {
      "cell_type": "markdown",
      "source": [
        "# Grouping CycleNumber columns by threes"
      ],
      "metadata": {
        "id": "PVkLeE8QL4bF"
      }
    },
    {
      "cell_type": "markdown",
      "source": [
        "In order to pivot our clean_df DataFrame into a new DataFrame wherein every row is a single client (ClientID) and there is a column for every CycleNumber, we need to first create a new column, ClientCycleID, which contains a unique identifier for each row. This will allow us to use ClientID as the index in our clean_df.pivot_table() function.\n",
        "\n",
        "\n",
        "Each row value within the newly created column \"ClientCycleID\" is a combination of that row's \"ClientID\" and \"CycleNumber\" values, written as a string value."
      ],
      "metadata": {
        "id": "Yakrp68iQOEu"
      }
    },
    {
      "cell_type": "code",
      "source": [
        "# create a new column \"ClientCycleID\" by combining \"ClientID\" and \"CycleNumber\"\n",
        "clean_df[\"ClientCycleID\"] = clean_df[\"ClientID\"].astype(str) + \"_\" + clean_df[\"CycleNumber\"].astype(str)\n",
        "\n",
        "# shift newly created \"ClientCycleID\" column to front of clean_df DataFrame\n",
        "# -----------------------------------------\n",
        "first_column = clean_df.pop(\"ClientCycleID\")\n",
        "# insert column using insert(position,column_name, first_column) function\n",
        "clean_df.insert(0, \"ClientCycleID\", first_column)\n",
        "\n",
        "# clean_df.head()\n",
        "# clean_df.shape # 1665, 13"
      ],
      "metadata": {
        "id": "fPM2pqLXPWxj"
      },
      "execution_count": 50,
      "outputs": []
    },
    {
      "cell_type": "markdown",
      "source": [
        "Now we can create that new DataFrame mentioned previously, where every row is a single ClientID and there is a column for every CycleNumber.\n",
        "\n"
      ],
      "metadata": {
        "id": "8oA-R4FXWFWW"
      }
    },
    {
      "cell_type": "code",
      "source": [
        "# wide_df = clean_df.pivot(index = \"ClientID\", columns = \"CycleNumber\", values = \"LengthofCycle\")\n",
        "\n",
        "wide_df = clean_df.pivot_table(\n",
        "    index = \"ClientID\", # index = every row will have one ClientID\n",
        "    columns = \"CycleNumber\", # columns = every CycleNumber will have its own column\n",
        "    values = \"LengthofCycle\" # values = values in each cell will be from the LengthofCycle column\n",
        ")\n",
        "\n",
        "wide_df.head()\n",
        "\n",
        "# wide_df.shape # 159 rows, 45 columns\n",
        "\n",
        "# checking work\n",
        "# clean_df[clean_df[\"ClientID\"] == \"nfp8020\"]"
      ],
      "metadata": {
        "colab": {
          "base_uri": "https://localhost:8080/",
          "height": 267
        },
        "id": "FEfMNsHtL9yy",
        "outputId": "2ec51476-5628-4be2-b954-fc86f524e953"
      },
      "execution_count": 51,
      "outputs": [
        {
          "output_type": "execute_result",
          "data": {
            "text/plain": [
              "CycleNumber    1     2     3     4     5     6     7     8     9     10  ...  \\\n",
              "ClientID                                                                 ...   \n",
              "nfp8020      27.0  31.0  27.0  28.0  27.0  27.0  27.0  25.0  24.0  18.0  ...   \n",
              "nfp8024      28.0  30.0  29.0  26.0  31.0  27.0  29.0  34.0  27.0  28.0  ...   \n",
              "nfp8026      25.0  30.0  26.0  27.0  28.0  30.0   NaN   NaN   NaN   NaN  ...   \n",
              "nfp8030      29.0  29.0  26.0  25.0  29.0  23.0  26.0  25.0  30.0  27.0  ...   \n",
              "nfp8031      27.0  27.0  28.0  27.0  27.0  29.0  28.0  27.0  26.0  28.0  ...   \n",
              "\n",
              "CycleNumber  36  37  38  39  40  41  42  43  44  45  \n",
              "ClientID                                             \n",
              "nfp8020     NaN NaN NaN NaN NaN NaN NaN NaN NaN NaN  \n",
              "nfp8024     NaN NaN NaN NaN NaN NaN NaN NaN NaN NaN  \n",
              "nfp8026     NaN NaN NaN NaN NaN NaN NaN NaN NaN NaN  \n",
              "nfp8030     NaN NaN NaN NaN NaN NaN NaN NaN NaN NaN  \n",
              "nfp8031     NaN NaN NaN NaN NaN NaN NaN NaN NaN NaN  \n",
              "\n",
              "[5 rows x 45 columns]"
            ],
            "text/html": [
              "\n",
              "  <div id=\"df-9a191a9e-2245-4d42-ad35-d2d5cde1522a\" class=\"colab-df-container\">\n",
              "    <div>\n",
              "<style scoped>\n",
              "    .dataframe tbody tr th:only-of-type {\n",
              "        vertical-align: middle;\n",
              "    }\n",
              "\n",
              "    .dataframe tbody tr th {\n",
              "        vertical-align: top;\n",
              "    }\n",
              "\n",
              "    .dataframe thead th {\n",
              "        text-align: right;\n",
              "    }\n",
              "</style>\n",
              "<table border=\"1\" class=\"dataframe\">\n",
              "  <thead>\n",
              "    <tr style=\"text-align: right;\">\n",
              "      <th>CycleNumber</th>\n",
              "      <th>1</th>\n",
              "      <th>2</th>\n",
              "      <th>3</th>\n",
              "      <th>4</th>\n",
              "      <th>5</th>\n",
              "      <th>6</th>\n",
              "      <th>7</th>\n",
              "      <th>8</th>\n",
              "      <th>9</th>\n",
              "      <th>10</th>\n",
              "      <th>...</th>\n",
              "      <th>36</th>\n",
              "      <th>37</th>\n",
              "      <th>38</th>\n",
              "      <th>39</th>\n",
              "      <th>40</th>\n",
              "      <th>41</th>\n",
              "      <th>42</th>\n",
              "      <th>43</th>\n",
              "      <th>44</th>\n",
              "      <th>45</th>\n",
              "    </tr>\n",
              "    <tr>\n",
              "      <th>ClientID</th>\n",
              "      <th></th>\n",
              "      <th></th>\n",
              "      <th></th>\n",
              "      <th></th>\n",
              "      <th></th>\n",
              "      <th></th>\n",
              "      <th></th>\n",
              "      <th></th>\n",
              "      <th></th>\n",
              "      <th></th>\n",
              "      <th></th>\n",
              "      <th></th>\n",
              "      <th></th>\n",
              "      <th></th>\n",
              "      <th></th>\n",
              "      <th></th>\n",
              "      <th></th>\n",
              "      <th></th>\n",
              "      <th></th>\n",
              "      <th></th>\n",
              "      <th></th>\n",
              "    </tr>\n",
              "  </thead>\n",
              "  <tbody>\n",
              "    <tr>\n",
              "      <th>nfp8020</th>\n",
              "      <td>27.0</td>\n",
              "      <td>31.0</td>\n",
              "      <td>27.0</td>\n",
              "      <td>28.0</td>\n",
              "      <td>27.0</td>\n",
              "      <td>27.0</td>\n",
              "      <td>27.0</td>\n",
              "      <td>25.0</td>\n",
              "      <td>24.0</td>\n",
              "      <td>18.0</td>\n",
              "      <td>...</td>\n",
              "      <td>NaN</td>\n",
              "      <td>NaN</td>\n",
              "      <td>NaN</td>\n",
              "      <td>NaN</td>\n",
              "      <td>NaN</td>\n",
              "      <td>NaN</td>\n",
              "      <td>NaN</td>\n",
              "      <td>NaN</td>\n",
              "      <td>NaN</td>\n",
              "      <td>NaN</td>\n",
              "    </tr>\n",
              "    <tr>\n",
              "      <th>nfp8024</th>\n",
              "      <td>28.0</td>\n",
              "      <td>30.0</td>\n",
              "      <td>29.0</td>\n",
              "      <td>26.0</td>\n",
              "      <td>31.0</td>\n",
              "      <td>27.0</td>\n",
              "      <td>29.0</td>\n",
              "      <td>34.0</td>\n",
              "      <td>27.0</td>\n",
              "      <td>28.0</td>\n",
              "      <td>...</td>\n",
              "      <td>NaN</td>\n",
              "      <td>NaN</td>\n",
              "      <td>NaN</td>\n",
              "      <td>NaN</td>\n",
              "      <td>NaN</td>\n",
              "      <td>NaN</td>\n",
              "      <td>NaN</td>\n",
              "      <td>NaN</td>\n",
              "      <td>NaN</td>\n",
              "      <td>NaN</td>\n",
              "    </tr>\n",
              "    <tr>\n",
              "      <th>nfp8026</th>\n",
              "      <td>25.0</td>\n",
              "      <td>30.0</td>\n",
              "      <td>26.0</td>\n",
              "      <td>27.0</td>\n",
              "      <td>28.0</td>\n",
              "      <td>30.0</td>\n",
              "      <td>NaN</td>\n",
              "      <td>NaN</td>\n",
              "      <td>NaN</td>\n",
              "      <td>NaN</td>\n",
              "      <td>...</td>\n",
              "      <td>NaN</td>\n",
              "      <td>NaN</td>\n",
              "      <td>NaN</td>\n",
              "      <td>NaN</td>\n",
              "      <td>NaN</td>\n",
              "      <td>NaN</td>\n",
              "      <td>NaN</td>\n",
              "      <td>NaN</td>\n",
              "      <td>NaN</td>\n",
              "      <td>NaN</td>\n",
              "    </tr>\n",
              "    <tr>\n",
              "      <th>nfp8030</th>\n",
              "      <td>29.0</td>\n",
              "      <td>29.0</td>\n",
              "      <td>26.0</td>\n",
              "      <td>25.0</td>\n",
              "      <td>29.0</td>\n",
              "      <td>23.0</td>\n",
              "      <td>26.0</td>\n",
              "      <td>25.0</td>\n",
              "      <td>30.0</td>\n",
              "      <td>27.0</td>\n",
              "      <td>...</td>\n",
              "      <td>NaN</td>\n",
              "      <td>NaN</td>\n",
              "      <td>NaN</td>\n",
              "      <td>NaN</td>\n",
              "      <td>NaN</td>\n",
              "      <td>NaN</td>\n",
              "      <td>NaN</td>\n",
              "      <td>NaN</td>\n",
              "      <td>NaN</td>\n",
              "      <td>NaN</td>\n",
              "    </tr>\n",
              "    <tr>\n",
              "      <th>nfp8031</th>\n",
              "      <td>27.0</td>\n",
              "      <td>27.0</td>\n",
              "      <td>28.0</td>\n",
              "      <td>27.0</td>\n",
              "      <td>27.0</td>\n",
              "      <td>29.0</td>\n",
              "      <td>28.0</td>\n",
              "      <td>27.0</td>\n",
              "      <td>26.0</td>\n",
              "      <td>28.0</td>\n",
              "      <td>...</td>\n",
              "      <td>NaN</td>\n",
              "      <td>NaN</td>\n",
              "      <td>NaN</td>\n",
              "      <td>NaN</td>\n",
              "      <td>NaN</td>\n",
              "      <td>NaN</td>\n",
              "      <td>NaN</td>\n",
              "      <td>NaN</td>\n",
              "      <td>NaN</td>\n",
              "      <td>NaN</td>\n",
              "    </tr>\n",
              "  </tbody>\n",
              "</table>\n",
              "<p>5 rows × 45 columns</p>\n",
              "</div>\n",
              "    <div class=\"colab-df-buttons\">\n",
              "\n",
              "  <div class=\"colab-df-container\">\n",
              "    <button class=\"colab-df-convert\" onclick=\"convertToInteractive('df-9a191a9e-2245-4d42-ad35-d2d5cde1522a')\"\n",
              "            title=\"Convert this dataframe to an interactive table.\"\n",
              "            style=\"display:none;\">\n",
              "\n",
              "  <svg xmlns=\"http://www.w3.org/2000/svg\" height=\"24px\" viewBox=\"0 -960 960 960\">\n",
              "    <path d=\"M120-120v-720h720v720H120Zm60-500h600v-160H180v160Zm220 220h160v-160H400v160Zm0 220h160v-160H400v160ZM180-400h160v-160H180v160Zm440 0h160v-160H620v160ZM180-180h160v-160H180v160Zm440 0h160v-160H620v160Z\"/>\n",
              "  </svg>\n",
              "    </button>\n",
              "\n",
              "  <style>\n",
              "    .colab-df-container {\n",
              "      display:flex;\n",
              "      gap: 12px;\n",
              "    }\n",
              "\n",
              "    .colab-df-convert {\n",
              "      background-color: #E8F0FE;\n",
              "      border: none;\n",
              "      border-radius: 50%;\n",
              "      cursor: pointer;\n",
              "      display: none;\n",
              "      fill: #1967D2;\n",
              "      height: 32px;\n",
              "      padding: 0 0 0 0;\n",
              "      width: 32px;\n",
              "    }\n",
              "\n",
              "    .colab-df-convert:hover {\n",
              "      background-color: #E2EBFA;\n",
              "      box-shadow: 0px 1px 2px rgba(60, 64, 67, 0.3), 0px 1px 3px 1px rgba(60, 64, 67, 0.15);\n",
              "      fill: #174EA6;\n",
              "    }\n",
              "\n",
              "    .colab-df-buttons div {\n",
              "      margin-bottom: 4px;\n",
              "    }\n",
              "\n",
              "    [theme=dark] .colab-df-convert {\n",
              "      background-color: #3B4455;\n",
              "      fill: #D2E3FC;\n",
              "    }\n",
              "\n",
              "    [theme=dark] .colab-df-convert:hover {\n",
              "      background-color: #434B5C;\n",
              "      box-shadow: 0px 1px 3px 1px rgba(0, 0, 0, 0.15);\n",
              "      filter: drop-shadow(0px 1px 2px rgba(0, 0, 0, 0.3));\n",
              "      fill: #FFFFFF;\n",
              "    }\n",
              "  </style>\n",
              "\n",
              "    <script>\n",
              "      const buttonEl =\n",
              "        document.querySelector('#df-9a191a9e-2245-4d42-ad35-d2d5cde1522a button.colab-df-convert');\n",
              "      buttonEl.style.display =\n",
              "        google.colab.kernel.accessAllowed ? 'block' : 'none';\n",
              "\n",
              "      async function convertToInteractive(key) {\n",
              "        const element = document.querySelector('#df-9a191a9e-2245-4d42-ad35-d2d5cde1522a');\n",
              "        const dataTable =\n",
              "          await google.colab.kernel.invokeFunction('convertToInteractive',\n",
              "                                                    [key], {});\n",
              "        if (!dataTable) return;\n",
              "\n",
              "        const docLinkHtml = 'Like what you see? Visit the ' +\n",
              "          '<a target=\"_blank\" href=https://colab.research.google.com/notebooks/data_table.ipynb>data table notebook</a>'\n",
              "          + ' to learn more about interactive tables.';\n",
              "        element.innerHTML = '';\n",
              "        dataTable['output_type'] = 'display_data';\n",
              "        await google.colab.output.renderOutput(dataTable, element);\n",
              "        const docLink = document.createElement('div');\n",
              "        docLink.innerHTML = docLinkHtml;\n",
              "        element.appendChild(docLink);\n",
              "      }\n",
              "    </script>\n",
              "  </div>\n",
              "\n",
              "\n",
              "<div id=\"df-a7b6086f-8fe8-4993-990f-cab752107672\">\n",
              "  <button class=\"colab-df-quickchart\" onclick=\"quickchart('df-a7b6086f-8fe8-4993-990f-cab752107672')\"\n",
              "            title=\"Suggest charts\"\n",
              "            style=\"display:none;\">\n",
              "\n",
              "<svg xmlns=\"http://www.w3.org/2000/svg\" height=\"24px\"viewBox=\"0 0 24 24\"\n",
              "     width=\"24px\">\n",
              "    <g>\n",
              "        <path d=\"M19 3H5c-1.1 0-2 .9-2 2v14c0 1.1.9 2 2 2h14c1.1 0 2-.9 2-2V5c0-1.1-.9-2-2-2zM9 17H7v-7h2v7zm4 0h-2V7h2v10zm4 0h-2v-4h2v4z\"/>\n",
              "    </g>\n",
              "</svg>\n",
              "  </button>\n",
              "\n",
              "<style>\n",
              "  .colab-df-quickchart {\n",
              "      --bg-color: #E8F0FE;\n",
              "      --fill-color: #1967D2;\n",
              "      --hover-bg-color: #E2EBFA;\n",
              "      --hover-fill-color: #174EA6;\n",
              "      --disabled-fill-color: #AAA;\n",
              "      --disabled-bg-color: #DDD;\n",
              "  }\n",
              "\n",
              "  [theme=dark] .colab-df-quickchart {\n",
              "      --bg-color: #3B4455;\n",
              "      --fill-color: #D2E3FC;\n",
              "      --hover-bg-color: #434B5C;\n",
              "      --hover-fill-color: #FFFFFF;\n",
              "      --disabled-bg-color: #3B4455;\n",
              "      --disabled-fill-color: #666;\n",
              "  }\n",
              "\n",
              "  .colab-df-quickchart {\n",
              "    background-color: var(--bg-color);\n",
              "    border: none;\n",
              "    border-radius: 50%;\n",
              "    cursor: pointer;\n",
              "    display: none;\n",
              "    fill: var(--fill-color);\n",
              "    height: 32px;\n",
              "    padding: 0;\n",
              "    width: 32px;\n",
              "  }\n",
              "\n",
              "  .colab-df-quickchart:hover {\n",
              "    background-color: var(--hover-bg-color);\n",
              "    box-shadow: 0 1px 2px rgba(60, 64, 67, 0.3), 0 1px 3px 1px rgba(60, 64, 67, 0.15);\n",
              "    fill: var(--button-hover-fill-color);\n",
              "  }\n",
              "\n",
              "  .colab-df-quickchart-complete:disabled,\n",
              "  .colab-df-quickchart-complete:disabled:hover {\n",
              "    background-color: var(--disabled-bg-color);\n",
              "    fill: var(--disabled-fill-color);\n",
              "    box-shadow: none;\n",
              "  }\n",
              "\n",
              "  .colab-df-spinner {\n",
              "    border: 2px solid var(--fill-color);\n",
              "    border-color: transparent;\n",
              "    border-bottom-color: var(--fill-color);\n",
              "    animation:\n",
              "      spin 1s steps(1) infinite;\n",
              "  }\n",
              "\n",
              "  @keyframes spin {\n",
              "    0% {\n",
              "      border-color: transparent;\n",
              "      border-bottom-color: var(--fill-color);\n",
              "      border-left-color: var(--fill-color);\n",
              "    }\n",
              "    20% {\n",
              "      border-color: transparent;\n",
              "      border-left-color: var(--fill-color);\n",
              "      border-top-color: var(--fill-color);\n",
              "    }\n",
              "    30% {\n",
              "      border-color: transparent;\n",
              "      border-left-color: var(--fill-color);\n",
              "      border-top-color: var(--fill-color);\n",
              "      border-right-color: var(--fill-color);\n",
              "    }\n",
              "    40% {\n",
              "      border-color: transparent;\n",
              "      border-right-color: var(--fill-color);\n",
              "      border-top-color: var(--fill-color);\n",
              "    }\n",
              "    60% {\n",
              "      border-color: transparent;\n",
              "      border-right-color: var(--fill-color);\n",
              "    }\n",
              "    80% {\n",
              "      border-color: transparent;\n",
              "      border-right-color: var(--fill-color);\n",
              "      border-bottom-color: var(--fill-color);\n",
              "    }\n",
              "    90% {\n",
              "      border-color: transparent;\n",
              "      border-bottom-color: var(--fill-color);\n",
              "    }\n",
              "  }\n",
              "</style>\n",
              "\n",
              "  <script>\n",
              "    async function quickchart(key) {\n",
              "      const quickchartButtonEl =\n",
              "        document.querySelector('#' + key + ' button');\n",
              "      quickchartButtonEl.disabled = true;  // To prevent multiple clicks.\n",
              "      quickchartButtonEl.classList.add('colab-df-spinner');\n",
              "      try {\n",
              "        const charts = await google.colab.kernel.invokeFunction(\n",
              "            'suggestCharts', [key], {});\n",
              "      } catch (error) {\n",
              "        console.error('Error during call to suggestCharts:', error);\n",
              "      }\n",
              "      quickchartButtonEl.classList.remove('colab-df-spinner');\n",
              "      quickchartButtonEl.classList.add('colab-df-quickchart-complete');\n",
              "    }\n",
              "    (() => {\n",
              "      let quickchartButtonEl =\n",
              "        document.querySelector('#df-a7b6086f-8fe8-4993-990f-cab752107672 button');\n",
              "      quickchartButtonEl.style.display =\n",
              "        google.colab.kernel.accessAllowed ? 'block' : 'none';\n",
              "    })();\n",
              "  </script>\n",
              "</div>\n",
              "\n",
              "    </div>\n",
              "  </div>\n"
            ],
            "application/vnd.google.colaboratory.intrinsic+json": {
              "type": "dataframe"
            }
          },
          "metadata": {},
          "execution_count": 51
        }
      ]
    },
    {
      "cell_type": "code",
      "source": [
        "wide_df.columns"
      ],
      "metadata": {
        "colab": {
          "base_uri": "https://localhost:8080/"
        },
        "id": "wGW_4GwDDvJW",
        "outputId": "8ac089f8-2f85-4212-8cdf-fcbbd775340a"
      },
      "execution_count": 52,
      "outputs": [
        {
          "output_type": "execute_result",
          "data": {
            "text/plain": [
              "Index([ 1,  2,  3,  4,  5,  6,  7,  8,  9, 10, 11, 12, 13, 14, 15, 16, 17, 18,\n",
              "       19, 20, 21, 22, 23, 24, 25, 26, 27, 28, 29, 30, 31, 32, 33, 34, 35, 36,\n",
              "       37, 38, 39, 40, 41, 42, 43, 44, 45],\n",
              "      dtype='int64', name='CycleNumber')"
            ]
          },
          "metadata": {},
          "execution_count": 52
        }
      ]
    },
    {
      "cell_type": "code",
      "source": [
        "# create variable containing number of rows and columns in wide_df\n",
        "nrows = wide_df.shape[0]\n",
        "ncols = wide_df.shape[1]\n",
        "\n",
        "# # initialise an empty dataframe\n",
        "empty_df = pd.DataFrame({\n",
        "    \"Cycle 1\" : [] ,\n",
        "    \"Cycle 2\": [] ,\n",
        "    \"Cycle 3\": []\n",
        "}\n",
        ")\n",
        "\n",
        "for i in range(nrows):\n",
        "    row = wide_df.iloc[i] # grab the row\n",
        "    # iterate within the row\n",
        "    for j in range(ncols-2): # j will track the first 2\n",
        "        cycle_triplet = row.iloc[i : i + 3]\n",
        "        if cycle_triplet.shape[0] == 3 and cycle_triplet.notna().all(): # ensure we have a complete triplet with no missing values\n",
        "            new_row = pd.DataFrame([cycle_triplet.values], columns=[\"Cycle 1\", \"Cycle 2\", \"Cycle 3\"])\n",
        "            empty_df = pd.concat([empty_df, new_row], axis = 0, ignore_index=True)\n",
        "\n",
        "# checking work\n",
        "# empty_df.isnull().sum()"
      ],
      "metadata": {
        "id": "kUIEK38hKA2w"
      },
      "execution_count": 53,
      "outputs": []
    },
    {
      "cell_type": "code",
      "source": [
        "empty_df\n",
        "\n",
        "# 301 rows, 3 columns"
      ],
      "metadata": {
        "colab": {
          "base_uri": "https://localhost:8080/",
          "height": 423
        },
        "id": "fGVRrn2AMsdU",
        "outputId": "1ce5b8d3-3924-4c06-b664-c19fcfa653e2"
      },
      "execution_count": 54,
      "outputs": [
        {
          "output_type": "execute_result",
          "data": {
            "text/plain": [
              "     Cycle 1  Cycle 2  Cycle 3\n",
              "0       27.0     31.0     27.0\n",
              "1       27.0     31.0     27.0\n",
              "2       27.0     31.0     27.0\n",
              "3       27.0     31.0     27.0\n",
              "4       27.0     31.0     27.0\n",
              "..       ...      ...      ...\n",
              "296     29.0     28.0     29.0\n",
              "297     29.0     28.0     29.0\n",
              "298     29.0     28.0     29.0\n",
              "299     29.0     28.0     29.0\n",
              "300     29.0     28.0     29.0\n",
              "\n",
              "[301 rows x 3 columns]"
            ],
            "text/html": [
              "\n",
              "  <div id=\"df-f9fe7f3f-6624-4593-8ff8-9bf712c056bd\" class=\"colab-df-container\">\n",
              "    <div>\n",
              "<style scoped>\n",
              "    .dataframe tbody tr th:only-of-type {\n",
              "        vertical-align: middle;\n",
              "    }\n",
              "\n",
              "    .dataframe tbody tr th {\n",
              "        vertical-align: top;\n",
              "    }\n",
              "\n",
              "    .dataframe thead th {\n",
              "        text-align: right;\n",
              "    }\n",
              "</style>\n",
              "<table border=\"1\" class=\"dataframe\">\n",
              "  <thead>\n",
              "    <tr style=\"text-align: right;\">\n",
              "      <th></th>\n",
              "      <th>Cycle 1</th>\n",
              "      <th>Cycle 2</th>\n",
              "      <th>Cycle 3</th>\n",
              "    </tr>\n",
              "  </thead>\n",
              "  <tbody>\n",
              "    <tr>\n",
              "      <th>0</th>\n",
              "      <td>27.0</td>\n",
              "      <td>31.0</td>\n",
              "      <td>27.0</td>\n",
              "    </tr>\n",
              "    <tr>\n",
              "      <th>1</th>\n",
              "      <td>27.0</td>\n",
              "      <td>31.0</td>\n",
              "      <td>27.0</td>\n",
              "    </tr>\n",
              "    <tr>\n",
              "      <th>2</th>\n",
              "      <td>27.0</td>\n",
              "      <td>31.0</td>\n",
              "      <td>27.0</td>\n",
              "    </tr>\n",
              "    <tr>\n",
              "      <th>3</th>\n",
              "      <td>27.0</td>\n",
              "      <td>31.0</td>\n",
              "      <td>27.0</td>\n",
              "    </tr>\n",
              "    <tr>\n",
              "      <th>4</th>\n",
              "      <td>27.0</td>\n",
              "      <td>31.0</td>\n",
              "      <td>27.0</td>\n",
              "    </tr>\n",
              "    <tr>\n",
              "      <th>...</th>\n",
              "      <td>...</td>\n",
              "      <td>...</td>\n",
              "      <td>...</td>\n",
              "    </tr>\n",
              "    <tr>\n",
              "      <th>296</th>\n",
              "      <td>29.0</td>\n",
              "      <td>28.0</td>\n",
              "      <td>29.0</td>\n",
              "    </tr>\n",
              "    <tr>\n",
              "      <th>297</th>\n",
              "      <td>29.0</td>\n",
              "      <td>28.0</td>\n",
              "      <td>29.0</td>\n",
              "    </tr>\n",
              "    <tr>\n",
              "      <th>298</th>\n",
              "      <td>29.0</td>\n",
              "      <td>28.0</td>\n",
              "      <td>29.0</td>\n",
              "    </tr>\n",
              "    <tr>\n",
              "      <th>299</th>\n",
              "      <td>29.0</td>\n",
              "      <td>28.0</td>\n",
              "      <td>29.0</td>\n",
              "    </tr>\n",
              "    <tr>\n",
              "      <th>300</th>\n",
              "      <td>29.0</td>\n",
              "      <td>28.0</td>\n",
              "      <td>29.0</td>\n",
              "    </tr>\n",
              "  </tbody>\n",
              "</table>\n",
              "<p>301 rows × 3 columns</p>\n",
              "</div>\n",
              "    <div class=\"colab-df-buttons\">\n",
              "\n",
              "  <div class=\"colab-df-container\">\n",
              "    <button class=\"colab-df-convert\" onclick=\"convertToInteractive('df-f9fe7f3f-6624-4593-8ff8-9bf712c056bd')\"\n",
              "            title=\"Convert this dataframe to an interactive table.\"\n",
              "            style=\"display:none;\">\n",
              "\n",
              "  <svg xmlns=\"http://www.w3.org/2000/svg\" height=\"24px\" viewBox=\"0 -960 960 960\">\n",
              "    <path d=\"M120-120v-720h720v720H120Zm60-500h600v-160H180v160Zm220 220h160v-160H400v160Zm0 220h160v-160H400v160ZM180-400h160v-160H180v160Zm440 0h160v-160H620v160ZM180-180h160v-160H180v160Zm440 0h160v-160H620v160Z\"/>\n",
              "  </svg>\n",
              "    </button>\n",
              "\n",
              "  <style>\n",
              "    .colab-df-container {\n",
              "      display:flex;\n",
              "      gap: 12px;\n",
              "    }\n",
              "\n",
              "    .colab-df-convert {\n",
              "      background-color: #E8F0FE;\n",
              "      border: none;\n",
              "      border-radius: 50%;\n",
              "      cursor: pointer;\n",
              "      display: none;\n",
              "      fill: #1967D2;\n",
              "      height: 32px;\n",
              "      padding: 0 0 0 0;\n",
              "      width: 32px;\n",
              "    }\n",
              "\n",
              "    .colab-df-convert:hover {\n",
              "      background-color: #E2EBFA;\n",
              "      box-shadow: 0px 1px 2px rgba(60, 64, 67, 0.3), 0px 1px 3px 1px rgba(60, 64, 67, 0.15);\n",
              "      fill: #174EA6;\n",
              "    }\n",
              "\n",
              "    .colab-df-buttons div {\n",
              "      margin-bottom: 4px;\n",
              "    }\n",
              "\n",
              "    [theme=dark] .colab-df-convert {\n",
              "      background-color: #3B4455;\n",
              "      fill: #D2E3FC;\n",
              "    }\n",
              "\n",
              "    [theme=dark] .colab-df-convert:hover {\n",
              "      background-color: #434B5C;\n",
              "      box-shadow: 0px 1px 3px 1px rgba(0, 0, 0, 0.15);\n",
              "      filter: drop-shadow(0px 1px 2px rgba(0, 0, 0, 0.3));\n",
              "      fill: #FFFFFF;\n",
              "    }\n",
              "  </style>\n",
              "\n",
              "    <script>\n",
              "      const buttonEl =\n",
              "        document.querySelector('#df-f9fe7f3f-6624-4593-8ff8-9bf712c056bd button.colab-df-convert');\n",
              "      buttonEl.style.display =\n",
              "        google.colab.kernel.accessAllowed ? 'block' : 'none';\n",
              "\n",
              "      async function convertToInteractive(key) {\n",
              "        const element = document.querySelector('#df-f9fe7f3f-6624-4593-8ff8-9bf712c056bd');\n",
              "        const dataTable =\n",
              "          await google.colab.kernel.invokeFunction('convertToInteractive',\n",
              "                                                    [key], {});\n",
              "        if (!dataTable) return;\n",
              "\n",
              "        const docLinkHtml = 'Like what you see? Visit the ' +\n",
              "          '<a target=\"_blank\" href=https://colab.research.google.com/notebooks/data_table.ipynb>data table notebook</a>'\n",
              "          + ' to learn more about interactive tables.';\n",
              "        element.innerHTML = '';\n",
              "        dataTable['output_type'] = 'display_data';\n",
              "        await google.colab.output.renderOutput(dataTable, element);\n",
              "        const docLink = document.createElement('div');\n",
              "        docLink.innerHTML = docLinkHtml;\n",
              "        element.appendChild(docLink);\n",
              "      }\n",
              "    </script>\n",
              "  </div>\n",
              "\n",
              "\n",
              "<div id=\"df-51986a58-0989-4fac-a329-fd02a95f4dd7\">\n",
              "  <button class=\"colab-df-quickchart\" onclick=\"quickchart('df-51986a58-0989-4fac-a329-fd02a95f4dd7')\"\n",
              "            title=\"Suggest charts\"\n",
              "            style=\"display:none;\">\n",
              "\n",
              "<svg xmlns=\"http://www.w3.org/2000/svg\" height=\"24px\"viewBox=\"0 0 24 24\"\n",
              "     width=\"24px\">\n",
              "    <g>\n",
              "        <path d=\"M19 3H5c-1.1 0-2 .9-2 2v14c0 1.1.9 2 2 2h14c1.1 0 2-.9 2-2V5c0-1.1-.9-2-2-2zM9 17H7v-7h2v7zm4 0h-2V7h2v10zm4 0h-2v-4h2v4z\"/>\n",
              "    </g>\n",
              "</svg>\n",
              "  </button>\n",
              "\n",
              "<style>\n",
              "  .colab-df-quickchart {\n",
              "      --bg-color: #E8F0FE;\n",
              "      --fill-color: #1967D2;\n",
              "      --hover-bg-color: #E2EBFA;\n",
              "      --hover-fill-color: #174EA6;\n",
              "      --disabled-fill-color: #AAA;\n",
              "      --disabled-bg-color: #DDD;\n",
              "  }\n",
              "\n",
              "  [theme=dark] .colab-df-quickchart {\n",
              "      --bg-color: #3B4455;\n",
              "      --fill-color: #D2E3FC;\n",
              "      --hover-bg-color: #434B5C;\n",
              "      --hover-fill-color: #FFFFFF;\n",
              "      --disabled-bg-color: #3B4455;\n",
              "      --disabled-fill-color: #666;\n",
              "  }\n",
              "\n",
              "  .colab-df-quickchart {\n",
              "    background-color: var(--bg-color);\n",
              "    border: none;\n",
              "    border-radius: 50%;\n",
              "    cursor: pointer;\n",
              "    display: none;\n",
              "    fill: var(--fill-color);\n",
              "    height: 32px;\n",
              "    padding: 0;\n",
              "    width: 32px;\n",
              "  }\n",
              "\n",
              "  .colab-df-quickchart:hover {\n",
              "    background-color: var(--hover-bg-color);\n",
              "    box-shadow: 0 1px 2px rgba(60, 64, 67, 0.3), 0 1px 3px 1px rgba(60, 64, 67, 0.15);\n",
              "    fill: var(--button-hover-fill-color);\n",
              "  }\n",
              "\n",
              "  .colab-df-quickchart-complete:disabled,\n",
              "  .colab-df-quickchart-complete:disabled:hover {\n",
              "    background-color: var(--disabled-bg-color);\n",
              "    fill: var(--disabled-fill-color);\n",
              "    box-shadow: none;\n",
              "  }\n",
              "\n",
              "  .colab-df-spinner {\n",
              "    border: 2px solid var(--fill-color);\n",
              "    border-color: transparent;\n",
              "    border-bottom-color: var(--fill-color);\n",
              "    animation:\n",
              "      spin 1s steps(1) infinite;\n",
              "  }\n",
              "\n",
              "  @keyframes spin {\n",
              "    0% {\n",
              "      border-color: transparent;\n",
              "      border-bottom-color: var(--fill-color);\n",
              "      border-left-color: var(--fill-color);\n",
              "    }\n",
              "    20% {\n",
              "      border-color: transparent;\n",
              "      border-left-color: var(--fill-color);\n",
              "      border-top-color: var(--fill-color);\n",
              "    }\n",
              "    30% {\n",
              "      border-color: transparent;\n",
              "      border-left-color: var(--fill-color);\n",
              "      border-top-color: var(--fill-color);\n",
              "      border-right-color: var(--fill-color);\n",
              "    }\n",
              "    40% {\n",
              "      border-color: transparent;\n",
              "      border-right-color: var(--fill-color);\n",
              "      border-top-color: var(--fill-color);\n",
              "    }\n",
              "    60% {\n",
              "      border-color: transparent;\n",
              "      border-right-color: var(--fill-color);\n",
              "    }\n",
              "    80% {\n",
              "      border-color: transparent;\n",
              "      border-right-color: var(--fill-color);\n",
              "      border-bottom-color: var(--fill-color);\n",
              "    }\n",
              "    90% {\n",
              "      border-color: transparent;\n",
              "      border-bottom-color: var(--fill-color);\n",
              "    }\n",
              "  }\n",
              "</style>\n",
              "\n",
              "  <script>\n",
              "    async function quickchart(key) {\n",
              "      const quickchartButtonEl =\n",
              "        document.querySelector('#' + key + ' button');\n",
              "      quickchartButtonEl.disabled = true;  // To prevent multiple clicks.\n",
              "      quickchartButtonEl.classList.add('colab-df-spinner');\n",
              "      try {\n",
              "        const charts = await google.colab.kernel.invokeFunction(\n",
              "            'suggestCharts', [key], {});\n",
              "      } catch (error) {\n",
              "        console.error('Error during call to suggestCharts:', error);\n",
              "      }\n",
              "      quickchartButtonEl.classList.remove('colab-df-spinner');\n",
              "      quickchartButtonEl.classList.add('colab-df-quickchart-complete');\n",
              "    }\n",
              "    (() => {\n",
              "      let quickchartButtonEl =\n",
              "        document.querySelector('#df-51986a58-0989-4fac-a329-fd02a95f4dd7 button');\n",
              "      quickchartButtonEl.style.display =\n",
              "        google.colab.kernel.accessAllowed ? 'block' : 'none';\n",
              "    })();\n",
              "  </script>\n",
              "</div>\n",
              "\n",
              "  <div id=\"id_b9586a2e-7d45-435f-b735-bc5351bcd946\">\n",
              "    <style>\n",
              "      .colab-df-generate {\n",
              "        background-color: #E8F0FE;\n",
              "        border: none;\n",
              "        border-radius: 50%;\n",
              "        cursor: pointer;\n",
              "        display: none;\n",
              "        fill: #1967D2;\n",
              "        height: 32px;\n",
              "        padding: 0 0 0 0;\n",
              "        width: 32px;\n",
              "      }\n",
              "\n",
              "      .colab-df-generate:hover {\n",
              "        background-color: #E2EBFA;\n",
              "        box-shadow: 0px 1px 2px rgba(60, 64, 67, 0.3), 0px 1px 3px 1px rgba(60, 64, 67, 0.15);\n",
              "        fill: #174EA6;\n",
              "      }\n",
              "\n",
              "      [theme=dark] .colab-df-generate {\n",
              "        background-color: #3B4455;\n",
              "        fill: #D2E3FC;\n",
              "      }\n",
              "\n",
              "      [theme=dark] .colab-df-generate:hover {\n",
              "        background-color: #434B5C;\n",
              "        box-shadow: 0px 1px 3px 1px rgba(0, 0, 0, 0.15);\n",
              "        filter: drop-shadow(0px 1px 2px rgba(0, 0, 0, 0.3));\n",
              "        fill: #FFFFFF;\n",
              "      }\n",
              "    </style>\n",
              "    <button class=\"colab-df-generate\" onclick=\"generateWithVariable('empty_df')\"\n",
              "            title=\"Generate code using this dataframe.\"\n",
              "            style=\"display:none;\">\n",
              "\n",
              "  <svg xmlns=\"http://www.w3.org/2000/svg\" height=\"24px\"viewBox=\"0 0 24 24\"\n",
              "       width=\"24px\">\n",
              "    <path d=\"M7,19H8.4L18.45,9,17,7.55,7,17.6ZM5,21V16.75L18.45,3.32a2,2,0,0,1,2.83,0l1.4,1.43a1.91,1.91,0,0,1,.58,1.4,1.91,1.91,0,0,1-.58,1.4L9.25,21ZM18.45,9,17,7.55Zm-12,3A5.31,5.31,0,0,0,4.9,8.1,5.31,5.31,0,0,0,1,6.5,5.31,5.31,0,0,0,4.9,4.9,5.31,5.31,0,0,0,6.5,1,5.31,5.31,0,0,0,8.1,4.9,5.31,5.31,0,0,0,12,6.5,5.46,5.46,0,0,0,6.5,12Z\"/>\n",
              "  </svg>\n",
              "    </button>\n",
              "    <script>\n",
              "      (() => {\n",
              "      const buttonEl =\n",
              "        document.querySelector('#id_b9586a2e-7d45-435f-b735-bc5351bcd946 button.colab-df-generate');\n",
              "      buttonEl.style.display =\n",
              "        google.colab.kernel.accessAllowed ? 'block' : 'none';\n",
              "\n",
              "      buttonEl.onclick = () => {\n",
              "        google.colab.notebook.generateWithVariable('empty_df');\n",
              "      }\n",
              "      })();\n",
              "    </script>\n",
              "  </div>\n",
              "\n",
              "    </div>\n",
              "  </div>\n"
            ],
            "application/vnd.google.colaboratory.intrinsic+json": {
              "type": "dataframe",
              "variable_name": "empty_df",
              "summary": "{\n  \"name\": \"empty_df\",\n  \"rows\": 301,\n  \"fields\": [\n    {\n      \"column\": \"Cycle 1\",\n      \"properties\": {\n        \"dtype\": \"number\",\n        \"std\": 3.115399538697127,\n        \"min\": 25.0,\n        \"max\": 35.0,\n        \"num_unique_values\": 6,\n        \"samples\": [\n          27.0,\n          30.0,\n          29.0\n        ],\n        \"semantic_type\": \"\",\n        \"description\": \"\"\n      }\n    },\n    {\n      \"column\": \"Cycle 2\",\n      \"properties\": {\n        \"dtype\": \"number\",\n        \"std\": 1.843650622826252,\n        \"min\": 27.0,\n        \"max\": 33.0,\n        \"num_unique_values\": 5,\n        \"samples\": [\n          29.0,\n          28.0,\n          27.0\n        ],\n        \"semantic_type\": \"\",\n        \"description\": \"\"\n      }\n    },\n    {\n      \"column\": \"Cycle 3\",\n      \"properties\": {\n        \"dtype\": \"number\",\n        \"std\": 2.3250192011495905,\n        \"min\": 23.0,\n        \"max\": 31.0,\n        \"num_unique_values\": 6,\n        \"samples\": [\n          27.0,\n          26.0,\n          29.0\n        ],\n        \"semantic_type\": \"\",\n        \"description\": \"\"\n      }\n    }\n  ]\n}"
            }
          },
          "metadata": {},
          "execution_count": 54
        }
      ]
    },
    {
      "cell_type": "markdown",
      "source": [
        "# Saving files to Session Storage folder\n"
      ],
      "metadata": {
        "id": "uVAy0Jz7i5Sf"
      }
    },
    {
      "cell_type": "markdown",
      "source": [
        "## Create .zip folder"
      ],
      "metadata": {
        "id": "hHRZ4bTjlroy"
      }
    },
    {
      "cell_type": "code",
      "source": [
        "# create new folder in Colab session storage\n",
        "os.makedirs(\"final_project\", exist_ok = True)\n",
        "\n",
        "# FedCycleData071012.csv (original dataset)\n",
        "# ----------\n",
        "shutil.move(\"FedCycleData071012.csv\", \"final_project/\") # move file into final_project folder\n",
        "# / after folder name is required!!\n",
        "\n",
        "# df\n",
        "# ----------\n",
        "# write dataset to storage in .csv format\n",
        "df.to_csv(\"df.csv\", index = False)\n",
        "shutil.move(\"df.csv\", \"final_project/\") # move file into final_project folder\n",
        "\n",
        "# clean_DF\n",
        "# ----------\n",
        "# write dataset to storage in .csv format\n",
        "clean_df.to_csv(\"clean_df.csv\", index = False)\n",
        "shutil.move(\"clean_df.csv\", \"final_project/\") # move file into final_project folder\n",
        "\n",
        "# dems\n",
        "# ----------\n",
        "# write dataset to storage in .csv format\n",
        "dems.to_csv(\"dems.csv\", index = False)\n",
        "shutil.move(\"dems.csv\", \"final_project/\") # move file into final_project folder\n",
        "\n",
        "# wide_df\n",
        "# ----------\n",
        "# write dataset to storage in .csv format\n",
        "wide_df.to_csv(\"wide_df.csv\", index = False)\n",
        "shutil.move(\"wide_df.csv\", \"final_project/\") # move file into final_project folder\n",
        "\n",
        "# Final_Project.ipynb\n",
        "# ----------\n",
        "shutil.move(\"Final_Project.ipynb\", \"final_project/\") # move file into final_project folder"
      ],
      "metadata": {
        "colab": {
          "base_uri": "https://localhost:8080/",
          "height": 408
        },
        "id": "mqIuY3E6i-QW",
        "outputId": "8e96ab2c-ef9c-425a-d00c-baf2af7e16ff"
      },
      "execution_count": 55,
      "outputs": [
        {
          "output_type": "error",
          "ename": "FileNotFoundError",
          "evalue": "[Errno 2] No such file or directory: 'Final_Project.ipynb'",
          "traceback": [
            "\u001b[0;31m---------------------------------------------------------------------------\u001b[0m",
            "\u001b[0;31mFileNotFoundError\u001b[0m                         Traceback (most recent call last)",
            "\u001b[0;32m/usr/lib/python3.10/shutil.py\u001b[0m in \u001b[0;36mmove\u001b[0;34m(src, dst, copy_function)\u001b[0m\n\u001b[1;32m    815\u001b[0m     \u001b[0;32mtry\u001b[0m\u001b[0;34m:\u001b[0m\u001b[0;34m\u001b[0m\u001b[0;34m\u001b[0m\u001b[0m\n\u001b[0;32m--> 816\u001b[0;31m         \u001b[0mos\u001b[0m\u001b[0;34m.\u001b[0m\u001b[0mrename\u001b[0m\u001b[0;34m(\u001b[0m\u001b[0msrc\u001b[0m\u001b[0;34m,\u001b[0m \u001b[0mreal_dst\u001b[0m\u001b[0;34m)\u001b[0m\u001b[0;34m\u001b[0m\u001b[0;34m\u001b[0m\u001b[0m\n\u001b[0m\u001b[1;32m    817\u001b[0m     \u001b[0;32mexcept\u001b[0m \u001b[0mOSError\u001b[0m\u001b[0;34m:\u001b[0m\u001b[0;34m\u001b[0m\u001b[0;34m\u001b[0m\u001b[0m\n",
            "\u001b[0;31mFileNotFoundError\u001b[0m: [Errno 2] No such file or directory: 'Final_Project.ipynb' -> 'final_project/Final_Project.ipynb'",
            "\nDuring handling of the above exception, another exception occurred:\n",
            "\u001b[0;31mFileNotFoundError\u001b[0m                         Traceback (most recent call last)",
            "\u001b[0;32m<ipython-input-55-00461fb0e1cf>\u001b[0m in \u001b[0;36m<cell line: 35>\u001b[0;34m()\u001b[0m\n\u001b[1;32m     33\u001b[0m \u001b[0;31m# Final_Project.ipynb\u001b[0m\u001b[0;34m\u001b[0m\u001b[0;34m\u001b[0m\u001b[0m\n\u001b[1;32m     34\u001b[0m \u001b[0;31m# ----------\u001b[0m\u001b[0;34m\u001b[0m\u001b[0;34m\u001b[0m\u001b[0m\n\u001b[0;32m---> 35\u001b[0;31m \u001b[0mshutil\u001b[0m\u001b[0;34m.\u001b[0m\u001b[0mmove\u001b[0m\u001b[0;34m(\u001b[0m\u001b[0;34m\"Final_Project.ipynb\"\u001b[0m\u001b[0;34m,\u001b[0m \u001b[0;34m\"final_project/\"\u001b[0m\u001b[0;34m)\u001b[0m \u001b[0;31m# move file into final_project folder\u001b[0m\u001b[0;34m\u001b[0m\u001b[0;34m\u001b[0m\u001b[0m\n\u001b[0m",
            "\u001b[0;32m/usr/lib/python3.10/shutil.py\u001b[0m in \u001b[0;36mmove\u001b[0;34m(src, dst, copy_function)\u001b[0m\n\u001b[1;32m    834\u001b[0m             \u001b[0mrmtree\u001b[0m\u001b[0;34m(\u001b[0m\u001b[0msrc\u001b[0m\u001b[0;34m)\u001b[0m\u001b[0;34m\u001b[0m\u001b[0;34m\u001b[0m\u001b[0m\n\u001b[1;32m    835\u001b[0m         \u001b[0;32melse\u001b[0m\u001b[0;34m:\u001b[0m\u001b[0;34m\u001b[0m\u001b[0;34m\u001b[0m\u001b[0m\n\u001b[0;32m--> 836\u001b[0;31m             \u001b[0mcopy_function\u001b[0m\u001b[0;34m(\u001b[0m\u001b[0msrc\u001b[0m\u001b[0;34m,\u001b[0m \u001b[0mreal_dst\u001b[0m\u001b[0;34m)\u001b[0m\u001b[0;34m\u001b[0m\u001b[0;34m\u001b[0m\u001b[0m\n\u001b[0m\u001b[1;32m    837\u001b[0m             \u001b[0mos\u001b[0m\u001b[0;34m.\u001b[0m\u001b[0munlink\u001b[0m\u001b[0;34m(\u001b[0m\u001b[0msrc\u001b[0m\u001b[0;34m)\u001b[0m\u001b[0;34m\u001b[0m\u001b[0;34m\u001b[0m\u001b[0m\n\u001b[1;32m    838\u001b[0m     \u001b[0;32mreturn\u001b[0m \u001b[0mreal_dst\u001b[0m\u001b[0;34m\u001b[0m\u001b[0;34m\u001b[0m\u001b[0m\n",
            "\u001b[0;32m/usr/lib/python3.10/shutil.py\u001b[0m in \u001b[0;36mcopy2\u001b[0;34m(src, dst, follow_symlinks)\u001b[0m\n\u001b[1;32m    432\u001b[0m     \u001b[0;32mif\u001b[0m \u001b[0mos\u001b[0m\u001b[0;34m.\u001b[0m\u001b[0mpath\u001b[0m\u001b[0;34m.\u001b[0m\u001b[0misdir\u001b[0m\u001b[0;34m(\u001b[0m\u001b[0mdst\u001b[0m\u001b[0;34m)\u001b[0m\u001b[0;34m:\u001b[0m\u001b[0;34m\u001b[0m\u001b[0;34m\u001b[0m\u001b[0m\n\u001b[1;32m    433\u001b[0m         \u001b[0mdst\u001b[0m \u001b[0;34m=\u001b[0m \u001b[0mos\u001b[0m\u001b[0;34m.\u001b[0m\u001b[0mpath\u001b[0m\u001b[0;34m.\u001b[0m\u001b[0mjoin\u001b[0m\u001b[0;34m(\u001b[0m\u001b[0mdst\u001b[0m\u001b[0;34m,\u001b[0m \u001b[0mos\u001b[0m\u001b[0;34m.\u001b[0m\u001b[0mpath\u001b[0m\u001b[0;34m.\u001b[0m\u001b[0mbasename\u001b[0m\u001b[0;34m(\u001b[0m\u001b[0msrc\u001b[0m\u001b[0;34m)\u001b[0m\u001b[0;34m)\u001b[0m\u001b[0;34m\u001b[0m\u001b[0;34m\u001b[0m\u001b[0m\n\u001b[0;32m--> 434\u001b[0;31m     \u001b[0mcopyfile\u001b[0m\u001b[0;34m(\u001b[0m\u001b[0msrc\u001b[0m\u001b[0;34m,\u001b[0m \u001b[0mdst\u001b[0m\u001b[0;34m,\u001b[0m \u001b[0mfollow_symlinks\u001b[0m\u001b[0;34m=\u001b[0m\u001b[0mfollow_symlinks\u001b[0m\u001b[0;34m)\u001b[0m\u001b[0;34m\u001b[0m\u001b[0;34m\u001b[0m\u001b[0m\n\u001b[0m\u001b[1;32m    435\u001b[0m     \u001b[0mcopystat\u001b[0m\u001b[0;34m(\u001b[0m\u001b[0msrc\u001b[0m\u001b[0;34m,\u001b[0m \u001b[0mdst\u001b[0m\u001b[0;34m,\u001b[0m \u001b[0mfollow_symlinks\u001b[0m\u001b[0;34m=\u001b[0m\u001b[0mfollow_symlinks\u001b[0m\u001b[0;34m)\u001b[0m\u001b[0;34m\u001b[0m\u001b[0;34m\u001b[0m\u001b[0m\n\u001b[1;32m    436\u001b[0m     \u001b[0;32mreturn\u001b[0m \u001b[0mdst\u001b[0m\u001b[0;34m\u001b[0m\u001b[0;34m\u001b[0m\u001b[0m\n",
            "\u001b[0;32m/usr/lib/python3.10/shutil.py\u001b[0m in \u001b[0;36mcopyfile\u001b[0;34m(src, dst, follow_symlinks)\u001b[0m\n\u001b[1;32m    252\u001b[0m         \u001b[0mos\u001b[0m\u001b[0;34m.\u001b[0m\u001b[0msymlink\u001b[0m\u001b[0;34m(\u001b[0m\u001b[0mos\u001b[0m\u001b[0;34m.\u001b[0m\u001b[0mreadlink\u001b[0m\u001b[0;34m(\u001b[0m\u001b[0msrc\u001b[0m\u001b[0;34m)\u001b[0m\u001b[0;34m,\u001b[0m \u001b[0mdst\u001b[0m\u001b[0;34m)\u001b[0m\u001b[0;34m\u001b[0m\u001b[0;34m\u001b[0m\u001b[0m\n\u001b[1;32m    253\u001b[0m     \u001b[0;32melse\u001b[0m\u001b[0;34m:\u001b[0m\u001b[0;34m\u001b[0m\u001b[0;34m\u001b[0m\u001b[0m\n\u001b[0;32m--> 254\u001b[0;31m         \u001b[0;32mwith\u001b[0m \u001b[0mopen\u001b[0m\u001b[0;34m(\u001b[0m\u001b[0msrc\u001b[0m\u001b[0;34m,\u001b[0m \u001b[0;34m'rb'\u001b[0m\u001b[0;34m)\u001b[0m \u001b[0;32mas\u001b[0m \u001b[0mfsrc\u001b[0m\u001b[0;34m:\u001b[0m\u001b[0;34m\u001b[0m\u001b[0;34m\u001b[0m\u001b[0m\n\u001b[0m\u001b[1;32m    255\u001b[0m             \u001b[0;32mtry\u001b[0m\u001b[0;34m:\u001b[0m\u001b[0;34m\u001b[0m\u001b[0;34m\u001b[0m\u001b[0m\n\u001b[1;32m    256\u001b[0m                 \u001b[0;32mwith\u001b[0m \u001b[0mopen\u001b[0m\u001b[0;34m(\u001b[0m\u001b[0mdst\u001b[0m\u001b[0;34m,\u001b[0m \u001b[0;34m'wb'\u001b[0m\u001b[0;34m)\u001b[0m \u001b[0;32mas\u001b[0m \u001b[0mfdst\u001b[0m\u001b[0;34m:\u001b[0m\u001b[0;34m\u001b[0m\u001b[0;34m\u001b[0m\u001b[0m\n",
            "\u001b[0;31mFileNotFoundError\u001b[0m: [Errno 2] No such file or directory: 'Final_Project.ipynb'"
          ]
        }
      ]
    },
    {
      "cell_type": "code",
      "source": [
        "!zip -r /content/final_project.zip /content/final_project\n",
        "\n",
        "from google.colab import files\n",
        "files.download(\"/content/final_project.zip\")"
      ],
      "metadata": {
        "id": "Myfy6fYtluJi"
      },
      "execution_count": null,
      "outputs": []
    }
  ]
}
